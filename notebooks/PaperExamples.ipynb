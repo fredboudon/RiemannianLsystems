{
 "cells": [
  {
   "cell_type": "markdown",
   "id": "37ca78c6",
   "metadata": {},
   "source": [
    "<center>\n",
    "\n",
    "# Riemannian L-systems: Modeling growing forms in curved spaces\n",
    "\n",
    "## Christophe Godin<sup>1</sup> and Frédéric Boudon<sup>2,3</sup>\n",
    "</center>\n",
    "\n",
    "\n",
    "<center>\n",
    "<sup>1</sup>Laboratoire Reproduction et Développement des Plantes, Univ Lyon, ENS de Lyon, UCB Lyon1, CNRS,\n",
    "INRAE, Inria, F-69342 Lyon, France\n",
    "</center>\n",
    "\n",
    "<center>\n",
    "<sup>2</sup>CIRAD, UMR AGAP Institute, F-34398 Montpellier, France\n",
    "</center>\n",
    "<center>\n",
    "<sup>3</sup>UMR AGAP Institute, Univ. Montpellier, CIRAD, INRAE, Institute Agro, Montpellier, France\n",
    "</center>\n",
    "\n",
    "<center>\n",
    "christophe.godin@inria.fr, frederic.boudon@cirad.fr\n",
    "</center>"
   ]
  },
  {
   "cell_type": "markdown",
   "id": "d46242ad",
   "metadata": {},
   "source": [
    "## Abstract\n",
    "\n",
    "In the past 50 years, L-systems have been successfully used to model the development of filamentous and branching forms in biology. Their success is largely due to the fact that they rely on the mathematical notion of discrete rewriting systems, that in essence simply reflects the idea that the evolution of a structure results from the evolution of its individual components. This core property is reminiscent of how biological organisms develop and happens to be critical to model their growth. The formalism of L-systems has been developed to model the growth of forms in Euclidean 1-D, 2-D, or 3-D spaces. These spaces have the property to be flat and show no curvature anywhere. However, the growth of various forms or processes in biology takes place in curved spaces. This is for example the case of vein networks growing within curved leaf blades, of unicellular tubes, such as pollen tubes, growing on curved surfaces to fertilize distant ovules, of teeth patterns growing on folded epithelia of animals, of diffusion of chemical or mechanical signals at the surface of plant or animal tissues, etc. To model these growing forms in curved spaces, we thus developed further the theory of L-systems. In a first step we show that this extension can be carried out by integrating concepts of differential geometry in the notion of turtle geometry. We then illustrate how this extension can be applied to model and program the development of both mathematical and biological forms on curved surfaces embedded in our Euclidean space. We provide various examples applied to plant development. We finally show that this approach can be extended to more abstract spaces, called abstract Riemannian spaces, that are not embedded into any higher space, while being intrinsically curved. We suggest that this abstract extension can be used to provide a new approach for effective modeling of tropism phenomena and illustrate this idea on a few conceptual examples."
   ]
  },
  {
   "cell_type": "code",
   "execution_count": 1,
   "id": "e2906d33",
   "metadata": {
    "ExecuteTime": {
     "end_time": "2024-03-27T23:21:17.069808Z",
     "start_time": "2024-03-27T23:21:16.438538Z"
    },
    "tags": []
   },
   "outputs": [],
   "source": [
    "import pgljupyter\n",
    "from display import display_example, display_examples"
   ]
  },
  {
   "cell_type": "markdown",
   "id": "ad48356b",
   "metadata": {},
   "source": [
    "## 2. L-systems overview"
   ]
  },
  {
   "cell_type": "code",
   "execution_count": null,
   "id": "9dfdc1f8",
   "metadata": {
    "ExecuteTime": {
     "end_time": "2024-03-27T23:21:18.139418Z",
     "start_time": "2024-03-27T23:21:17.838782Z"
    },
    "tags": []
   },
   "outputs": [],
   "source": [
    "examples = [('Fig01-Listing1','Listing 1: Archimedean spiral'),\n",
    "            ('Fig01-Listing2','Listing 2: Random walk in 2-D')]\n",
    "\n",
    "display_examples(examples)"
   ]
  },
  {
   "cell_type": "code",
   "execution_count": null,
   "id": "d69b2aef",
   "metadata": {
    "ExecuteTime": {
     "end_time": "2024-03-27T23:20:17.774178Z",
     "start_time": "2024-03-27T23:20:17.738471Z"
    },
    "tags": []
   },
   "outputs": [],
   "source": [
    "examples = [('Fig01-Listing3.lpy','Listing 3: Fractal curve (von Koch flake) '),\n",
    "            ('Fig01-Listing4.lpy','Listing 4: Plant branching structure development')]\n",
    "\n",
    "display_examples(examples, animate=True)"
   ]
  },
  {
   "cell_type": "markdown",
   "id": "c343e928-0c26-48d6-a25f-3d974e48667f",
   "metadata": {},
   "source": [
    "## 3. Moving on parametric surfaces"
   ]
  },
  {
   "cell_type": "code",
   "execution_count": 2,
   "id": "aedaa684-5bc1-4279-aec2-c76e10d24cac",
   "metadata": {
    "tags": []
   },
   "outputs": [
    {
     "name": "stdout",
     "output_type": "stream",
     "text": [
      "\n",
      "on_value_changed BoolScalar('PARALLEL',True)\n"
     ]
    },
    {
     "data": {
      "text/markdown": [
       "\n",
       "### Figure 8: Holonomy and parallel transport using Riemannian Lsystems."
      ],
      "text/plain": [
       "<IPython.core.display.Markdown object>"
      ]
     },
     "metadata": {},
     "output_type": "display_data"
    },
    {
     "data": {
      "text/markdown": [
       "(a-b) parallel transport of a vector along a polygon made of geodesics. The vector is initially tangent to the first geodesic, then is perpendicular to the tangent on the second geodesic, then points backward on the third geodesic segment. (d-c) parallel transport of a vector not tangent to the first geodesic. The vector keeps a constant angle with the tangent vector, but this angle changes each time the turtle turns. (e-f) parallel transport along a curve that is not a geodesic: the angle between the transporting curve and the transported vector varies continuously."
      ],
      "text/plain": [
       "<IPython.core.display.Markdown object>"
      ]
     },
     "metadata": {},
     "output_type": "display_data"
    },
    {
     "data": {
      "text/markdown": [
       "#### Lsystem:"
      ],
      "text/plain": [
       "<IPython.core.display.Markdown object>"
      ]
     },
     "metadata": {},
     "output_type": "display_data"
    },
    {
     "data": {
      "text/html": [
       "<style>pre { line-height: 125%; }\n",
       "td.linenos .normal { color: inherit; background-color: transparent; padding-left: 5px; padding-right: 5px; }\n",
       "span.linenos { color: inherit; background-color: transparent; padding-left: 5px; padding-right: 5px; }\n",
       "td.linenos .special { color: #000000; background-color: #ffffc0; padding-left: 5px; padding-right: 5px; }\n",
       "span.linenos.special { color: #000000; background-color: #ffffc0; padding-left: 5px; padding-right: 5px; }\n",
       ".output_html .hll { background-color: #ffffcc }\n",
       ".output_html { background: #f8f8f8; }\n",
       ".output_html .c { color: #3D7B7B; font-style: italic } /* Comment */\n",
       ".output_html .err { border: 1px solid #FF0000 } /* Error */\n",
       ".output_html .k { color: #008000; font-weight: bold } /* Keyword */\n",
       ".output_html .o { color: #666666 } /* Operator */\n",
       ".output_html .ch { color: #3D7B7B; font-style: italic } /* Comment.Hashbang */\n",
       ".output_html .cm { color: #3D7B7B; font-style: italic } /* Comment.Multiline */\n",
       ".output_html .cp { color: #9C6500 } /* Comment.Preproc */\n",
       ".output_html .cpf { color: #3D7B7B; font-style: italic } /* Comment.PreprocFile */\n",
       ".output_html .c1 { color: #3D7B7B; font-style: italic } /* Comment.Single */\n",
       ".output_html .cs { color: #3D7B7B; font-style: italic } /* Comment.Special */\n",
       ".output_html .gd { color: #A00000 } /* Generic.Deleted */\n",
       ".output_html .ge { font-style: italic } /* Generic.Emph */\n",
       ".output_html .gr { color: #E40000 } /* Generic.Error */\n",
       ".output_html .gh { color: #000080; font-weight: bold } /* Generic.Heading */\n",
       ".output_html .gi { color: #008400 } /* Generic.Inserted */\n",
       ".output_html .go { color: #717171 } /* Generic.Output */\n",
       ".output_html .gp { color: #000080; font-weight: bold } /* Generic.Prompt */\n",
       ".output_html .gs { font-weight: bold } /* Generic.Strong */\n",
       ".output_html .gu { color: #800080; font-weight: bold } /* Generic.Subheading */\n",
       ".output_html .gt { color: #0044DD } /* Generic.Traceback */\n",
       ".output_html .kc { color: #008000; font-weight: bold } /* Keyword.Constant */\n",
       ".output_html .kd { color: #008000; font-weight: bold } /* Keyword.Declaration */\n",
       ".output_html .kn { color: #008000; font-weight: bold } /* Keyword.Namespace */\n",
       ".output_html .kp { color: #008000 } /* Keyword.Pseudo */\n",
       ".output_html .kr { color: #008000; font-weight: bold } /* Keyword.Reserved */\n",
       ".output_html .kt { color: #B00040 } /* Keyword.Type */\n",
       ".output_html .m { color: #666666 } /* Literal.Number */\n",
       ".output_html .s { color: #BA2121 } /* Literal.String */\n",
       ".output_html .na { color: #687822 } /* Name.Attribute */\n",
       ".output_html .nb { color: #008000 } /* Name.Builtin */\n",
       ".output_html .nc { color: #0000FF; font-weight: bold } /* Name.Class */\n",
       ".output_html .no { color: #880000 } /* Name.Constant */\n",
       ".output_html .nd { color: #AA22FF } /* Name.Decorator */\n",
       ".output_html .ni { color: #717171; font-weight: bold } /* Name.Entity */\n",
       ".output_html .ne { color: #CB3F38; font-weight: bold } /* Name.Exception */\n",
       ".output_html .nf { color: #0000FF } /* Name.Function */\n",
       ".output_html .nl { color: #767600 } /* Name.Label */\n",
       ".output_html .nn { color: #0000FF; font-weight: bold } /* Name.Namespace */\n",
       ".output_html .nt { color: #008000; font-weight: bold } /* Name.Tag */\n",
       ".output_html .nv { color: #19177C } /* Name.Variable */\n",
       ".output_html .ow { color: #AA22FF; font-weight: bold } /* Operator.Word */\n",
       ".output_html .w { color: #bbbbbb } /* Text.Whitespace */\n",
       ".output_html .mb { color: #666666 } /* Literal.Number.Bin */\n",
       ".output_html .mf { color: #666666 } /* Literal.Number.Float */\n",
       ".output_html .mh { color: #666666 } /* Literal.Number.Hex */\n",
       ".output_html .mi { color: #666666 } /* Literal.Number.Integer */\n",
       ".output_html .mo { color: #666666 } /* Literal.Number.Oct */\n",
       ".output_html .sa { color: #BA2121 } /* Literal.String.Affix */\n",
       ".output_html .sb { color: #BA2121 } /* Literal.String.Backtick */\n",
       ".output_html .sc { color: #BA2121 } /* Literal.String.Char */\n",
       ".output_html .dl { color: #BA2121 } /* Literal.String.Delimiter */\n",
       ".output_html .sd { color: #BA2121; font-style: italic } /* Literal.String.Doc */\n",
       ".output_html .s2 { color: #BA2121 } /* Literal.String.Double */\n",
       ".output_html .se { color: #AA5D1F; font-weight: bold } /* Literal.String.Escape */\n",
       ".output_html .sh { color: #BA2121 } /* Literal.String.Heredoc */\n",
       ".output_html .si { color: #A45A77; font-weight: bold } /* Literal.String.Interpol */\n",
       ".output_html .sx { color: #008000 } /* Literal.String.Other */\n",
       ".output_html .sr { color: #A45A77 } /* Literal.String.Regex */\n",
       ".output_html .s1 { color: #BA2121 } /* Literal.String.Single */\n",
       ".output_html .ss { color: #19177C } /* Literal.String.Symbol */\n",
       ".output_html .bp { color: #008000 } /* Name.Builtin.Pseudo */\n",
       ".output_html .fm { color: #0000FF } /* Name.Function.Magic */\n",
       ".output_html .vc { color: #19177C } /* Name.Variable.Class */\n",
       ".output_html .vg { color: #19177C } /* Name.Variable.Global */\n",
       ".output_html .vi { color: #19177C } /* Name.Variable.Instance */\n",
       ".output_html .vm { color: #19177C } /* Name.Variable.Magic */\n",
       ".output_html .il { color: #666666 } /* Literal.Number.Integer.Long */</style><div class=\"highlight\"><pre><span></span><span class=\"kn\">from</span> <span class=\"nn\">riemann_lsystem.surfaces</span> <span class=\"kn\">import</span> <span class=\"o\">*</span>\n",
       "<span class=\"kn\">from</span> <span class=\"nn\">riemann_lsystem.riemannianturtle</span> <span class=\"kn\">import</span> <span class=\"o\">*</span>\n",
       "<span class=\"kn\">from</span> <span class=\"nn\">math</span> <span class=\"kn\">import</span> <span class=\"n\">pi</span>\n",
       "\n",
       "<span class=\"o\">%</span><span class=\"n\">pastefile</span> <span class=\"o\">../</span><span class=\"n\">src</span><span class=\"o\">/</span><span class=\"n\">riemann_lsystem</span><span class=\"o\">/</span><span class=\"n\">riemannianrules</span><span class=\"o\">.</span><span class=\"n\">lpy</span>\n",
       "\n",
       "<span class=\"n\">R</span> <span class=\"o\">=</span> <span class=\"mi\">1</span>\n",
       "<span class=\"n\">alpha0</span> <span class=\"o\">=</span> <span class=\"mi\">0</span> <span class=\"k\">if</span> <span class=\"n\">PARALLEL</span> <span class=\"k\">else</span> <span class=\"o\">-</span><span class=\"mi\">30</span>     <span class=\"c1\"># in degrees</span>\n",
       "<span class=\"n\">Axiom</span><span class=\"p\">:</span> \n",
       "  <span class=\"n\">nproduce</span> <span class=\"n\">SetSpace</span><span class=\"p\">(</span><span class=\"n\">Sphere</span><span class=\"p\">(</span><span class=\"n\">R</span><span class=\"p\">))</span> <span class=\"n\">_</span><span class=\"p\">(</span><span class=\"mf\">0.01</span><span class=\"p\">)</span>\n",
       "  <span class=\"n\">nproduce</span> <span class=\"p\">[,(</span><span class=\"mi\">0</span><span class=\"p\">)</span> <span class=\"n\">PlotSpace</span><span class=\"p\">()</span> <span class=\"p\">]</span>\n",
       "  <span class=\"n\">nproduce</span> <span class=\"n\">InitTurtle</span><span class=\"p\">((</span><span class=\"mi\">0</span><span class=\"p\">,</span><span class=\"mi\">0</span><span class=\"p\">,</span><span class=\"mi\">0</span><span class=\"p\">,</span><span class=\"mi\">1</span><span class=\"p\">))</span>\n",
       "  <span class=\"n\">nproduce</span> <span class=\"n\">ParallelTransportReset</span>\n",
       "  <span class=\"n\">nproduce</span> <span class=\"p\">[,(</span><span class=\"mi\">3</span><span class=\"p\">)</span> <span class=\"n\">ParallelTransportedArrow</span><span class=\"p\">(</span><span class=\"n\">alpha0</span><span class=\"p\">,</span><span class=\"mf\">0.5</span><span class=\"p\">)</span> <span class=\"p\">]</span>\n",
       "  <span class=\"n\">nproduce</span> <span class=\"n\">Path</span><span class=\"p\">(</span><span class=\"n\">R</span><span class=\"o\">*</span><span class=\"n\">pi</span><span class=\"o\">/</span><span class=\"mi\">2</span><span class=\"p\">)</span> \n",
       "  <span class=\"n\">nproduce</span> <span class=\"o\">+</span><span class=\"p\">(</span><span class=\"mi\">90</span><span class=\"p\">)</span> <span class=\"n\">Path</span><span class=\"p\">(</span><span class=\"n\">R</span><span class=\"o\">*</span><span class=\"n\">pi</span><span class=\"o\">/</span><span class=\"mi\">2</span><span class=\"p\">)</span> \n",
       "  <span class=\"n\">nproduce</span> <span class=\"o\">+</span><span class=\"p\">(</span><span class=\"mi\">90</span><span class=\"p\">)</span> <span class=\"n\">Path</span><span class=\"p\">(</span><span class=\"n\">R</span><span class=\"o\">*</span><span class=\"n\">pi</span><span class=\"o\">/</span><span class=\"mi\">2</span><span class=\"p\">)</span> \n",
       "\n",
       "<span class=\"n\">derivation</span> <span class=\"n\">length</span><span class=\"p\">:</span><span class=\"mi\">1</span>\n",
       "<span class=\"n\">production</span><span class=\"p\">:</span>\n",
       "<span class=\"n\">interpretation</span><span class=\"p\">:</span>\n",
       "<span class=\"n\">Path</span><span class=\"p\">(</span><span class=\"n\">l</span><span class=\"p\">):</span>\n",
       "  <span class=\"k\">for</span> <span class=\"n\">i</span> <span class=\"ow\">in</span> <span class=\"nb\">range</span><span class=\"p\">(</span><span class=\"mi\">10</span><span class=\"p\">):</span>\n",
       "    <span class=\"n\">nproduce</span> <span class=\"n\">F</span><span class=\"p\">(</span><span class=\"n\">l</span><span class=\"o\">/</span><span class=\"mi\">10</span><span class=\"p\">)</span> <span class=\"p\">[,(</span><span class=\"mi\">3</span><span class=\"p\">)</span> <span class=\"n\">ParallelTransportedArrow</span><span class=\"p\">(</span><span class=\"n\">alpha0</span><span class=\"p\">,</span><span class=\"mf\">0.5</span><span class=\"p\">)</span> <span class=\"p\">]</span>\n",
       "<span class=\"n\">endlsystem</span>\n",
       "</pre></div>\n"
      ],
      "text/latex": [
       "\\begin{Verbatim}[commandchars=\\\\\\{\\}]\n",
       "\\PY{k+kn}{from} \\PY{n+nn}{riemann\\PYZus{}lsystem}\\PY{n+nn}{.}\\PY{n+nn}{surfaces} \\PY{k+kn}{import} \\PY{o}{*}\n",
       "\\PY{k+kn}{from} \\PY{n+nn}{riemann\\PYZus{}lsystem}\\PY{n+nn}{.}\\PY{n+nn}{riemannianturtle} \\PY{k+kn}{import} \\PY{o}{*}\n",
       "\\PY{k+kn}{from} \\PY{n+nn}{math} \\PY{k+kn}{import} \\PY{n}{pi}\n",
       "\n",
       "\\PY{o}{\\PYZpc{}}\\PY{n}{pastefile} \\PY{o}{.}\\PY{o}{.}\\PY{o}{/}\\PY{n}{src}\\PY{o}{/}\\PY{n}{riemann\\PYZus{}lsystem}\\PY{o}{/}\\PY{n}{riemannianrules}\\PY{o}{.}\\PY{n}{lpy}\n",
       "\n",
       "\\PY{n}{R} \\PY{o}{=} \\PY{l+m+mi}{1}\n",
       "\\PY{n}{alpha0} \\PY{o}{=} \\PY{l+m+mi}{0} \\PY{k}{if} \\PY{n}{PARALLEL} \\PY{k}{else} \\PY{o}{\\PYZhy{}}\\PY{l+m+mi}{30}     \\PY{c+c1}{\\PYZsh{} in degrees}\n",
       "\\PY{n}{Axiom}\\PY{p}{:} \n",
       "  \\PY{n}{nproduce} \\PY{n}{SetSpace}\\PY{p}{(}\\PY{n}{Sphere}\\PY{p}{(}\\PY{n}{R}\\PY{p}{)}\\PY{p}{)} \\PY{n}{\\PYZus{}}\\PY{p}{(}\\PY{l+m+mf}{0.01}\\PY{p}{)}\n",
       "  \\PY{n}{nproduce} \\PY{p}{[}\\PY{p}{,}\\PY{p}{(}\\PY{l+m+mi}{0}\\PY{p}{)} \\PY{n}{PlotSpace}\\PY{p}{(}\\PY{p}{)} \\PY{p}{]}\n",
       "  \\PY{n}{nproduce} \\PY{n}{InitTurtle}\\PY{p}{(}\\PY{p}{(}\\PY{l+m+mi}{0}\\PY{p}{,}\\PY{l+m+mi}{0}\\PY{p}{,}\\PY{l+m+mi}{0}\\PY{p}{,}\\PY{l+m+mi}{1}\\PY{p}{)}\\PY{p}{)}\n",
       "  \\PY{n}{nproduce} \\PY{n}{ParallelTransportReset}\n",
       "  \\PY{n}{nproduce} \\PY{p}{[}\\PY{p}{,}\\PY{p}{(}\\PY{l+m+mi}{3}\\PY{p}{)} \\PY{n}{ParallelTransportedArrow}\\PY{p}{(}\\PY{n}{alpha0}\\PY{p}{,}\\PY{l+m+mf}{0.5}\\PY{p}{)} \\PY{p}{]}\n",
       "  \\PY{n}{nproduce} \\PY{n}{Path}\\PY{p}{(}\\PY{n}{R}\\PY{o}{*}\\PY{n}{pi}\\PY{o}{/}\\PY{l+m+mi}{2}\\PY{p}{)} \n",
       "  \\PY{n}{nproduce} \\PY{o}{+}\\PY{p}{(}\\PY{l+m+mi}{90}\\PY{p}{)} \\PY{n}{Path}\\PY{p}{(}\\PY{n}{R}\\PY{o}{*}\\PY{n}{pi}\\PY{o}{/}\\PY{l+m+mi}{2}\\PY{p}{)} \n",
       "  \\PY{n}{nproduce} \\PY{o}{+}\\PY{p}{(}\\PY{l+m+mi}{90}\\PY{p}{)} \\PY{n}{Path}\\PY{p}{(}\\PY{n}{R}\\PY{o}{*}\\PY{n}{pi}\\PY{o}{/}\\PY{l+m+mi}{2}\\PY{p}{)} \n",
       "\n",
       "\\PY{n}{derivation} \\PY{n}{length}\\PY{p}{:}\\PY{l+m+mi}{1}\n",
       "\\PY{n}{production}\\PY{p}{:}\n",
       "\\PY{n}{interpretation}\\PY{p}{:}\n",
       "\\PY{n}{Path}\\PY{p}{(}\\PY{n}{l}\\PY{p}{)}\\PY{p}{:}\n",
       "  \\PY{k}{for} \\PY{n}{i} \\PY{o+ow}{in} \\PY{n+nb}{range}\\PY{p}{(}\\PY{l+m+mi}{10}\\PY{p}{)}\\PY{p}{:}\n",
       "    \\PY{n}{nproduce} \\PY{n}{F}\\PY{p}{(}\\PY{n}{l}\\PY{o}{/}\\PY{l+m+mi}{10}\\PY{p}{)} \\PY{p}{[}\\PY{p}{,}\\PY{p}{(}\\PY{l+m+mi}{3}\\PY{p}{)} \\PY{n}{ParallelTransportedArrow}\\PY{p}{(}\\PY{n}{alpha0}\\PY{p}{,}\\PY{l+m+mf}{0.5}\\PY{p}{)} \\PY{p}{]}\n",
       "\\PY{n}{endlsystem}\n",
       "\\end{Verbatim}\n"
      ],
      "text/plain": [
       "from riemann_lsystem.surfaces import *\n",
       "from riemann_lsystem.riemannianturtle import *\n",
       "from math import pi\n",
       "\n",
       "%pastefile ../src/riemann_lsystem/riemannianrules.lpy\n",
       "\n",
       "R = 1\n",
       "alpha0 = 0 if PARALLEL else -30     # in degrees\n",
       "Axiom: \n",
       "  nproduce SetSpace(Sphere(R)) _(0.01)\n",
       "  nproduce [,(0) PlotSpace() ]\n",
       "  nproduce InitTurtle((0,0,0,1))\n",
       "  nproduce ParallelTransportReset\n",
       "  nproduce [,(3) ParallelTransportedArrow(alpha0,0.5) ]\n",
       "  nproduce Path(R*pi/2) \n",
       "  nproduce +(90) Path(R*pi/2) \n",
       "  nproduce +(90) Path(R*pi/2) \n",
       "\n",
       "derivation length:1\n",
       "production:\n",
       "interpretation:\n",
       "Path(l):\n",
       "  for i in range(10):\n",
       "    nproduce F(l/10) [,(3) ParallelTransportedArrow(alpha0,0.5) ]\n",
       "endlsystem\n"
      ]
     },
     "metadata": {},
     "output_type": "display_data"
    },
    {
     "data": {
      "text/markdown": [
       "#### Output:"
      ],
      "text/plain": [
       "<IPython.core.display.Markdown object>"
      ]
     },
     "metadata": {},
     "output_type": "display_data"
    },
    {
     "data": {
      "application/vnd.jupyter.widget-view+json": {
       "model_id": "a7e75f72d0744fb0991de9698975dbef",
       "version_major": 2,
       "version_minor": 0
      },
      "text/plain": [
       "HBox(children=(HBox(children=(LsystemWidget(animate=True, derivationLength=1, derivationNumber=None, plane=Fal…"
      ]
     },
     "metadata": {},
     "output_type": "display_data"
    }
   ],
   "source": [
    "display_example('Fig08-Listing5.lpy','Figure 8: Holonomy and parallel transport using Riemannian Lsystems.','(a-b) parallel transport of a vector along a polygon made of geodesics. The vector is initially tangent to the first geodesic, then is perpendicular to the tangent on the second geodesic, then points backward on the third geodesic segment. (d-c) parallel transport of a vector not tangent to the first geodesic. The vector keeps a constant angle with the tangent vector, but this angle changes each time the turtle turns. (e-f) parallel transport along a curve that is not a geodesic: the angle between the transporting curve and the transported vector varies continuously.')"
   ]
  },
  {
   "cell_type": "code",
   "execution_count": null,
   "id": "c34fb6c3-cc2f-4fd2-a25e-6cc91d91b1cc",
   "metadata": {
    "tags": []
   },
   "outputs": [],
   "source": [
    "display_example('Fig09.lpy','Figure 9: Drawing closed polygons on curved surfaces.','(step 0) failure to close a square by forcing consecutive sides to be at 90 degrees from one another on a curved surface. (step 1) Square drawn in the parameter space, and then pushed on the surface (step 2) Alternative geometric construction of the square preserving the right angle at the intersection of the diagonals and their length. (SPHERE flag) selection of the space between a sphere and a bumpy patch.', animate=False)"
   ]
  },
  {
   "cell_type": "code",
   "execution_count": null,
   "id": "be69d48b-a31c-4489-9758-a1f6889b9a14",
   "metadata": {
    "tags": []
   },
   "outputs": [],
   "source": [
    "examples = [['Fig10a-e','Figure 10a-e: B-splines on a curved surface.', '(step 0) The quadrilateral control polygon of a sphere is drawn to be refined. (step 1) Duplication operation with new control points (in purple) are inserted in the midpoint of each segment. (step 2&3) All original control points (in red) are move toward the midpoint of their succeeding segments (in purple). In this case a B-Spline of degree 3 is targeted and thus 2 move operation are applied. (step4) The resulting control polygon after a complete subdivision step.'],\n",
    "            ['Fig10f-h','Figure 10f-h: B-splines on a curved surface.','The successive control polygons (in green) after 1, 2 and 3 subdivision steps respectively.'],\n",
    "            ['Fig10i-k','Figure 10i-k: B-splines on a curved surface.','(i-k) The BSpline curve is defined by control points positioned using the L-system 6 that generates a simple branching structure. The L-system is applied on (i) a flat surface, (j) an ellipsoid and (k) a bumpy ellipsoid.'],\n",
    "            ['Fig10l-n','Figure 10l-n: B-splines on a curved surface.','(l) The control polygon of a salamander shape. (m-o) The interpretation of the control polygon as BSplines of degree 2, 3 and 8 respectively. The degree of the curve controls the number of control point that influences each point of the curve.']]\n",
    "\n",
    "display_examples(examples,animate=False)"
   ]
  },
  {
   "cell_type": "markdown",
   "id": "9f8a82ff-fad6-4006-9ed1-5f922fa2f1ad",
   "metadata": {},
   "source": [
    "## 4. Freely growing forms on curved surfaces\n"
   ]
  },
  {
   "cell_type": "code",
   "execution_count": null,
   "id": "7a0e6249-7db7-46d3-8fda-7eabb5131020",
   "metadata": {},
   "outputs": [],
   "source": [
    "examples = [['Fig10a-e','Figure 11: Geodesics on surfaces of revolution.', '(step 0) The quadrilateral control polygon of a sphere is drawn to be refined. (step 1) Duplication operation with new control points (in purple) are inserted in the midpoint of each segment. (step 2&3) All original control points (in red) are move toward the midpoint of their succeeding segments (in purple). In this case a B-Spline of degree 3 is targeted and thus 2 move operation are applied. (step4) The resulting control polygon after a complete subdivision step.'],\n",
    "            ['Fig10f-h','Figure 10f-h: B-splines on a curved surface.','The successive control polygons (in green) after 1, 2 and 3 subdivision steps respectively.'],\n",
    "            ['Fig10i-k','Figure 10i-k: B-splines on a curved surface.','(i-k) The BSpline curve is defined by control points positioned using the L-system 6 that generates a simple branching structure. The L-system is applied on (i) a flat surface, (j) an ellipsoid and (k) a bumpy ellipsoid.'],\n",
    "            ['Fig10l-n','Figure 10l-n: B-splines on a curved surface.','(l) The control polygon of a salamander shape. (m-o) The interpretation of the control polygon as BSplines of degree 2, 3 and 8 respectively. The degree of the curve controls the number of control point that influences each point of the curve.']]\n"
   ]
  }
 ],
 "metadata": {
  "kernelspec": {
   "display_name": "Python 3 (ipykernel)",
   "language": "python",
   "name": "python3"
  },
  "language_info": {
   "codemirror_mode": {
    "name": "ipython",
    "version": 3
   },
   "file_extension": ".py",
   "mimetype": "text/x-python",
   "name": "python",
   "nbconvert_exporter": "python",
   "pygments_lexer": "ipython3",
   "version": "3.10.10"
  },
  "widgets": {
   "application/vnd.jupyter.widget-state+json": {
    "state": {
     "0ddd3b218ccb49d59c9ae78b05107617": {
      "model_module": "@jupyter-widgets/base",
      "model_module_version": "2.0.0",
      "model_name": "LayoutModel",
      "state": {}
     },
     "1480dc19a538440ebeea73170c0b8c07": {
      "model_module": "@jupyter-widgets/controls",
      "model_module_version": "2.0.0",
      "model_name": "TextStyleModel",
      "state": {
       "description_width": "",
       "font_size": null,
       "text_color": null
      }
     },
     "1ddabefdab2b4758b72eb2f1e22ef1e2": {
      "model_module": "@jupyter-widgets/base",
      "model_module_version": "2.0.0",
      "model_name": "LayoutModel",
      "state": {
       "margin": "10px 10px"
      }
     },
     "218d1a1e05004e0dbdbffbf006075cae": {
      "model_module": "@jupyter-widgets/controls",
      "model_module_version": "2.0.0",
      "model_name": "CheckboxModel",
      "state": {
       "description": "PARALLEL",
       "disabled": false,
       "layout": "IPY_MODEL_520b92f4eadc47cbb12c6c6b2c3c3691",
       "style": "IPY_MODEL_3b63e21fe7b1472fad207e36b6777e30",
       "value": true
      }
     },
     "376aa1436a5f44b78a4df8120dc99a20": {
      "model_module": "@jupyter-widgets/controls",
      "model_module_version": "2.0.0",
      "model_name": "TextModel",
      "state": {
       "continuous_update": false,
       "description": "name",
       "layout": "IPY_MODEL_bb7df11739684450886e7c16c5dd9f79",
       "style": "IPY_MODEL_1480dc19a538440ebeea73170c0b8c07",
       "value": "PARALLEL"
      }
     },
     "3b63e21fe7b1472fad207e36b6777e30": {
      "model_module": "@jupyter-widgets/controls",
      "model_module_version": "2.0.0",
      "model_name": "CheckboxStyleModel",
      "state": {
       "description_width": ""
      }
     },
     "520b92f4eadc47cbb12c6c6b2c3c3691": {
      "model_module": "@jupyter-widgets/base",
      "model_module_version": "2.0.0",
      "model_name": "LayoutModel",
      "state": {}
     },
     "69f4fe6804644b86822c4574b94ed9ee": {
      "model_module": "@jupyter-widgets/controls",
      "model_module_version": "2.0.0",
      "model_name": "HBoxModel",
      "state": {
       "children": [
        "IPY_MODEL_82c4ed5db9fc494daa31e4d88613e162"
       ],
       "layout": "IPY_MODEL_9f48ab51dd2145dba4292003f9a783a3"
      }
     },
     "75bc960c4d2b4ed0a2f1d216c5287092": {
      "model_module": "pgljupyter",
      "model_module_version": "^2.0.0",
      "model_name": "BoolEditorModel",
      "state": {
       "_model_module_version": "^2.0.0",
       "_view_module_version": "^2.0.0",
       "children": [
        "IPY_MODEL_218d1a1e05004e0dbdbffbf006075cae"
       ],
       "layout": "IPY_MODEL_1ddabefdab2b4758b72eb2f1e22ef1e2"
      }
     },
     "82c4ed5db9fc494daa31e4d88613e162": {
      "buffers": [
       {
        "data": "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",
        "encoding": "base64",
        "path": [
         "scene",
         "data"
        ]
       }
      ],
      "model_module": "pgljupyter",
      "model_module_version": "^2.0.0",
      "model_name": "LsystemWidgetModel",
      "state": {
       "_model_module_version": "^2.0.0",
       "_view_module_version": "^2.0.0",
       "animate": true,
       "axes_helper": false,
       "derivationLength": 1,
       "layout": "IPY_MODEL_eca0d189402f4c819a6a81b98ca8fc48",
       "light_helper": false,
       "plane": false,
       "scene": {
        "derivationStep": null,
        "id": null,
        "scene": "<openalea.plantgl.scenegraph._pglsg.Scene object at 0x119a1ca50>"
       },
       "size_display": [
        400,
        400
       ],
       "size_world": 50
      }
     },
     "9f48ab51dd2145dba4292003f9a783a3": {
      "model_module": "@jupyter-widgets/base",
      "model_module_version": "2.0.0",
      "model_name": "LayoutModel",
      "state": {
       "margin": "10px",
       "min_height": "400px",
       "min_width": "400px"
      }
     },
     "a7e75f72d0744fb0991de9698975dbef": {
      "model_module": "@jupyter-widgets/controls",
      "model_module_version": "2.0.0",
      "model_name": "HBoxModel",
      "state": {
       "children": [
        "IPY_MODEL_69f4fe6804644b86822c4574b94ed9ee",
        "IPY_MODEL_cf2d0636fb0d4bc88bb90d66e8447084"
       ],
       "layout": "IPY_MODEL_0ddd3b218ccb49d59c9ae78b05107617"
      }
     },
     "bb7df11739684450886e7c16c5dd9f79": {
      "model_module": "@jupyter-widgets/base",
      "model_module_version": "2.0.0",
      "model_name": "LayoutModel",
      "state": {}
     },
     "c264a73389cf46f9a2dbc6ffa7dbf5ce": {
      "model_module": "@jupyter-widgets/base",
      "model_module_version": "2.0.0",
      "model_name": "LayoutModel",
      "state": {
       "flex_flow": "row wrap",
       "margin": "0"
      }
     },
     "cf2d0636fb0d4bc88bb90d66e8447084": {
      "model_module": "@jupyter-widgets/controls",
      "model_module_version": "2.0.0",
      "model_name": "HBoxModel",
      "state": {
       "children": [
        "IPY_MODEL_75bc960c4d2b4ed0a2f1d216c5287092"
       ],
       "layout": "IPY_MODEL_c264a73389cf46f9a2dbc6ffa7dbf5ce"
      }
     },
     "eca0d189402f4c819a6a81b98ca8fc48": {
      "model_module": "@jupyter-widgets/base",
      "model_module_version": "2.0.0",
      "model_name": "LayoutModel",
      "state": {}
     }
    },
    "version_major": 2,
    "version_minor": 0
   }
  }
 },
 "nbformat": 4,
 "nbformat_minor": 5
}

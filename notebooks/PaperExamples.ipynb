{
 "cells": [
  {
   "cell_type": "markdown",
   "id": "37ca78c6",
   "metadata": {},
   "source": [
    "<center>\n",
    "\n",
    "# Riemannian L-systems: Modeling growing forms in curved spaces\n",
    "\n",
    "## Christophe Godin<sup>1</sup> and Frédéric Boudon<sup>2,3</sup>\n",
    "</center>\n",
    "\n",
    "\n",
    "<center>\n",
    "<sup>1</sup>Laboratoire Reproduction et Développement des Plantes, Univ Lyon, ENS de Lyon, UCB Lyon1, CNRS,\n",
    "INRAE, Inria, F-69342 Lyon, France\n",
    "</center>\n",
    "\n",
    "<center>\n",
    "<sup>2</sup>CIRAD, UMR AGAP Institute, F-34398 Montpellier, France\n",
    "</center>\n",
    "<center>\n",
    "<sup>3</sup>UMR AGAP Institute, Univ. Montpellier, CIRAD, INRAE, Institute Agro, Montpellier, France\n",
    "</center>\n",
    "\n",
    "<center>\n",
    "christophe.godin@inria.fr, frederic.boudon@cirad.fr\n",
    "</center>"
   ]
  },
  {
   "cell_type": "markdown",
   "id": "d46242ad",
   "metadata": {},
   "source": [
    "## Abstract\n",
    "\n",
    "In the past 50 years, L-systems have been successfully used to model the development of filamentous and branching forms in biology. Their success is largely due to the fact that they rely on the mathematical notion of discrete rewriting systems, that in essence simply reflects the idea that the evolution of a structure results from the evolution of its individual components. This core property is reminiscent of how biological organisms develop and happens to be critical to model their growth. The formalism of L-systems has been developed to model the growth of forms in Euclidean 1-D, 2-D, or 3-D spaces. These spaces have the property to be flat and show no curvature anywhere. However, the growth of various forms or processes in biology takes place in curved spaces. This is for example the case of vein networks growing within curved leaf blades, of unicellular tubes, such as pollen tubes, growing on curved surfaces to fertilize distant ovules, of teeth patterns growing on folded epithelia of animals, of diffusion of chemical or mechanical signals at the surface of plant or animal tissues, etc. To model these growing forms in curved spaces, we thus developed further the theory of L-systems. In a first step we show that this extension can be carried out by integrating concepts of differential geometry in the notion of turtle geometry. We then illustrate how this extension can be applied to model and program the development of both mathematical and biological forms on curved surfaces embedded in our Euclidean space. We provide various examples applied to plant development. We finally show that this approach can be extended to more abstract spaces, called abstract Riemannian spaces, that are not embedded into any higher space, while being intrinsically curved. We suggest that this abstract extension can be used to provide a new approach for effective modeling of tropism phenomena and illustrate this idea on a few conceptual examples."
   ]
  },
  {
   "cell_type": "code",
   "execution_count": null,
   "id": "e2906d33",
   "metadata": {
    "ExecuteTime": {
     "end_time": "2024-03-31T22:52:53.654288Z",
     "start_time": "2024-03-31T22:52:52.973225Z"
    },
    "tags": []
   },
   "outputs": [],
   "source": [
    "import pgljupyter\n",
    "from display import display_example, display_examples"
   ]
  },
  {
   "cell_type": "markdown",
   "id": "ad48356b",
   "metadata": {},
   "source": [
    "## 2. L-systems overview\n",
    "### 2.4 L-system examples in L-Py"
   ]
  },
  {
   "cell_type": "code",
   "execution_count": null,
   "id": "9dfdc1f8",
   "metadata": {
    "ExecuteTime": {
     "end_time": "2024-03-31T21:00:39.391942Z",
     "start_time": "2024-03-31T21:00:39.088236Z"
    },
    "tags": []
   },
   "outputs": [],
   "source": [
    "display_example('Fig01-Listing1', animate=True)"
   ]
  },
  {
   "cell_type": "code",
   "execution_count": null,
   "id": "0c5cdd60",
   "metadata": {},
   "outputs": [],
   "source": [
    "display_example('Fig01-Listing2', animate=True)"
   ]
  },
  {
   "cell_type": "code",
   "execution_count": null,
   "id": "466e137c",
   "metadata": {},
   "outputs": [],
   "source": [
    "display_example('Fig01-Listing3', animate=True)"
   ]
  },
  {
   "cell_type": "code",
   "execution_count": null,
   "id": "fde1d2d5",
   "metadata": {},
   "outputs": [],
   "source": [
    "display_example('Fig01-Listing4', animate=True)"
   ]
  },
  {
   "cell_type": "markdown",
   "id": "c343e928-0c26-48d6-a25f-3d974e48667f",
   "metadata": {},
   "source": [
    "## 3. Moving on parametric surfaces\n",
    "### 3.4 Turning on curved surfaces and holonomy\n",
    "### Parallel transport"
   ]
  },
  {
   "cell_type": "code",
   "execution_count": null,
   "id": "aedaa684-5bc1-4279-aec2-c76e10d24cac",
   "metadata": {
    "ExecuteTime": {
     "end_time": "2024-03-31T21:04:06.898326Z",
     "start_time": "2024-03-31T21:04:05.961663Z"
    },
    "tags": []
   },
   "outputs": [],
   "source": [
    "display_example('Fig08-Listing5.lpy')"
   ]
  },
  {
   "cell_type": "markdown",
   "id": "918eb470",
   "metadata": {},
   "source": [
    "### Closed polygons on a surface"
   ]
  },
  {
   "cell_type": "code",
   "execution_count": null,
   "id": "c34fb6c3-cc2f-4fd2-a25e-6cc91d91b1cc",
   "metadata": {
    "ExecuteTime": {
     "end_time": "2024-03-31T21:05:05.622961Z",
     "start_time": "2024-03-31T21:05:05.471362Z"
    },
    "tags": []
   },
   "outputs": [],
   "source": [
    "display_example('Fig09.lpy', animate=False)"
   ]
  },
  {
   "cell_type": "markdown",
   "id": "17fee58e",
   "metadata": {},
   "source": [
    "### Drawing smooth curve on a curved surface"
   ]
  },
  {
   "cell_type": "code",
   "execution_count": null,
   "id": "be69d48b-a31c-4489-9758-a1f6889b9a14",
   "metadata": {
    "ExecuteTime": {
     "end_time": "2024-03-31T22:54:44.395664Z",
     "start_time": "2024-03-31T22:54:42.989763Z"
    },
    "tags": []
   },
   "outputs": [],
   "source": [
    "display_example('Fig10a-e',animate=False)"
   ]
  },
  {
   "cell_type": "code",
   "execution_count": null,
   "id": "e445fbab",
   "metadata": {},
   "outputs": [],
   "source": [
    "display_example('Fig10f-h',animate=False)"
   ]
  },
  {
   "cell_type": "code",
   "execution_count": null,
   "id": "a0bb2cb7",
   "metadata": {},
   "outputs": [],
   "source": [
    "display_example('Fig10i-k',animate=False)"
   ]
  },
  {
   "cell_type": "code",
   "execution_count": null,
   "id": "94761c10",
   "metadata": {},
   "outputs": [],
   "source": [
    "display_example('Fig10l-n',animate=False)"
   ]
  },
  {
   "cell_type": "markdown",
   "id": "9f8a82ff-fad6-4006-9ed1-5f922fa2f1ad",
   "metadata": {},
   "source": [
    "## 4. Freely growing forms on curved surfaces\n",
    "### 4.1 Geodesic trajectories"
   ]
  },
  {
   "cell_type": "code",
   "execution_count": null,
   "id": "7a0e6249-7db7-46d3-8fda-7eabb5131020",
   "metadata": {
    "ExecuteTime": {
     "end_time": "2024-03-31T21:19:09.928762Z",
     "start_time": "2024-03-31T21:19:09.805272Z"
    }
   },
   "outputs": [],
   "source": [
    "display_example('Fig11a',animate=False)"
   ]
  },
  {
   "cell_type": "code",
   "execution_count": null,
   "id": "4f3424f8",
   "metadata": {
    "ExecuteTime": {
     "end_time": "2024-03-31T21:23:24.237106Z",
     "start_time": "2024-03-31T21:23:23.950563Z"
    }
   },
   "outputs": [],
   "source": [
    "display_example('Fig11b',animate=False)"
   ]
  },
  {
   "cell_type": "code",
   "execution_count": null,
   "id": "f017d93c",
   "metadata": {
    "ExecuteTime": {
     "end_time": "2024-03-31T21:23:24.605783Z",
     "start_time": "2024-03-31T21:23:24.240214Z"
    }
   },
   "outputs": [],
   "source": [
    "display_example('Fig11c')"
   ]
  },
  {
   "cell_type": "markdown",
   "id": "8fc6f4b5",
   "metadata": {},
   "source": [
    "### 4.2 Turning and branching\n",
    "### Fractals."
   ]
  },
  {
   "cell_type": "code",
   "execution_count": null,
   "id": "5586fffc",
   "metadata": {
    "ExecuteTime": {
     "end_time": "2024-03-31T21:35:26.386850Z",
     "start_time": "2024-03-31T21:35:26.324719Z"
    }
   },
   "outputs": [],
   "source": [
    "display_example('Fig12')"
   ]
  },
  {
   "cell_type": "markdown",
   "id": "7d9b5746",
   "metadata": {},
   "source": [
    "### Branching patterns."
   ]
  },
  {
   "cell_type": "code",
   "execution_count": null,
   "id": "e81bd251",
   "metadata": {
    "ExecuteTime": {
     "end_time": "2024-03-31T21:35:23.764591Z",
     "start_time": "2024-03-31T21:35:23.684335Z"
    }
   },
   "outputs": [],
   "source": [
    "display_example('Fig13a',animate=False, codedisplay=False)"
   ]
  },
  {
   "cell_type": "code",
   "execution_count": null,
   "id": "d8ffb8d3",
   "metadata": {
    "ExecuteTime": {
     "end_time": "2024-03-31T21:35:31.157031Z",
     "start_time": "2024-03-31T21:35:30.924816Z"
    }
   },
   "outputs": [],
   "source": [
    "display_example('Fig13b',animate=False, codedisplay=False)"
   ]
  },
  {
   "cell_type": "code",
   "execution_count": null,
   "id": "f6092b39",
   "metadata": {
    "ExecuteTime": {
     "end_time": "2024-03-31T21:35:34.164079Z",
     "start_time": "2024-03-31T21:35:34.077350Z"
    }
   },
   "outputs": [],
   "source": [
    "display_example('Fig13c',animate=False, codedisplay=False)"
   ]
  },
  {
   "cell_type": "code",
   "execution_count": null,
   "id": "80b0e2c0",
   "metadata": {
    "ExecuteTime": {
     "end_time": "2024-03-31T21:35:37.519695Z",
     "start_time": "2024-03-31T21:35:37.388652Z"
    }
   },
   "outputs": [],
   "source": [
    "display_example('Fig13d',animate=False, codedisplay=False)"
   ]
  },
  {
   "cell_type": "markdown",
   "id": "d23ceab6",
   "metadata": {},
   "source": [
    "### 4.3 Applications\n",
    "### Filamentous growth."
   ]
  },
  {
   "cell_type": "code",
   "execution_count": null,
   "id": "84afee1e",
   "metadata": {
    "ExecuteTime": {
     "end_time": "2024-03-31T21:36:42.778360Z",
     "start_time": "2024-03-31T21:36:42.716507Z"
    }
   },
   "outputs": [],
   "source": [
    "display_example('Fig14', codedisplay=False)"
   ]
  },
  {
   "cell_type": "markdown",
   "id": "e987ebcb",
   "metadata": {},
   "source": [
    "### Branching system growth.\n",
    "\n",
    "### Figure 15a: Cabbage leaf model.\n",
    "\n",
    "photos of a white cabbage leaf (up: top view, below: side view).\n",
    "\n",
    "<img src=\"./cabbageleaf.png\" width=250 height=200>"
   ]
  },
  {
   "cell_type": "code",
   "execution_count": null,
   "id": "463f2b30",
   "metadata": {
    "ExecuteTime": {
     "end_time": "2024-03-31T21:37:26.849478Z",
     "start_time": "2024-03-31T21:37:26.743237Z"
    }
   },
   "outputs": [],
   "source": [
    "display_example('Fig15', animate=False, codedisplay=False)"
   ]
  },
  {
   "cell_type": "markdown",
   "id": "de6aaeca",
   "metadata": {},
   "source": [
    "### Plant branching system."
   ]
  },
  {
   "cell_type": "code",
   "execution_count": null,
   "id": "7bcbe09f",
   "metadata": {
    "ExecuteTime": {
     "end_time": "2024-03-31T21:49:32.968592Z",
     "start_time": "2024-03-31T21:49:32.899574Z"
    }
   },
   "outputs": [],
   "source": [
    "display_example('Fig16', animate=False, codedisplay=False)"
   ]
  },
  {
   "cell_type": "markdown",
   "id": "fd3510a0",
   "metadata": {},
   "source": [
    "## 5 Feedbacks between surface and embedded forms\n",
    "\n",
    "### 5.1 Information feedback\n",
    "\n",
    "### Scalar fields"
   ]
  },
  {
   "cell_type": "code",
   "execution_count": null,
   "id": "7d12d229",
   "metadata": {
    "ExecuteTime": {
     "end_time": "2024-03-31T21:54:25.616933Z",
     "start_time": "2024-03-31T21:53:52.568551Z"
    }
   },
   "outputs": [],
   "source": [
    "display_example('Fig17a-c', animate=False, codedisplay=False)"
   ]
  },
  {
   "cell_type": "code",
   "execution_count": null,
   "id": "b8ebc76f",
   "metadata": {
    "ExecuteTime": {
     "end_time": "2024-03-31T22:15:01.604759Z",
     "start_time": "2024-03-31T22:15:01.530836Z"
    }
   },
   "outputs": [],
   "source": [
    "display_example('Fig17d-f', animate=True, codedisplay=False)"
   ]
  },
  {
   "cell_type": "markdown",
   "id": "d4e4d9dc",
   "metadata": {},
   "source": [
    "### Vector fields"
   ]
  },
  {
   "cell_type": "code",
   "execution_count": null,
   "id": "23f5049d",
   "metadata": {
    "ExecuteTime": {
     "end_time": "2024-03-31T22:15:54.693616Z",
     "start_time": "2024-03-31T22:15:54.623793Z"
    }
   },
   "outputs": [],
   "source": [
    "display_example('Fig18a', animate=False, codedisplay=False)"
   ]
  },
  {
   "cell_type": "code",
   "execution_count": null,
   "id": "a4953023",
   "metadata": {
    "ExecuteTime": {
     "end_time": "2024-03-31T22:17:36.485397Z",
     "start_time": "2024-03-31T22:17:36.225249Z"
    }
   },
   "outputs": [],
   "source": [
    "display_example('Fig18b', animate=False, codedisplay=False)"
   ]
  },
  {
   "cell_type": "code",
   "execution_count": null,
   "id": "1c0f4bdc",
   "metadata": {
    "ExecuteTime": {
     "end_time": "2024-03-31T22:24:24.615180Z",
     "start_time": "2024-03-31T22:24:24.409383Z"
    }
   },
   "outputs": [],
   "source": [
    "display_example('Fig18c-d', animate=False, codedisplay=False)"
   ]
  },
  {
   "cell_type": "markdown",
   "id": "a2e3ec93",
   "metadata": {},
   "source": [
    "### 5.2 Embedding of forms in dynamic surfaces\n",
    "\n",
    "### Convected versus floating forms"
   ]
  },
  {
   "cell_type": "code",
   "execution_count": null,
   "id": "c6b3ad3b",
   "metadata": {
    "ExecuteTime": {
     "end_time": "2024-03-31T22:40:18.516057Z",
     "start_time": "2024-03-31T22:40:18.493825Z"
    }
   },
   "outputs": [],
   "source": [
    "display_example('Fig19a', animate=False)"
   ]
  },
  {
   "cell_type": "code",
   "execution_count": null,
   "id": "d43ad72b",
   "metadata": {},
   "outputs": [],
   "source": [
    "display_example('Fig19b-c', animate=False, codedisplay=False)"
   ]
  },
  {
   "cell_type": "markdown",
   "id": "b4f3cafe",
   "metadata": {},
   "source": [
    "### Feedback of the embedding surface growth on the form"
   ]
  },
  {
   "cell_type": "code",
   "execution_count": null,
   "id": "59f21cfc",
   "metadata": {
    "ExecuteTime": {
     "end_time": "2024-03-31T22:50:42.155833Z",
     "start_time": "2024-03-31T22:50:42.015707Z"
    }
   },
   "outputs": [],
   "source": [
    "display_example('Fig20a-b', animate=False, codedisplay=False)"
   ]
  },
  {
   "cell_type": "code",
   "execution_count": null,
   "id": "4f4e569b",
   "metadata": {
    "ExecuteTime": {
     "end_time": "2024-03-31T22:50:57.288043Z",
     "start_time": "2024-03-31T22:50:57.077617Z"
    }
   },
   "outputs": [],
   "source": [
    "display_example('Fig20c-d', animate=False, codedisplay=False)"
   ]
  },
  {
   "cell_type": "markdown",
   "id": "bdd8007a",
   "metadata": {},
   "source": [
    "### Figure 21a: Kidney fern model. \n",
    "\n",
    "Hymenophyllum nephrophyllum (Kidney fern).\n",
    "\n",
    "<img src=\"./kidneyfern.png\" height=200 width=300>"
   ]
  },
  {
   "cell_type": "code",
   "execution_count": null,
   "id": "e193a082",
   "metadata": {
    "ExecuteTime": {
     "end_time": "2024-03-31T23:04:58.729381Z",
     "start_time": "2024-03-31T23:04:58.254028Z"
    }
   },
   "outputs": [],
   "source": [
    "display_example('Fig21', animate=False, codedisplay=False)"
   ]
  },
  {
   "cell_type": "code",
   "execution_count": null,
   "id": "ed02487d",
   "metadata": {},
   "outputs": [],
   "source": [
    "display_example('Fig21', animate=False, codedisplay=False)"
   ]
  },
  {
   "cell_type": "markdown",
   "id": "7b306fbb",
   "metadata": {},
   "source": [
    "## 6 L-systems in abstract Riemannian spaces\n",
    "\n",
    "### 6.2 Examples in 2-D abstract Riemannian spaces\n"
   ]
  },
  {
   "cell_type": "code",
   "execution_count": null,
   "id": "4f60159a",
   "metadata": {
    "ExecuteTime": {
     "end_time": "2024-03-31T23:15:36.130899Z",
     "start_time": "2024-03-31T23:15:36.064557Z"
    }
   },
   "outputs": [],
   "source": [
    "display_example('Fig22', animate=False, codedisplay=False)"
   ]
  },
  {
   "cell_type": "markdown",
   "id": "fb62f7c0",
   "metadata": {},
   "source": [
    "### Immersion of an intrinsic geometry in an abstract space"
   ]
  },
  {
   "cell_type": "code",
   "execution_count": null,
   "id": "dbe2dd54",
   "metadata": {
    "ExecuteTime": {
     "end_time": "2024-03-31T23:31:51.265719Z",
     "start_time": "2024-03-31T23:31:50.422897Z"
    }
   },
   "outputs": [],
   "source": [
    "display_example('Fig23', animate=False, codedisplay=False)"
   ]
  },
  {
   "cell_type": "markdown",
   "id": "a13de4ac",
   "metadata": {},
   "source": [
    "### Towards modeling tropism in plants with abstract Riemannian spaces"
   ]
  },
  {
   "cell_type": "code",
   "execution_count": null,
   "id": "f0d12248",
   "metadata": {
    "ExecuteTime": {
     "end_time": "2024-03-31T23:36:26.597979Z",
     "start_time": "2024-03-31T23:36:26.459921Z"
    }
   },
   "outputs": [],
   "source": [
    "display_example('Fig24b', animate=False, codedisplay=False)"
   ]
  },
  {
   "cell_type": "code",
   "execution_count": null,
   "id": "f15739de",
   "metadata": {
    "ExecuteTime": {
     "end_time": "2024-03-31T23:36:51.540597Z",
     "start_time": "2024-03-31T23:36:51.401748Z"
    }
   },
   "outputs": [],
   "source": [
    "display_example('Fig24c', animate=False, codedisplay=False)"
   ]
  }
 ],
 "metadata": {
  "kernelspec": {
   "display_name": "Python 3 (ipykernel)",
   "language": "python",
   "name": "python3"
  },
  "language_info": {
   "codemirror_mode": {
    "name": "ipython",
    "version": 3
   },
   "file_extension": ".py",
   "mimetype": "text/x-python",
   "name": "python",
   "nbconvert_exporter": "python",
   "pygments_lexer": "ipython3",
   "version": "3.10.10"
  }
 },
 "nbformat": 4,
 "nbformat_minor": 5
}

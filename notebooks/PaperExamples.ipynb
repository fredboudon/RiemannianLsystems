{
 "cells": [
  {
   "cell_type": "markdown",
   "id": "37ca78c6",
   "metadata": {},
   "source": [
    "<center>\n",
    "\n",
    "# Riemannian L-systems: Modeling growing forms in curved spaces\n",
    "\n",
    "## Christophe Godin<sup>1</sup> and Frédéric Boudon<sup>2,3</sup>\n",
    "</center>\n",
    "\n",
    "\n",
    "<center>\n",
    "<sup>1</sup>Laboratoire Reproduction et Développement des Plantes, Univ Lyon, ENS de Lyon, UCB Lyon1, CNRS,\n",
    "INRAE, Inria, F-69342 Lyon, France\n",
    "</center>\n",
    "\n",
    "<center>\n",
    "<sup>2</sup>CIRAD, UMR AGAP Institute, F-34398 Montpellier, France\n",
    "</center>\n",
    "<center>\n",
    "<sup>3</sup>UMR AGAP Institute, Univ. Montpellier, CIRAD, INRAE, Institute Agro, Montpellier, France\n",
    "</center>\n",
    "\n",
    "<center>\n",
    "christophe.godin@inria.fr, frederic.boudon@cirad.fr\n",
    "</center>"
   ]
  },
  {
   "cell_type": "markdown",
   "id": "d46242ad",
   "metadata": {},
   "source": [
    "## Abstract\n",
    "\n",
    "In the past 50 years, L-systems have been successfully used to model the development of filamentous and branching forms in biology. Their success is largely due to the fact that they rely on the mathematical notion of discrete rewriting systems, that in essence simply reflects the idea that the evolution of a structure results from the evolution of its individual components. This core property is reminiscent of how biological organisms develop and happens to be critical to model their growth. The formalism of L-systems has been developed to model the growth of forms in Euclidean 1-D, 2-D, or 3-D spaces. These spaces have the property to be flat and show no curvature anywhere. However, the growth of various forms or processes in biology takes place in curved spaces. This is for example the case of vein networks growing within curved leaf blades, of unicellular tubes, such as pollen tubes, growing on curved surfaces to fertilize distant ovules, of teeth patterns growing on folded epithelia of animals, of diffusion of chemical or mechanical signals at the surface of plant or animal tissues, etc. To model these growing forms in curved spaces, we thus developed further the theory of L-systems. In a first step we show that this extension can be carried out by integrating concepts of differential geometry in the notion of turtle geometry. We then illustrate how this extension can be applied to model and program the development of both mathematical and biological forms on curved surfaces embedded in our Euclidean space. We provide various examples applied to plant development. We finally show that this approach can be extended to more abstract spaces, called abstract Riemannian spaces, that are not embedded into any higher space, while being intrinsically curved. We suggest that this abstract extension can be used to provide a new approach for effective modeling of tropism phenomena and illustrate this idea on a few conceptual examples."
   ]
  },
  {
   "cell_type": "code",
   "execution_count": null,
   "id": "e2906d33",
   "metadata": {
    "ExecuteTime": {
     "end_time": "2024-04-03T16:02:01.850529Z",
     "start_time": "2024-04-03T16:02:01.213979Z"
    },
    "tags": []
   },
   "outputs": [],
   "source": [
    "import pgljupyter\n",
    "from display import display_example, display_examples"
   ]
  },
  {
   "cell_type": "markdown",
   "id": "ad48356b",
   "metadata": {},
   "source": [
    "## 2. L-systems overview\n",
    "### 2.4 L-system examples in L-Py"
   ]
  },
  {
   "cell_type": "code",
   "execution_count": null,
   "id": "9dfdc1f8",
   "metadata": {
    "ExecuteTime": {
     "end_time": "2024-04-03T15:09:31.142657Z",
     "start_time": "2024-04-03T15:09:30.856000Z"
    },
    "tags": []
   },
   "outputs": [],
   "source": [
    "display_example('Fig01-Listing1', animate=True)"
   ]
  },
  {
   "cell_type": "code",
   "execution_count": null,
   "id": "0c5cdd60",
   "metadata": {
    "ExecuteTime": {
     "end_time": "2024-04-03T15:09:31.162759Z",
     "start_time": "2024-04-03T15:09:31.144505Z"
    }
   },
   "outputs": [],
   "source": [
    "display_example('Fig01-Listing2', animate=True)"
   ]
  },
  {
   "cell_type": "code",
   "execution_count": null,
   "id": "466e137c",
   "metadata": {
    "ExecuteTime": {
     "end_time": "2024-04-03T15:09:31.185741Z",
     "start_time": "2024-04-03T15:09:31.166210Z"
    }
   },
   "outputs": [],
   "source": [
    "display_example('Fig01-Listing3', animate=True)"
   ]
  },
  {
   "cell_type": "code",
   "execution_count": null,
   "id": "fde1d2d5",
   "metadata": {
    "ExecuteTime": {
     "end_time": "2024-04-03T15:09:31.210967Z",
     "start_time": "2024-04-03T15:09:31.187799Z"
    }
   },
   "outputs": [],
   "source": [
    "display_example('Fig01-Listing4', animate=True)"
   ]
  },
  {
   "cell_type": "markdown",
   "id": "c343e928-0c26-48d6-a25f-3d974e48667f",
   "metadata": {},
   "source": [
    "## 3. Moving on parametric surfaces\n",
    "### 3.4 Turning on curved surfaces and holonomy\n",
    "### Parallel transport"
   ]
  },
  {
   "cell_type": "code",
   "execution_count": null,
   "id": "aedaa684-5bc1-4279-aec2-c76e10d24cac",
   "metadata": {
    "ExecuteTime": {
     "end_time": "2024-04-03T15:09:31.764822Z",
     "start_time": "2024-04-03T15:09:31.213233Z"
    },
    "tags": []
   },
   "outputs": [],
   "source": [
    "display_example('Fig08-Listing5.lpy')"
   ]
  },
  {
   "cell_type": "markdown",
   "id": "918eb470",
   "metadata": {},
   "source": [
    "### Closed polygons on a surface"
   ]
  },
  {
   "cell_type": "code",
   "execution_count": null,
   "id": "c34fb6c3-cc2f-4fd2-a25e-6cc91d91b1cc",
   "metadata": {
    "ExecuteTime": {
     "end_time": "2024-04-03T15:09:31.917867Z",
     "start_time": "2024-04-03T15:09:31.766980Z"
    },
    "tags": []
   },
   "outputs": [],
   "source": [
    "display_example('Fig09.lpy', animate=False)"
   ]
  },
  {
   "cell_type": "markdown",
   "id": "17fee58e",
   "metadata": {},
   "source": [
    "### Drawing smooth curve on a curved surface"
   ]
  },
  {
   "cell_type": "code",
   "execution_count": null,
   "id": "be69d48b-a31c-4489-9758-a1f6889b9a14",
   "metadata": {
    "ExecuteTime": {
     "end_time": "2024-04-03T15:09:32.487572Z",
     "start_time": "2024-04-03T15:09:31.919688Z"
    },
    "tags": []
   },
   "outputs": [],
   "source": [
    "display_example('Fig10a-e',animate=False)"
   ]
  },
  {
   "cell_type": "code",
   "execution_count": null,
   "id": "e445fbab",
   "metadata": {
    "ExecuteTime": {
     "end_time": "2024-04-03T15:09:34.080615Z",
     "start_time": "2024-04-03T15:09:32.489932Z"
    }
   },
   "outputs": [],
   "source": [
    "display_example('Fig10f-h',animate=False)"
   ]
  },
  {
   "cell_type": "code",
   "execution_count": null,
   "id": "a0bb2cb7",
   "metadata": {
    "ExecuteTime": {
     "end_time": "2024-04-03T15:09:34.251356Z",
     "start_time": "2024-04-03T15:09:34.088218Z"
    }
   },
   "outputs": [],
   "source": [
    "display_example('Fig10i-k',animate=False)"
   ]
  },
  {
   "cell_type": "code",
   "execution_count": null,
   "id": "94761c10",
   "metadata": {
    "ExecuteTime": {
     "start_time": "2024-04-03T15:09:30.191Z"
    }
   },
   "outputs": [],
   "source": [
    "display_example('Fig10l-n',animate=False)"
   ]
  },
  {
   "cell_type": "markdown",
   "id": "9f8a82ff-fad6-4006-9ed1-5f922fa2f1ad",
   "metadata": {},
   "source": [
    "## 4. Freely growing forms on curved surfaces\n",
    "### 4.1 Geodesic trajectories"
   ]
  },
  {
   "cell_type": "code",
   "execution_count": null,
   "id": "7a0e6249-7db7-46d3-8fda-7eabb5131020",
   "metadata": {
    "ExecuteTime": {
     "start_time": "2024-04-03T15:09:30.193Z"
    }
   },
   "outputs": [],
   "source": [
    "display_example('Fig11a',animate=False)"
   ]
  },
  {
   "cell_type": "code",
   "execution_count": null,
   "id": "4f3424f8",
   "metadata": {
    "ExecuteTime": {
     "start_time": "2024-04-03T15:09:30.194Z"
    }
   },
   "outputs": [],
   "source": [
    "display_example('Fig11b',animate=False)"
   ]
  },
  {
   "cell_type": "code",
   "execution_count": null,
   "id": "f017d93c",
   "metadata": {
    "ExecuteTime": {
     "start_time": "2024-04-03T15:09:30.196Z"
    }
   },
   "outputs": [],
   "source": [
    "display_example('Fig11c')"
   ]
  },
  {
   "cell_type": "markdown",
   "id": "8fc6f4b5",
   "metadata": {},
   "source": [
    "### 4.2 Turning and branching\n",
    "### Fractals."
   ]
  },
  {
   "cell_type": "code",
   "execution_count": null,
   "id": "5586fffc",
   "metadata": {
    "ExecuteTime": {
     "start_time": "2024-04-03T15:09:30.197Z"
    }
   },
   "outputs": [],
   "source": [
    "display_example('Fig12')"
   ]
  },
  {
   "cell_type": "markdown",
   "id": "7d9b5746",
   "metadata": {},
   "source": [
    "### Branching patterns."
   ]
  },
  {
   "cell_type": "code",
   "execution_count": null,
   "id": "e81bd251",
   "metadata": {
    "ExecuteTime": {
     "start_time": "2024-04-03T15:09:30.199Z"
    }
   },
   "outputs": [],
   "source": [
    "display_example('Fig13a',animate=False, codedisplay=False)"
   ]
  },
  {
   "cell_type": "code",
   "execution_count": null,
   "id": "d8ffb8d3",
   "metadata": {
    "ExecuteTime": {
     "start_time": "2024-04-03T15:09:30.200Z"
    }
   },
   "outputs": [],
   "source": [
    "display_example('Fig13b',animate=False, codedisplay=False)"
   ]
  },
  {
   "cell_type": "code",
   "execution_count": null,
   "id": "f6092b39",
   "metadata": {
    "ExecuteTime": {
     "start_time": "2024-04-03T15:09:30.201Z"
    }
   },
   "outputs": [],
   "source": [
    "display_example('Fig13c',animate=False, codedisplay=False)"
   ]
  },
  {
   "cell_type": "code",
   "execution_count": null,
   "id": "80b0e2c0",
   "metadata": {
    "ExecuteTime": {
     "start_time": "2024-04-03T15:09:30.202Z"
    }
   },
   "outputs": [],
   "source": [
    "display_example('Fig13d',animate=False, codedisplay=False)"
   ]
  },
  {
   "cell_type": "markdown",
   "id": "d23ceab6",
   "metadata": {},
   "source": [
    "### 4.3 Applications\n",
    "### Filamentous growth."
   ]
  },
  {
   "cell_type": "code",
   "execution_count": null,
   "id": "84afee1e",
   "metadata": {
    "ExecuteTime": {
     "start_time": "2024-04-03T15:09:30.204Z"
    }
   },
   "outputs": [],
   "source": [
    "display_example('Fig14', codedisplay=False)"
   ]
  },
  {
   "cell_type": "markdown",
   "id": "e987ebcb",
   "metadata": {},
   "source": [
    "### Branching system growth.\n",
    "\n",
    "### Figure 15a: Cabbage leaf model.\n",
    "\n",
    "photos of a white cabbage leaf (up: top view, below: side view).\n",
    "\n",
    "<img src=\"./cabbageleaf.png\" width=250 height=200>"
   ]
  },
  {
   "cell_type": "code",
   "execution_count": null,
   "id": "463f2b30",
   "metadata": {
    "ExecuteTime": {
     "start_time": "2024-04-03T15:09:30.206Z"
    }
   },
   "outputs": [],
   "source": [
    "display_example('Fig15', animate=False, codedisplay=False)"
   ]
  },
  {
   "cell_type": "markdown",
   "id": "de6aaeca",
   "metadata": {},
   "source": [
    "### Plant branching system."
   ]
  },
  {
   "cell_type": "code",
   "execution_count": null,
   "id": "7bcbe09f",
   "metadata": {
    "ExecuteTime": {
     "start_time": "2024-04-03T15:09:30.207Z"
    }
   },
   "outputs": [],
   "source": [
    "display_example('Fig16', animate=False, codedisplay=False)"
   ]
  },
  {
   "cell_type": "markdown",
   "id": "fd3510a0",
   "metadata": {},
   "source": [
    "## 5 Feedbacks between surface and embedded forms\n",
    "\n",
    "### 5.1 Information feedback\n",
    "\n",
    "### Scalar fields"
   ]
  },
  {
   "cell_type": "code",
   "execution_count": null,
   "id": "7d12d229",
   "metadata": {
    "ExecuteTime": {
     "start_time": "2024-04-03T15:09:30.209Z"
    }
   },
   "outputs": [],
   "source": [
    "display_example('Fig17a-c', animate=False, codedisplay=False)"
   ]
  },
  {
   "cell_type": "code",
   "execution_count": null,
   "id": "b8ebc76f",
   "metadata": {
    "ExecuteTime": {
     "start_time": "2024-04-03T15:09:30.210Z"
    }
   },
   "outputs": [],
   "source": [
    "display_example('Fig17d-f', animate=True, codedisplay=False)"
   ]
  },
  {
   "cell_type": "markdown",
   "id": "d4e4d9dc",
   "metadata": {},
   "source": [
    "### Vector fields"
   ]
  },
  {
   "cell_type": "code",
   "execution_count": null,
   "id": "23f5049d",
   "metadata": {
    "ExecuteTime": {
     "start_time": "2024-04-03T15:09:30.212Z"
    }
   },
   "outputs": [],
   "source": [
    "display_example('Fig18a', animate=False, codedisplay=False)"
   ]
  },
  {
   "cell_type": "code",
   "execution_count": null,
   "id": "a4953023",
   "metadata": {
    "ExecuteTime": {
     "start_time": "2024-04-03T15:09:30.213Z"
    }
   },
   "outputs": [],
   "source": [
    "display_example('Fig18b', animate=False, codedisplay=False)"
   ]
  },
  {
   "cell_type": "code",
   "execution_count": null,
   "id": "1c0f4bdc",
   "metadata": {
    "ExecuteTime": {
     "start_time": "2024-04-03T15:09:30.215Z"
    }
   },
   "outputs": [],
   "source": [
    "display_example('Fig18c-d', animate=False, codedisplay=False)"
   ]
  },
  {
   "cell_type": "markdown",
   "id": "a2e3ec93",
   "metadata": {},
   "source": [
    "### 5.2 Embedding of forms in dynamic surfaces\n",
    "\n",
    "### Convected versus floating forms"
   ]
  },
  {
   "cell_type": "code",
   "execution_count": null,
   "id": "c6b3ad3b",
   "metadata": {
    "ExecuteTime": {
     "start_time": "2024-04-03T15:09:30.216Z"
    }
   },
   "outputs": [],
   "source": [
    "display_example('Fig19a', animate=False)"
   ]
  },
  {
   "cell_type": "code",
   "execution_count": null,
   "id": "d43ad72b",
   "metadata": {
    "ExecuteTime": {
     "start_time": "2024-04-03T15:09:30.218Z"
    }
   },
   "outputs": [],
   "source": [
    "display_example('Fig19b-c', animate=False, codedisplay=False)"
   ]
  },
  {
   "cell_type": "markdown",
   "id": "b4f3cafe",
   "metadata": {},
   "source": [
    "### Feedback of the embedding surface growth on the form"
   ]
  },
  {
   "cell_type": "code",
   "execution_count": null,
   "id": "59f21cfc",
   "metadata": {
    "ExecuteTime": {
     "start_time": "2024-04-03T15:09:30.220Z"
    }
   },
   "outputs": [],
   "source": [
    "display_example('Fig20a-b', animate=False, codedisplay=False)"
   ]
  },
  {
   "cell_type": "code",
   "execution_count": null,
   "id": "4f4e569b",
   "metadata": {
    "ExecuteTime": {
     "start_time": "2024-04-03T15:09:30.221Z"
    }
   },
   "outputs": [],
   "source": [
    "display_example('Fig20c-d', animate=False, codedisplay=False)"
   ]
  },
  {
   "cell_type": "markdown",
   "id": "bdd8007a",
   "metadata": {},
   "source": [
    "### Figure 21a: Kidney fern model. \n",
    "\n",
    "Hymenophyllum nephrophyllum (Kidney fern).\n",
    "\n",
    "<img src=\"./kidneyfern.png\" height=200 width=300>"
   ]
  },
  {
   "cell_type": "code",
   "execution_count": null,
   "id": "e193a082",
   "metadata": {
    "ExecuteTime": {
     "start_time": "2024-04-03T15:09:30.223Z"
    }
   },
   "outputs": [],
   "source": [
    "display_example('Fig21', animate=False, codedisplay=False)"
   ]
  },
  {
   "cell_type": "code",
   "execution_count": null,
   "id": "ed02487d",
   "metadata": {
    "ExecuteTime": {
     "start_time": "2024-04-03T15:09:30.224Z"
    }
   },
   "outputs": [],
   "source": [
    "display_example('Fig21', animate=False, codedisplay=False)"
   ]
  },
  {
   "cell_type": "markdown",
   "id": "7b306fbb",
   "metadata": {},
   "source": [
    "## 6 L-systems in abstract Riemannian spaces\n",
    "\n",
    "### 6.2 Examples in 2-D abstract Riemannian spaces\n"
   ]
  },
  {
   "cell_type": "code",
   "execution_count": null,
   "id": "4f60159a",
   "metadata": {
    "ExecuteTime": {
     "start_time": "2024-04-03T15:09:30.226Z"
    }
   },
   "outputs": [],
   "source": [
    "display_example('Fig22', animate=False, codedisplay=False)"
   ]
  },
  {
   "cell_type": "markdown",
   "id": "fb62f7c0",
   "metadata": {},
   "source": [
    "### Immersion of an intrinsic geometry in an abstract space"
   ]
  },
  {
   "cell_type": "code",
   "execution_count": null,
   "id": "dbe2dd54",
   "metadata": {
    "ExecuteTime": {
     "end_time": "2024-04-03T16:00:12.982441Z",
     "start_time": "2024-04-03T16:00:12.141918Z"
    }
   },
   "outputs": [],
   "source": [
    "display_example('Fig23', animate=False)"
   ]
  },
  {
   "cell_type": "markdown",
   "id": "a13de4ac",
   "metadata": {},
   "source": [
    "### Towards modeling tropism in plants with abstract Riemannian spaces"
   ]
  },
  {
   "cell_type": "code",
   "execution_count": null,
   "id": "f0d12248",
   "metadata": {
    "ExecuteTime": {
     "end_time": "2024-04-03T16:02:08.561447Z",
     "start_time": "2024-04-03T16:02:08.437593Z"
    }
   },
   "outputs": [],
   "source": [
    "display_example('Fig24', animate=False, codedisplay=False)"
   ]
  }
 ],
 "metadata": {
  "kernelspec": {
   "display_name": "Python 3 (ipykernel)",
   "language": "python",
   "name": "python3"
  },
  "language_info": {
   "codemirror_mode": {
    "name": "ipython",
    "version": 3
   },
   "file_extension": ".py",
   "mimetype": "text/x-python",
   "name": "python",
   "nbconvert_exporter": "python",
   "pygments_lexer": "ipython3",
   "version": "3.10.10"
  }
 },
 "nbformat": 4,
 "nbformat_minor": 5
}

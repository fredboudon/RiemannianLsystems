{
 "cells": [
  {
   "cell_type": "markdown",
   "id": "37ca78c6",
   "metadata": {},
   "source": [
    "<center>\n",
    "\n",
    "# Riemannian L-systems: Modeling growing forms in curved spaces\n",
    "\n",
    "## Christophe Godin<sup>1</sup> and Frédéric Boudon<sup>2,3</sup>\n",
    "</center>\n",
    "\n",
    "\n",
    "<center>\n",
    "<sup>1</sup>Laboratoire Reproduction et Développement des Plantes, Univ Lyon, ENS de Lyon, UCB Lyon1, CNRS,\n",
    "INRAE, Inria, F-69342 Lyon, France\n",
    "</center>\n",
    "\n",
    "<center>\n",
    "<sup>2</sup>CIRAD, UMR AGAP Institute, F-34398 Montpellier, France\n",
    "</center>\n",
    "<center>\n",
    "<sup>3</sup>UMR AGAP Institute, Univ. Montpellier, CIRAD, INRAE, Institute Agro, Montpellier, France\n",
    "</center>\n",
    "\n",
    "<center>\n",
    "christophe.godin@inria.fr, frederic.boudon@cirad.fr\n",
    "</center>"
   ]
  },
  {
   "cell_type": "markdown",
   "id": "d46242ad",
   "metadata": {},
   "source": [
    "## Abstract\n",
    "\n",
    "In the past 50 years, L-systems have been successfully used to model the development of filamentous and branching forms in biology. Their success is largely due to the fact that they rely on the mathematical notion of discrete rewriting systems, that in essence simply reflects the idea that the evolution of a structure results from the evolution of its individual components. This core property is reminiscent of how biological organisms develop and happens to be critical to model their growth. The formalism of L-systems has been developed to model the growth of forms in Euclidean 1-D, 2-D, or 3-D spaces. These spaces have the property to be flat and show no curvature anywhere. However, the growth of various forms or processes in biology takes place in curved spaces. This is for example the case of vein networks growing within curved leaf blades, of unicellular tubes, such as pollen tubes, growing on curved surfaces to fertilize distant ovules, of teeth patterns growing on folded epithelia of animals, of diffusion of chemical or mechanical signals at the surface of plant or animal tissues, etc. To model these growing forms in curved spaces, we thus developed further the theory of L-systems. In a first step we show that this extension can be carried out by integrating concepts of differential geometry in the notion of turtle geometry. We then illustrate how this extension can be applied to model and program the development of both mathematical and biological forms on curved surfaces embedded in our Euclidean space. We provide various examples applied to plant development. We finally show that this approach can be extended to more abstract spaces, called abstract Riemannian spaces, that are not embedded into any higher space, while being intrinsically curved. We suggest that this abstract extension can be used to provide a new approach for effective modeling of tropism phenomena and illustrate this idea on a few conceptual examples."
   ]
  },
  {
   "cell_type": "code",
   "execution_count": null,
   "id": "e2906d33",
   "metadata": {
    "ExecuteTime": {
     "end_time": "2024-03-30T10:22:22.413563Z",
     "start_time": "2024-03-30T10:22:21.264920Z"
    },
    "tags": []
   },
   "outputs": [],
   "source": [
    "import pgljupyter\n",
    "from display import display_example, display_examples"
   ]
  },
  {
   "cell_type": "markdown",
   "id": "ad48356b",
   "metadata": {},
   "source": [
    "## 2. L-systems overview\n",
    "### 2.4 L-system examples in L-Py"
   ]
  },
  {
   "cell_type": "code",
   "execution_count": null,
   "id": "9dfdc1f8",
   "metadata": {
    "ExecuteTime": {
     "end_time": "2024-03-29T08:41:19.678554Z",
     "start_time": "2024-03-29T08:41:19.388477Z"
    },
    "tags": []
   },
   "outputs": [],
   "source": [
    "examples = [('Fig01-Listing1','Listing 1: Archimedean spiral'),\n",
    "            ('Fig01-Listing2','Listing 2: Random walk in 2-D')]\n",
    "\n",
    "display_examples(examples)"
   ]
  },
  {
   "cell_type": "code",
   "execution_count": null,
   "id": "d69b2aef",
   "metadata": {
    "ExecuteTime": {
     "end_time": "2024-03-27T23:20:17.774178Z",
     "start_time": "2024-03-27T23:20:17.738471Z"
    },
    "tags": []
   },
   "outputs": [],
   "source": [
    "examples = [('Fig01-Listing3.lpy','Listing 3: Fractal curve (von Koch flake) '),\n",
    "            ('Fig01-Listing4.lpy','Listing 4: Plant branching structure development')]\n",
    "\n",
    "display_examples(examples, animate=True)"
   ]
  },
  {
   "cell_type": "markdown",
   "id": "c343e928-0c26-48d6-a25f-3d974e48667f",
   "metadata": {},
   "source": [
    "## 3. Moving on parametric surfaces\n",
    "### 3.4 Turning on curved surfaces and holonomy\n",
    "### Parallel transport"
   ]
  },
  {
   "cell_type": "code",
   "execution_count": null,
   "id": "aedaa684-5bc1-4279-aec2-c76e10d24cac",
   "metadata": {
    "ExecuteTime": {
     "end_time": "2024-03-30T10:22:26.520557Z",
     "start_time": "2024-03-30T10:22:25.344327Z"
    },
    "tags": []
   },
   "outputs": [],
   "source": [
    "display_example('Fig08-Listing5.lpy','Figure 8: Holonomy and parallel transport using Riemannian Lsystems.','(a-b) parallel transport of a vector along a polygon made of geodesics. The vector is initially tangent to the first geodesic, then is perpendicular to the tangent on the second geodesic, then points backward on the third geodesic segment. (d-c) parallel transport of a vector not tangent to the first geodesic. The vector keeps a constant angle with the tangent vector, but this angle changes each time the turtle turns. (e-f) parallel transport along a curve that is not a geodesic: the angle between the transporting curve and the transported vector varies continuously.')"
   ]
  },
  {
   "cell_type": "markdown",
   "id": "918eb470",
   "metadata": {},
   "source": [
    "### Closed polygons on a surface"
   ]
  },
  {
   "cell_type": "code",
   "execution_count": null,
   "id": "c34fb6c3-cc2f-4fd2-a25e-6cc91d91b1cc",
   "metadata": {
    "tags": []
   },
   "outputs": [],
   "source": [
    "display_example('Fig09.lpy','Figure 9: Drawing closed polygons on curved surfaces.','(step 0) failure to close a square by forcing consecutive sides to be at 90 degrees from one another on a curved surface. (step 1) Square drawn in the parameter space, and then pushed on the surface (step 2) Alternative geometric construction of the square preserving the right angle at the intersection of the diagonals and their length. (SPHERE flag) selection of the space between a sphere and a bumpy patch.', animate=False)"
   ]
  },
  {
   "cell_type": "markdown",
   "id": "17fee58e",
   "metadata": {},
   "source": [
    "### Drawing smooth curve on a curved surface"
   ]
  },
  {
   "cell_type": "code",
   "execution_count": null,
   "id": "be69d48b-a31c-4489-9758-a1f6889b9a14",
   "metadata": {
    "tags": []
   },
   "outputs": [],
   "source": [
    "examples = [['Fig10a-e','Figure 10a-e: B-splines on a curved surface.', '(step 0) The quadrilateral control polygon of a sphere is drawn to be refined. (step 1) Duplication operation with new control points (in purple) are inserted in the midpoint of each segment. (step 2&3) All original control points (in red) are move toward the midpoint of their succeeding segments (in purple). In this case a B-Spline of degree 3 is targeted and thus 2 move operation are applied. (step4) The resulting control polygon after a complete subdivision step.'],\n",
    "            ['Fig10f-h','Figure 10f-h: B-splines on a curved surface.','The successive control polygons (in green) after 1, 2 and 3 subdivision steps respectively.'],\n",
    "            ['Fig10i-k','Figure 10i-k: B-splines on a curved surface.','(i-k) The BSpline curve is defined by control points positioned using the L-system 6 that generates a simple branching structure. The L-system is applied on (i) a flat surface, (j) an ellipsoid and (k) a bumpy ellipsoid.'],\n",
    "            ['Fig10l-n','Figure 10l-n: B-splines on a curved surface.','(l) The control polygon of a salamander shape. (m-o) The interpretation of the control polygon as BSplines of degree 2, 3 and 8 respectively. The degree of the curve controls the number of control point that influences each point of the curve.']]\n",
    "\n",
    "display_examples(examples,animate=False)"
   ]
  },
  {
   "cell_type": "markdown",
   "id": "9f8a82ff-fad6-4006-9ed1-5f922fa2f1ad",
   "metadata": {},
   "source": [
    "## 4. Freely growing forms on curved surfaces\n",
    "### 4.1 Geodesic trajectories"
   ]
  },
  {
   "cell_type": "code",
   "execution_count": null,
   "id": "7a0e6249-7db7-46d3-8fda-7eabb5131020",
   "metadata": {
    "ExecuteTime": {
     "end_time": "2024-03-29T08:36:58.915454Z",
     "start_time": "2024-03-29T08:36:58.813187Z"
    }
   },
   "outputs": [],
   "source": [
    "example = ['Fig11a','Figure 11a: Geodesics on surfaces of revolution.', '(step 0) The quadrilateral control polygon of a sphere is drawn to be refined. (step 1) Duplication operation with new control points (in purple) are inserted in the midpoint of each segment. (step 2&3) All original control points (in red) are move toward the midpoint of their succeeding segments (in purple). In this case a B-Spline of degree 3 is targeted and thus 2 move operation are applied. (step4) The resulting control polygon after a complete subdivision step.']\n",
    "display_example(*example,animate=False)"
   ]
  },
  {
   "cell_type": "code",
   "execution_count": null,
   "id": "4f3424f8",
   "metadata": {},
   "outputs": [],
   "source": [
    "example = ['Fig11b','Figure 11b: Geodesics on surfaces of revolution.','Comparison of the behavior of close geodesic trajectories in spaces with positive (sphere) and negative (pseudo-sphere) curvatures. In both examples, geodesics start with parallel orientation (red arrow).']\n",
    "display_example(*example,animate=False)"
   ]
  },
  {
   "cell_type": "code",
   "execution_count": null,
   "id": "f017d93c",
   "metadata": {
    "ExecuteTime": {
     "end_time": "2024-03-29T08:34:23.360549Z",
     "start_time": "2024-03-29T08:34:23.103380Z"
    }
   },
   "outputs": [],
   "source": [
    "example = ['Fig11c','Figure 11c: Geodesics on surfaces of revolution.',' Geodesics in a space with negative Gaussian curvature starting with varied initial orientations. Geodesics are deflected by the space curvature all the more that they pass closer to the center of the shape.']\n",
    "display_example(*example)"
   ]
  },
  {
   "cell_type": "markdown",
   "id": "8fc6f4b5",
   "metadata": {},
   "source": [
    "### 4.2 Turning and branching\n",
    "### Fractals."
   ]
  },
  {
   "cell_type": "code",
   "execution_count": null,
   "id": "5586fffc",
   "metadata": {
    "ExecuteTime": {
     "end_time": "2024-03-29T13:20:53.282420Z",
     "start_time": "2024-03-29T13:20:53.205924Z"
    }
   },
   "outputs": [],
   "source": [
    "example = ['Fig12','Figure 12: Using the turtle to draw fractals on curved spaces.',' (SPACE=0) prefractal sequence of the von Koch Curve in a flat space (SPACE=1) Prefractal sequence obtained by the same procedure as in a on a sphere of radius 1, and (SPACE=0,HALF_RADIUS=True) on sphere of radius 1/2. (SPACE=2,SEGLENGTH) von Koch curves with increasing step length on a torus.']\n",
    "display_example(*example)"
   ]
  },
  {
   "cell_type": "markdown",
   "id": "7d9b5746",
   "metadata": {},
   "source": [
    "### Branching patterns."
   ]
  },
  {
   "cell_type": "code",
   "execution_count": null,
   "id": "e81bd251",
   "metadata": {
    "ExecuteTime": {
     "end_time": "2024-03-29T16:33:31.927296Z",
     "start_time": "2024-03-29T16:33:31.847812Z"
    }
   },
   "outputs": [],
   "source": [
    "examples = [['Fig13a','Figure 13a: Growing tree structures on curved surfaces.','Tree on spheres (constant Gaussian positive curvature) with decreasing radii (1, 0.7, 0.5)'],\n",
    "            ['Fig13b','Figure 13b: Growing tree structures on curved surfaces.','Tree on a pseudo-sphere surface (constant Gaussian negative curvature) at different altitudes showing the effect of a local change of the extrinsic geometry on tree structures.'],\n",
    "            ['Fig13c','Figure 13c: Growing tree structures on curved surfaces.','Tree growth on a torus. Left: reference tree grown in a flat space. Middle: the tree trunk is aligned along the external great circle (region of positive Gaussian curvature). Remark in the central region at the tip that the small branches form a very densely organized fan. Compare with Right: the tree trunk is aligned along the inner great circle (region of negative Gaussian curvature). In the central region at the tip that the small branches form a less dense fan.'],\n",
    "            ['Fig13d','Figure 13d: Growing tree structures on curved surfaces.','Tree representing the veins of a leaf, created by joining pre-specified (red) points on the rim (left) to a main branching system using a RiemannianLineTo primitive (BVP). next to right: resulting branching system in the same view as left, followed on the right by a view slightly tilted, and to the right-end, the back of the leaf.']]\n",
    "\n",
    "display_example(*examples[0],animate=False, codedisplay=False)"
   ]
  },
  {
   "cell_type": "code",
   "execution_count": null,
   "id": "d8ffb8d3",
   "metadata": {
    "ExecuteTime": {
     "end_time": "2024-03-29T16:33:36.170610Z",
     "start_time": "2024-03-29T16:33:35.959882Z"
    }
   },
   "outputs": [],
   "source": [
    "display_example(*examples[1],animate=False, codedisplay=False)"
   ]
  },
  {
   "cell_type": "code",
   "execution_count": null,
   "id": "f6092b39",
   "metadata": {
    "ExecuteTime": {
     "end_time": "2024-03-29T16:33:46.694627Z",
     "start_time": "2024-03-29T16:33:46.601083Z"
    }
   },
   "outputs": [],
   "source": [
    "display_example(*examples[2],animate=False, codedisplay=False)"
   ]
  },
  {
   "cell_type": "code",
   "execution_count": null,
   "id": "80b0e2c0",
   "metadata": {
    "ExecuteTime": {
     "end_time": "2024-03-29T16:33:55.476700Z",
     "start_time": "2024-03-29T16:33:55.353486Z"
    }
   },
   "outputs": [],
   "source": [
    "display_example(*examples[3],animate=False, codedisplay=False)"
   ]
  },
  {
   "cell_type": "markdown",
   "id": "d23ceab6",
   "metadata": {},
   "source": [
    "## 4.3 Applications\n",
    "### Filamentous growth."
   ]
  },
  {
   "cell_type": "code",
   "execution_count": null,
   "id": "84afee1e",
   "metadata": {
    "ExecuteTime": {
     "end_time": "2024-03-29T16:37:14.247180Z",
     "start_time": "2024-03-29T16:37:13.850197Z"
    }
   },
   "outputs": [],
   "source": [
    "example = ['Fig14','Figure 14: Geodesics on a pin-formed surface.','A geodesic of constant length l in yellow is initiated at a constant angle (28 degrees downward) with respect to the latitude at the level of the pollen grain position (green point). From left to right: the mid-height neck of the pin surface is progressively reduced from left to right (the value of D decreases). As a result the geodesic coils increasingly around the neck, up to a point where it cannot pass the neck anymore and coils in the top region.']\n",
    "display_example(*example, codedisplay=False)"
   ]
  },
  {
   "cell_type": "markdown",
   "id": "e987ebcb",
   "metadata": {},
   "source": [
    "### Branching system growth.\n",
    "\n",
    "### Figure 15a: Cabbage leaf model.\n",
    "\n",
    "(a) photos of a white cabbage leaf (up: top view, below: side view).\n",
    "\n",
    "<img src=\"./cabbageleaf.png\" width=250 height=200>"
   ]
  },
  {
   "cell_type": "code",
   "execution_count": null,
   "id": "463f2b30",
   "metadata": {
    "ExecuteTime": {
     "end_time": "2024-03-29T16:43:59.900821Z",
     "start_time": "2024-03-29T16:43:59.805660Z"
    }
   },
   "outputs": [],
   "source": [
    "example = ['Fig15','Figure 15: Cabbage leaf model.','(Axiom) Approximated NURBS model of the cabbage leaf (RUN) views of the vascular network constructed with Riemannian L-systems, with veins corresponding to geodesics computed as IVPs.']\n",
    "display_example(*example, animate=False, codedisplay=False)"
   ]
  },
  {
   "cell_type": "markdown",
   "id": "de6aaeca",
   "metadata": {},
   "source": [
    "### Plant branching system."
   ]
  },
  {
   "cell_type": "code",
   "execution_count": null,
   "id": "7bcbe09f",
   "metadata": {
    "ExecuteTime": {
     "end_time": "2024-03-29T16:47:16.680945Z",
     "start_time": "2024-03-29T16:47:15.950799Z"
    }
   },
   "outputs": [],
   "source": [
    "example = ['Fig16','Figure 16: Climbing ivy.','A tree trunk is modeled as a generalized cylinder on which the growth of an ivy is simulated. On the left, the wireframe representation of the trunk and the branching system of the ivy. On the right, semi-transparent polygonal representation of the trunk with the full leafy ivy structure.']\n",
    "display_example(*example, animate=False, codedisplay=False)"
   ]
  },
  {
   "cell_type": "code",
   "execution_count": null,
   "id": "7d12d229",
   "metadata": {},
   "outputs": [],
   "source": []
  }
 ],
 "metadata": {
  "kernelspec": {
   "display_name": "Python 3 (ipykernel)",
   "language": "python",
   "name": "python3"
  },
  "language_info": {
   "codemirror_mode": {
    "name": "ipython",
    "version": 3
   },
   "file_extension": ".py",
   "mimetype": "text/x-python",
   "name": "python",
   "nbconvert_exporter": "python",
   "pygments_lexer": "ipython3",
   "version": "3.10.10"
  }
 },
 "nbformat": 4,
 "nbformat_minor": 5
}

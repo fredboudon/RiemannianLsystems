{
 "cells": [
  {
   "cell_type": "markdown",
   "id": "37ca78c6",
   "metadata": {},
   "source": [
    "<center>\n",
    "\n",
    "# Riemannian L-systems: Modeling growing forms in curved spaces\n",
    "\n",
    "## Christophe Godin<sup>1</sup> and Frédéric Boudon<sup>2,3</sup>\n",
    "</center>\n",
    "\n",
    "\n",
    "<center>\n",
    "<sup>1</sup>Laboratoire Reproduction et Développement des Plantes, Univ Lyon, ENS de Lyon, UCB Lyon1, CNRS,\n",
    "INRAE, Inria, F-69342 Lyon, France\n",
    "</center>\n",
    "\n",
    "<center>\n",
    "<sup>2</sup>CIRAD, UMR AGAP Institute, F-34398 Montpellier, France\n",
    "</center>\n",
    "<center>\n",
    "<sup>3</sup>UMR AGAP Institute, Univ. Montpellier, CIRAD, INRAE, Institute Agro, Montpellier, France\n",
    "</center>\n",
    "\n",
    "<center>\n",
    "christophe.godin@inria.fr, frederic.boudon@cirad.fr\n",
    "</center>"
   ]
  },
  {
   "cell_type": "markdown",
   "id": "d46242ad",
   "metadata": {},
   "source": [
    "## Abstract\n",
    "\n",
    "In the past 50 years, L-systems have been successfully used to model the development of filamentous and branching forms in biology. Their success is largely due to the fact that they rely on the mathematical notion of discrete rewriting systems, that in essence simply reflects the idea that the evolution of a structure results from the evolution of its individual components. This core property is reminiscent of how biological organisms develop and happens to be critical to model their growth. The formalism of L-systems has been developed to model the growth of forms in Euclidean 1-D, 2-D, or 3-D spaces. These spaces have the property to be flat and show no curvature anywhere. However, the growth of various forms or processes in biology takes place in curved spaces. This is for example the case of vein networks growing within curved leaf blades, of unicellular tubes, such as pollen tubes, growing on curved surfaces to fertilize distant ovules, of teeth patterns growing on folded epithelia of animals, of diffusion of chemical or mechanical signals at the surface of plant or animal tissues, etc. To model these growing forms in curved spaces, we thus developed further the theory of L-systems. In a first step we show that this extension can be carried out by integrating concepts of differential geometry in the notion of turtle geometry. We then illustrate how this extension can be applied to model and program the development of both mathematical and biological forms on curved surfaces embedded in our Euclidean space. We provide various examples applied to plant development. We finally show that this approach can be extended to more abstract spaces, called abstract Riemannian spaces, that are not embedded into any higher space, while being intrinsically curved. We suggest that this abstract extension can be used to provide a new approach for effective modeling of tropism phenomena and illustrate this idea on a few conceptual examples."
   ]
  },
  {
   "cell_type": "code",
   "execution_count": 7,
   "id": "e2906d33",
   "metadata": {
    "ExecuteTime": {
     "end_time": "2024-03-27T23:21:17.069808Z",
     "start_time": "2024-03-27T23:21:16.438538Z"
    },
    "tags": []
   },
   "outputs": [],
   "source": [
    "from pgljupyter import *\n",
    "from IPython.display import Code, display\n",
    "\n",
    "def display_example(filename, caption, size_world=50, animate=False):\n",
    "      print('# '+caption)\n",
    "      display(Code(filename='../Lsystems/'+filename, language='python'))\n",
    "      display(LsystemWidget('../Lsystems/'+filename, size_world=size_world, animate=animate))\n",
    "\n",
    "def display_examples(examples, size_world=50, animate=False):\n",
    "    for filename, caption in examples:\n",
    "        display_example(filename, caption, size_world=size_world, animate=animate)\n"
   ]
  },
  {
   "cell_type": "markdown",
   "id": "ad48356b",
   "metadata": {},
   "source": [
    "## 2. L-systems overview"
   ]
  },
  {
   "cell_type": "code",
   "execution_count": 8,
   "id": "9dfdc1f8",
   "metadata": {
    "ExecuteTime": {
     "end_time": "2024-03-27T23:21:18.139418Z",
     "start_time": "2024-03-27T23:21:17.838782Z"
    },
    "tags": []
   },
   "outputs": [
    {
     "name": "stdout",
     "output_type": "stream",
     "text": [
      "# Listing 1: Archimedean spiral\n"
     ]
    },
    {
     "data": {
      "text/html": [
       "<style>pre { line-height: 125%; }\n",
       "td.linenos .normal { color: inherit; background-color: transparent; padding-left: 5px; padding-right: 5px; }\n",
       "span.linenos { color: inherit; background-color: transparent; padding-left: 5px; padding-right: 5px; }\n",
       "td.linenos .special { color: #000000; background-color: #ffffc0; padding-left: 5px; padding-right: 5px; }\n",
       "span.linenos.special { color: #000000; background-color: #ffffc0; padding-left: 5px; padding-right: 5px; }\n",
       ".output_html .hll { background-color: #ffffcc }\n",
       ".output_html { background: #f8f8f8; }\n",
       ".output_html .c { color: #3D7B7B; font-style: italic } /* Comment */\n",
       ".output_html .err { border: 1px solid #FF0000 } /* Error */\n",
       ".output_html .k { color: #008000; font-weight: bold } /* Keyword */\n",
       ".output_html .o { color: #666666 } /* Operator */\n",
       ".output_html .ch { color: #3D7B7B; font-style: italic } /* Comment.Hashbang */\n",
       ".output_html .cm { color: #3D7B7B; font-style: italic } /* Comment.Multiline */\n",
       ".output_html .cp { color: #9C6500 } /* Comment.Preproc */\n",
       ".output_html .cpf { color: #3D7B7B; font-style: italic } /* Comment.PreprocFile */\n",
       ".output_html .c1 { color: #3D7B7B; font-style: italic } /* Comment.Single */\n",
       ".output_html .cs { color: #3D7B7B; font-style: italic } /* Comment.Special */\n",
       ".output_html .gd { color: #A00000 } /* Generic.Deleted */\n",
       ".output_html .ge { font-style: italic } /* Generic.Emph */\n",
       ".output_html .gr { color: #E40000 } /* Generic.Error */\n",
       ".output_html .gh { color: #000080; font-weight: bold } /* Generic.Heading */\n",
       ".output_html .gi { color: #008400 } /* Generic.Inserted */\n",
       ".output_html .go { color: #717171 } /* Generic.Output */\n",
       ".output_html .gp { color: #000080; font-weight: bold } /* Generic.Prompt */\n",
       ".output_html .gs { font-weight: bold } /* Generic.Strong */\n",
       ".output_html .gu { color: #800080; font-weight: bold } /* Generic.Subheading */\n",
       ".output_html .gt { color: #0044DD } /* Generic.Traceback */\n",
       ".output_html .kc { color: #008000; font-weight: bold } /* Keyword.Constant */\n",
       ".output_html .kd { color: #008000; font-weight: bold } /* Keyword.Declaration */\n",
       ".output_html .kn { color: #008000; font-weight: bold } /* Keyword.Namespace */\n",
       ".output_html .kp { color: #008000 } /* Keyword.Pseudo */\n",
       ".output_html .kr { color: #008000; font-weight: bold } /* Keyword.Reserved */\n",
       ".output_html .kt { color: #B00040 } /* Keyword.Type */\n",
       ".output_html .m { color: #666666 } /* Literal.Number */\n",
       ".output_html .s { color: #BA2121 } /* Literal.String */\n",
       ".output_html .na { color: #687822 } /* Name.Attribute */\n",
       ".output_html .nb { color: #008000 } /* Name.Builtin */\n",
       ".output_html .nc { color: #0000FF; font-weight: bold } /* Name.Class */\n",
       ".output_html .no { color: #880000 } /* Name.Constant */\n",
       ".output_html .nd { color: #AA22FF } /* Name.Decorator */\n",
       ".output_html .ni { color: #717171; font-weight: bold } /* Name.Entity */\n",
       ".output_html .ne { color: #CB3F38; font-weight: bold } /* Name.Exception */\n",
       ".output_html .nf { color: #0000FF } /* Name.Function */\n",
       ".output_html .nl { color: #767600 } /* Name.Label */\n",
       ".output_html .nn { color: #0000FF; font-weight: bold } /* Name.Namespace */\n",
       ".output_html .nt { color: #008000; font-weight: bold } /* Name.Tag */\n",
       ".output_html .nv { color: #19177C } /* Name.Variable */\n",
       ".output_html .ow { color: #AA22FF; font-weight: bold } /* Operator.Word */\n",
       ".output_html .w { color: #bbbbbb } /* Text.Whitespace */\n",
       ".output_html .mb { color: #666666 } /* Literal.Number.Bin */\n",
       ".output_html .mf { color: #666666 } /* Literal.Number.Float */\n",
       ".output_html .mh { color: #666666 } /* Literal.Number.Hex */\n",
       ".output_html .mi { color: #666666 } /* Literal.Number.Integer */\n",
       ".output_html .mo { color: #666666 } /* Literal.Number.Oct */\n",
       ".output_html .sa { color: #BA2121 } /* Literal.String.Affix */\n",
       ".output_html .sb { color: #BA2121 } /* Literal.String.Backtick */\n",
       ".output_html .sc { color: #BA2121 } /* Literal.String.Char */\n",
       ".output_html .dl { color: #BA2121 } /* Literal.String.Delimiter */\n",
       ".output_html .sd { color: #BA2121; font-style: italic } /* Literal.String.Doc */\n",
       ".output_html .s2 { color: #BA2121 } /* Literal.String.Double */\n",
       ".output_html .se { color: #AA5D1F; font-weight: bold } /* Literal.String.Escape */\n",
       ".output_html .sh { color: #BA2121 } /* Literal.String.Heredoc */\n",
       ".output_html .si { color: #A45A77; font-weight: bold } /* Literal.String.Interpol */\n",
       ".output_html .sx { color: #008000 } /* Literal.String.Other */\n",
       ".output_html .sr { color: #A45A77 } /* Literal.String.Regex */\n",
       ".output_html .s1 { color: #BA2121 } /* Literal.String.Single */\n",
       ".output_html .ss { color: #19177C } /* Literal.String.Symbol */\n",
       ".output_html .bp { color: #008000 } /* Name.Builtin.Pseudo */\n",
       ".output_html .fm { color: #0000FF } /* Name.Function.Magic */\n",
       ".output_html .vc { color: #19177C } /* Name.Variable.Class */\n",
       ".output_html .vg { color: #19177C } /* Name.Variable.Global */\n",
       ".output_html .vi { color: #19177C } /* Name.Variable.Instance */\n",
       ".output_html .vm { color: #19177C } /* Name.Variable.Magic */\n",
       ".output_html .il { color: #666666 } /* Literal.Number.Integer.Long */</style><div class=\"highlight\"><pre><span></span><span class=\"n\">Axiom</span><span class=\"p\">:</span> <span class=\"n\">A</span><span class=\"p\">(</span><span class=\"mi\">1</span><span class=\"p\">)</span>\n",
       "<span class=\"n\">derivation</span> <span class=\"n\">length</span><span class=\"p\">:</span> <span class=\"mi\">20</span>\n",
       "<span class=\"n\">production</span><span class=\"p\">:</span>\n",
       "<span class=\"n\">A</span><span class=\"p\">(</span><span class=\"n\">n</span><span class=\"p\">)</span> <span class=\"o\">--&gt;</span> <span class=\"n\">F</span><span class=\"p\">(</span><span class=\"n\">n</span><span class=\"p\">)</span><span class=\"o\">+</span><span class=\"p\">(</span><span class=\"mi\">60</span><span class=\"p\">)</span><span class=\"n\">A</span><span class=\"p\">(</span><span class=\"n\">n</span><span class=\"o\">+</span><span class=\"mi\">1</span><span class=\"p\">)</span>\n",
       "<span class=\"n\">endlsystem</span>\n",
       "</pre></div>\n"
      ],
      "text/latex": [
       "\\begin{Verbatim}[commandchars=\\\\\\{\\}]\n",
       "\\PY{n}{Axiom}\\PY{p}{:} \\PY{n}{A}\\PY{p}{(}\\PY{l+m+mi}{1}\\PY{p}{)}\n",
       "\\PY{n}{derivation} \\PY{n}{length}\\PY{p}{:} \\PY{l+m+mi}{20}\n",
       "\\PY{n}{production}\\PY{p}{:}\n",
       "\\PY{n}{A}\\PY{p}{(}\\PY{n}{n}\\PY{p}{)} \\PY{o}{\\PYZhy{}}\\PY{o}{\\PYZhy{}}\\PY{o}{\\PYZgt{}} \\PY{n}{F}\\PY{p}{(}\\PY{n}{n}\\PY{p}{)}\\PY{o}{+}\\PY{p}{(}\\PY{l+m+mi}{60}\\PY{p}{)}\\PY{n}{A}\\PY{p}{(}\\PY{n}{n}\\PY{o}{+}\\PY{l+m+mi}{1}\\PY{p}{)}\n",
       "\\PY{n}{endlsystem}\n",
       "\\end{Verbatim}\n"
      ],
      "text/plain": [
       "Axiom: A(1)\n",
       "derivation length: 20\n",
       "production:\n",
       "A(n) --> F(n)+(60)A(n+1)\n",
       "endlsystem"
      ]
     },
     "metadata": {},
     "output_type": "display_data"
    },
    {
     "data": {
      "application/vnd.jupyter.widget-view+json": {
       "model_id": "7f8e8b86f56a480e96896067c04af829",
       "version_major": 2,
       "version_minor": 0
      },
      "text/plain": [
       "LsystemWidget(derivationLength=20, derivationNumber=None, scene={'data': b'x\\xdaSLrw\\xf5\\xf7e`Pp\\xe0\\xe5RPVVd\\…"
      ]
     },
     "metadata": {},
     "output_type": "display_data"
    },
    {
     "name": "stdout",
     "output_type": "stream",
     "text": [
      "# Listing 2: Random walk in 2-D\n"
     ]
    },
    {
     "data": {
      "text/html": [
       "<style>pre { line-height: 125%; }\n",
       "td.linenos .normal { color: inherit; background-color: transparent; padding-left: 5px; padding-right: 5px; }\n",
       "span.linenos { color: inherit; background-color: transparent; padding-left: 5px; padding-right: 5px; }\n",
       "td.linenos .special { color: #000000; background-color: #ffffc0; padding-left: 5px; padding-right: 5px; }\n",
       "span.linenos.special { color: #000000; background-color: #ffffc0; padding-left: 5px; padding-right: 5px; }\n",
       ".output_html .hll { background-color: #ffffcc }\n",
       ".output_html { background: #f8f8f8; }\n",
       ".output_html .c { color: #3D7B7B; font-style: italic } /* Comment */\n",
       ".output_html .err { border: 1px solid #FF0000 } /* Error */\n",
       ".output_html .k { color: #008000; font-weight: bold } /* Keyword */\n",
       ".output_html .o { color: #666666 } /* Operator */\n",
       ".output_html .ch { color: #3D7B7B; font-style: italic } /* Comment.Hashbang */\n",
       ".output_html .cm { color: #3D7B7B; font-style: italic } /* Comment.Multiline */\n",
       ".output_html .cp { color: #9C6500 } /* Comment.Preproc */\n",
       ".output_html .cpf { color: #3D7B7B; font-style: italic } /* Comment.PreprocFile */\n",
       ".output_html .c1 { color: #3D7B7B; font-style: italic } /* Comment.Single */\n",
       ".output_html .cs { color: #3D7B7B; font-style: italic } /* Comment.Special */\n",
       ".output_html .gd { color: #A00000 } /* Generic.Deleted */\n",
       ".output_html .ge { font-style: italic } /* Generic.Emph */\n",
       ".output_html .gr { color: #E40000 } /* Generic.Error */\n",
       ".output_html .gh { color: #000080; font-weight: bold } /* Generic.Heading */\n",
       ".output_html .gi { color: #008400 } /* Generic.Inserted */\n",
       ".output_html .go { color: #717171 } /* Generic.Output */\n",
       ".output_html .gp { color: #000080; font-weight: bold } /* Generic.Prompt */\n",
       ".output_html .gs { font-weight: bold } /* Generic.Strong */\n",
       ".output_html .gu { color: #800080; font-weight: bold } /* Generic.Subheading */\n",
       ".output_html .gt { color: #0044DD } /* Generic.Traceback */\n",
       ".output_html .kc { color: #008000; font-weight: bold } /* Keyword.Constant */\n",
       ".output_html .kd { color: #008000; font-weight: bold } /* Keyword.Declaration */\n",
       ".output_html .kn { color: #008000; font-weight: bold } /* Keyword.Namespace */\n",
       ".output_html .kp { color: #008000 } /* Keyword.Pseudo */\n",
       ".output_html .kr { color: #008000; font-weight: bold } /* Keyword.Reserved */\n",
       ".output_html .kt { color: #B00040 } /* Keyword.Type */\n",
       ".output_html .m { color: #666666 } /* Literal.Number */\n",
       ".output_html .s { color: #BA2121 } /* Literal.String */\n",
       ".output_html .na { color: #687822 } /* Name.Attribute */\n",
       ".output_html .nb { color: #008000 } /* Name.Builtin */\n",
       ".output_html .nc { color: #0000FF; font-weight: bold } /* Name.Class */\n",
       ".output_html .no { color: #880000 } /* Name.Constant */\n",
       ".output_html .nd { color: #AA22FF } /* Name.Decorator */\n",
       ".output_html .ni { color: #717171; font-weight: bold } /* Name.Entity */\n",
       ".output_html .ne { color: #CB3F38; font-weight: bold } /* Name.Exception */\n",
       ".output_html .nf { color: #0000FF } /* Name.Function */\n",
       ".output_html .nl { color: #767600 } /* Name.Label */\n",
       ".output_html .nn { color: #0000FF; font-weight: bold } /* Name.Namespace */\n",
       ".output_html .nt { color: #008000; font-weight: bold } /* Name.Tag */\n",
       ".output_html .nv { color: #19177C } /* Name.Variable */\n",
       ".output_html .ow { color: #AA22FF; font-weight: bold } /* Operator.Word */\n",
       ".output_html .w { color: #bbbbbb } /* Text.Whitespace */\n",
       ".output_html .mb { color: #666666 } /* Literal.Number.Bin */\n",
       ".output_html .mf { color: #666666 } /* Literal.Number.Float */\n",
       ".output_html .mh { color: #666666 } /* Literal.Number.Hex */\n",
       ".output_html .mi { color: #666666 } /* Literal.Number.Integer */\n",
       ".output_html .mo { color: #666666 } /* Literal.Number.Oct */\n",
       ".output_html .sa { color: #BA2121 } /* Literal.String.Affix */\n",
       ".output_html .sb { color: #BA2121 } /* Literal.String.Backtick */\n",
       ".output_html .sc { color: #BA2121 } /* Literal.String.Char */\n",
       ".output_html .dl { color: #BA2121 } /* Literal.String.Delimiter */\n",
       ".output_html .sd { color: #BA2121; font-style: italic } /* Literal.String.Doc */\n",
       ".output_html .s2 { color: #BA2121 } /* Literal.String.Double */\n",
       ".output_html .se { color: #AA5D1F; font-weight: bold } /* Literal.String.Escape */\n",
       ".output_html .sh { color: #BA2121 } /* Literal.String.Heredoc */\n",
       ".output_html .si { color: #A45A77; font-weight: bold } /* Literal.String.Interpol */\n",
       ".output_html .sx { color: #008000 } /* Literal.String.Other */\n",
       ".output_html .sr { color: #A45A77 } /* Literal.String.Regex */\n",
       ".output_html .s1 { color: #BA2121 } /* Literal.String.Single */\n",
       ".output_html .ss { color: #19177C } /* Literal.String.Symbol */\n",
       ".output_html .bp { color: #008000 } /* Name.Builtin.Pseudo */\n",
       ".output_html .fm { color: #0000FF } /* Name.Function.Magic */\n",
       ".output_html .vc { color: #19177C } /* Name.Variable.Class */\n",
       ".output_html .vg { color: #19177C } /* Name.Variable.Global */\n",
       ".output_html .vi { color: #19177C } /* Name.Variable.Instance */\n",
       ".output_html .vm { color: #19177C } /* Name.Variable.Magic */\n",
       ".output_html .il { color: #666666 } /* Literal.Number.Integer.Long */</style><div class=\"highlight\"><pre><span></span><span class=\"kn\">from</span> <span class=\"nn\">random</span> <span class=\"kn\">import</span> <span class=\"n\">random</span>\n",
       "<span class=\"n\">dl</span> <span class=\"o\">=</span> <span class=\"mf\">1.</span>\n",
       "<span class=\"n\">Axiom</span> <span class=\"p\">:</span> <span class=\"n\">A</span> <span class=\"p\">(</span><span class=\"mi\">0</span><span class=\"p\">)</span>\n",
       "<span class=\"n\">derivation</span> <span class=\"n\">length</span> <span class=\"p\">:</span> <span class=\"mi\">100</span>\n",
       "<span class=\"n\">production</span> <span class=\"p\">:</span>\n",
       "<span class=\"n\">A</span><span class=\"p\">(</span><span class=\"n\">n</span><span class=\"p\">)</span> <span class=\"p\">:</span>\n",
       "  <span class=\"n\">a</span> <span class=\"o\">=</span> <span class=\"mi\">360</span><span class=\"o\">*</span> <span class=\"n\">random</span><span class=\"p\">()</span>\n",
       "  <span class=\"n\">nproduce</span> <span class=\"o\">+</span><span class=\"p\">(</span><span class=\"n\">a</span><span class=\"p\">)</span> <span class=\"n\">F</span><span class=\"p\">(</span><span class=\"n\">dl</span><span class=\"p\">)</span> <span class=\"n\">A</span><span class=\"p\">(</span><span class=\"n\">n</span><span class=\"o\">+</span><span class=\"mi\">1</span><span class=\"p\">)</span>\n",
       "</pre></div>\n"
      ],
      "text/latex": [
       "\\begin{Verbatim}[commandchars=\\\\\\{\\}]\n",
       "\\PY{k+kn}{from} \\PY{n+nn}{random} \\PY{k+kn}{import} \\PY{n}{random}\n",
       "\\PY{n}{dl} \\PY{o}{=} \\PY{l+m+mf}{1.}\n",
       "\\PY{n}{Axiom} \\PY{p}{:} \\PY{n}{A} \\PY{p}{(}\\PY{l+m+mi}{0}\\PY{p}{)}\n",
       "\\PY{n}{derivation} \\PY{n}{length} \\PY{p}{:} \\PY{l+m+mi}{100}\n",
       "\\PY{n}{production} \\PY{p}{:}\n",
       "\\PY{n}{A}\\PY{p}{(}\\PY{n}{n}\\PY{p}{)} \\PY{p}{:}\n",
       "  \\PY{n}{a} \\PY{o}{=} \\PY{l+m+mi}{360}\\PY{o}{*} \\PY{n}{random}\\PY{p}{(}\\PY{p}{)}\n",
       "  \\PY{n}{nproduce} \\PY{o}{+}\\PY{p}{(}\\PY{n}{a}\\PY{p}{)} \\PY{n}{F}\\PY{p}{(}\\PY{n}{dl}\\PY{p}{)} \\PY{n}{A}\\PY{p}{(}\\PY{n}{n}\\PY{o}{+}\\PY{l+m+mi}{1}\\PY{p}{)}\n",
       "\\end{Verbatim}\n"
      ],
      "text/plain": [
       "from random import random\n",
       "dl = 1.\n",
       "Axiom : A (0)\n",
       "derivation length : 100\n",
       "production :\n",
       "A(n) :\n",
       "  a = 360* random()\n",
       "  nproduce +(a) F(dl) A(n+1)"
      ]
     },
     "metadata": {},
     "output_type": "display_data"
    },
    {
     "data": {
      "application/vnd.jupyter.widget-view+json": {
       "model_id": "b18320d6a157432aa77489bbac106f5b",
       "version_major": 2,
       "version_minor": 0
      },
      "text/plain": [
       "LsystemWidget(derivationLength=100, derivationNumber=None, scene={'data': b'x\\xdaSLrw\\xf5\\xf7e`Pp\\xe0\\xe5RPVVd…"
      ]
     },
     "metadata": {},
     "output_type": "display_data"
    }
   ],
   "source": [
    "examples = [('Fig01-Listing1.lpy','Listing 1: Archimedean spiral'),\n",
    "            ('Fig01-Listing2.lpy','Listing 2: Random walk in 2-D')]\n",
    "\n",
    "display_examples(examples)"
   ]
  },
  {
   "cell_type": "code",
   "execution_count": 10,
   "id": "d69b2aef",
   "metadata": {
    "ExecuteTime": {
     "end_time": "2024-03-27T23:20:17.774178Z",
     "start_time": "2024-03-27T23:20:17.738471Z"
    },
    "tags": []
   },
   "outputs": [
    {
     "name": "stdout",
     "output_type": "stream",
     "text": [
      "# Listing 3: Fractal curve (von Koch flake) \n"
     ]
    },
    {
     "data": {
      "text/html": [
       "<style>pre { line-height: 125%; }\n",
       "td.linenos .normal { color: inherit; background-color: transparent; padding-left: 5px; padding-right: 5px; }\n",
       "span.linenos { color: inherit; background-color: transparent; padding-left: 5px; padding-right: 5px; }\n",
       "td.linenos .special { color: #000000; background-color: #ffffc0; padding-left: 5px; padding-right: 5px; }\n",
       "span.linenos.special { color: #000000; background-color: #ffffc0; padding-left: 5px; padding-right: 5px; }\n",
       ".output_html .hll { background-color: #ffffcc }\n",
       ".output_html { background: #f8f8f8; }\n",
       ".output_html .c { color: #3D7B7B; font-style: italic } /* Comment */\n",
       ".output_html .err { border: 1px solid #FF0000 } /* Error */\n",
       ".output_html .k { color: #008000; font-weight: bold } /* Keyword */\n",
       ".output_html .o { color: #666666 } /* Operator */\n",
       ".output_html .ch { color: #3D7B7B; font-style: italic } /* Comment.Hashbang */\n",
       ".output_html .cm { color: #3D7B7B; font-style: italic } /* Comment.Multiline */\n",
       ".output_html .cp { color: #9C6500 } /* Comment.Preproc */\n",
       ".output_html .cpf { color: #3D7B7B; font-style: italic } /* Comment.PreprocFile */\n",
       ".output_html .c1 { color: #3D7B7B; font-style: italic } /* Comment.Single */\n",
       ".output_html .cs { color: #3D7B7B; font-style: italic } /* Comment.Special */\n",
       ".output_html .gd { color: #A00000 } /* Generic.Deleted */\n",
       ".output_html .ge { font-style: italic } /* Generic.Emph */\n",
       ".output_html .gr { color: #E40000 } /* Generic.Error */\n",
       ".output_html .gh { color: #000080; font-weight: bold } /* Generic.Heading */\n",
       ".output_html .gi { color: #008400 } /* Generic.Inserted */\n",
       ".output_html .go { color: #717171 } /* Generic.Output */\n",
       ".output_html .gp { color: #000080; font-weight: bold } /* Generic.Prompt */\n",
       ".output_html .gs { font-weight: bold } /* Generic.Strong */\n",
       ".output_html .gu { color: #800080; font-weight: bold } /* Generic.Subheading */\n",
       ".output_html .gt { color: #0044DD } /* Generic.Traceback */\n",
       ".output_html .kc { color: #008000; font-weight: bold } /* Keyword.Constant */\n",
       ".output_html .kd { color: #008000; font-weight: bold } /* Keyword.Declaration */\n",
       ".output_html .kn { color: #008000; font-weight: bold } /* Keyword.Namespace */\n",
       ".output_html .kp { color: #008000 } /* Keyword.Pseudo */\n",
       ".output_html .kr { color: #008000; font-weight: bold } /* Keyword.Reserved */\n",
       ".output_html .kt { color: #B00040 } /* Keyword.Type */\n",
       ".output_html .m { color: #666666 } /* Literal.Number */\n",
       ".output_html .s { color: #BA2121 } /* Literal.String */\n",
       ".output_html .na { color: #687822 } /* Name.Attribute */\n",
       ".output_html .nb { color: #008000 } /* Name.Builtin */\n",
       ".output_html .nc { color: #0000FF; font-weight: bold } /* Name.Class */\n",
       ".output_html .no { color: #880000 } /* Name.Constant */\n",
       ".output_html .nd { color: #AA22FF } /* Name.Decorator */\n",
       ".output_html .ni { color: #717171; font-weight: bold } /* Name.Entity */\n",
       ".output_html .ne { color: #CB3F38; font-weight: bold } /* Name.Exception */\n",
       ".output_html .nf { color: #0000FF } /* Name.Function */\n",
       ".output_html .nl { color: #767600 } /* Name.Label */\n",
       ".output_html .nn { color: #0000FF; font-weight: bold } /* Name.Namespace */\n",
       ".output_html .nt { color: #008000; font-weight: bold } /* Name.Tag */\n",
       ".output_html .nv { color: #19177C } /* Name.Variable */\n",
       ".output_html .ow { color: #AA22FF; font-weight: bold } /* Operator.Word */\n",
       ".output_html .w { color: #bbbbbb } /* Text.Whitespace */\n",
       ".output_html .mb { color: #666666 } /* Literal.Number.Bin */\n",
       ".output_html .mf { color: #666666 } /* Literal.Number.Float */\n",
       ".output_html .mh { color: #666666 } /* Literal.Number.Hex */\n",
       ".output_html .mi { color: #666666 } /* Literal.Number.Integer */\n",
       ".output_html .mo { color: #666666 } /* Literal.Number.Oct */\n",
       ".output_html .sa { color: #BA2121 } /* Literal.String.Affix */\n",
       ".output_html .sb { color: #BA2121 } /* Literal.String.Backtick */\n",
       ".output_html .sc { color: #BA2121 } /* Literal.String.Char */\n",
       ".output_html .dl { color: #BA2121 } /* Literal.String.Delimiter */\n",
       ".output_html .sd { color: #BA2121; font-style: italic } /* Literal.String.Doc */\n",
       ".output_html .s2 { color: #BA2121 } /* Literal.String.Double */\n",
       ".output_html .se { color: #AA5D1F; font-weight: bold } /* Literal.String.Escape */\n",
       ".output_html .sh { color: #BA2121 } /* Literal.String.Heredoc */\n",
       ".output_html .si { color: #A45A77; font-weight: bold } /* Literal.String.Interpol */\n",
       ".output_html .sx { color: #008000 } /* Literal.String.Other */\n",
       ".output_html .sr { color: #A45A77 } /* Literal.String.Regex */\n",
       ".output_html .s1 { color: #BA2121 } /* Literal.String.Single */\n",
       ".output_html .ss { color: #19177C } /* Literal.String.Symbol */\n",
       ".output_html .bp { color: #008000 } /* Name.Builtin.Pseudo */\n",
       ".output_html .fm { color: #0000FF } /* Name.Function.Magic */\n",
       ".output_html .vc { color: #19177C } /* Name.Variable.Class */\n",
       ".output_html .vg { color: #19177C } /* Name.Variable.Global */\n",
       ".output_html .vi { color: #19177C } /* Name.Variable.Instance */\n",
       ".output_html .vm { color: #19177C } /* Name.Variable.Magic */\n",
       ".output_html .il { color: #666666 } /* Literal.Number.Integer.Long */</style><div class=\"highlight\"><pre><span></span><span class=\"n\">Axiom</span> <span class=\"p\">:</span> <span class=\"n\">_</span><span class=\"p\">(</span><span class=\"mf\">0.001</span><span class=\"p\">)</span><span class=\"n\">F</span><span class=\"p\">(</span><span class=\"mi\">1</span><span class=\"p\">)</span> <span class=\"o\">-</span><span class=\"p\">(</span><span class=\"mi\">120</span><span class=\"p\">)</span> <span class=\"n\">F</span><span class=\"p\">(</span><span class=\"mi\">1</span><span class=\"p\">)</span> <span class=\"o\">-</span><span class=\"p\">(</span><span class=\"mi\">120</span><span class=\"p\">)</span> <span class=\"n\">F</span><span class=\"p\">(</span><span class=\"mi\">1</span><span class=\"p\">)</span>\n",
       "<span class=\"n\">derivation</span> <span class=\"n\">length</span> <span class=\"p\">:</span> <span class=\"mi\">5</span>\n",
       "<span class=\"n\">production</span> <span class=\"p\">:</span>\n",
       "<span class=\"n\">F</span><span class=\"p\">(</span><span class=\"n\">x</span><span class=\"p\">)</span> <span class=\"p\">:</span> <span class=\"n\">nproduce</span> <span class=\"n\">F</span><span class=\"p\">(</span><span class=\"n\">x</span><span class=\"o\">/</span><span class=\"mf\">3.0</span><span class=\"p\">)</span> <span class=\"o\">+</span> <span class=\"n\">F</span><span class=\"p\">(</span><span class=\"n\">x</span><span class=\"o\">/</span><span class=\"mf\">3.0</span><span class=\"p\">)</span> <span class=\"o\">--</span> <span class=\"n\">F</span><span class=\"p\">(</span><span class=\"n\">x</span><span class=\"o\">/</span><span class=\"mf\">3.0</span><span class=\"p\">)</span> <span class=\"o\">+</span> <span class=\"n\">F</span><span class=\"p\">(</span><span class=\"n\">x</span><span class=\"o\">/</span><span class=\"mf\">3.0</span><span class=\"p\">)</span>\n",
       "<span class=\"n\">endlsystem</span>\n",
       "</pre></div>\n"
      ],
      "text/latex": [
       "\\begin{Verbatim}[commandchars=\\\\\\{\\}]\n",
       "\\PY{n}{Axiom} \\PY{p}{:} \\PY{n}{\\PYZus{}}\\PY{p}{(}\\PY{l+m+mf}{0.001}\\PY{p}{)}\\PY{n}{F}\\PY{p}{(}\\PY{l+m+mi}{1}\\PY{p}{)} \\PY{o}{\\PYZhy{}}\\PY{p}{(}\\PY{l+m+mi}{120}\\PY{p}{)} \\PY{n}{F}\\PY{p}{(}\\PY{l+m+mi}{1}\\PY{p}{)} \\PY{o}{\\PYZhy{}}\\PY{p}{(}\\PY{l+m+mi}{120}\\PY{p}{)} \\PY{n}{F}\\PY{p}{(}\\PY{l+m+mi}{1}\\PY{p}{)}\n",
       "\\PY{n}{derivation} \\PY{n}{length} \\PY{p}{:} \\PY{l+m+mi}{5}\n",
       "\\PY{n}{production} \\PY{p}{:}\n",
       "\\PY{n}{F}\\PY{p}{(}\\PY{n}{x}\\PY{p}{)} \\PY{p}{:} \\PY{n}{nproduce} \\PY{n}{F}\\PY{p}{(}\\PY{n}{x}\\PY{o}{/}\\PY{l+m+mf}{3.0}\\PY{p}{)} \\PY{o}{+} \\PY{n}{F}\\PY{p}{(}\\PY{n}{x}\\PY{o}{/}\\PY{l+m+mf}{3.0}\\PY{p}{)} \\PY{o}{\\PYZhy{}}\\PY{o}{\\PYZhy{}} \\PY{n}{F}\\PY{p}{(}\\PY{n}{x}\\PY{o}{/}\\PY{l+m+mf}{3.0}\\PY{p}{)} \\PY{o}{+} \\PY{n}{F}\\PY{p}{(}\\PY{n}{x}\\PY{o}{/}\\PY{l+m+mf}{3.0}\\PY{p}{)}\n",
       "\\PY{n}{endlsystem}\n",
       "\\end{Verbatim}\n"
      ],
      "text/plain": [
       "Axiom : _(0.001)F(1) -(120) F(1) -(120) F(1)\n",
       "derivation length : 5\n",
       "production :\n",
       "F(x) : nproduce F(x/3.0) + F(x/3.0) -- F(x/3.0) + F(x/3.0)\n",
       "endlsystem"
      ]
     },
     "metadata": {},
     "output_type": "display_data"
    },
    {
     "data": {
      "application/vnd.jupyter.widget-view+json": {
       "model_id": "8262734eb2cd4a76b407c2bf36341f27",
       "version_major": 2,
       "version_minor": 0
      },
      "text/plain": [
       "LsystemWidget(animate=True, derivationLength=5, derivationNumber=None, scene={'data': b'x\\xdaSLrw\\xf5\\xf7e`Pp\\…"
      ]
     },
     "metadata": {},
     "output_type": "display_data"
    },
    {
     "name": "stdout",
     "output_type": "stream",
     "text": [
      "# Listing 4: Plant branching structure development\n"
     ]
    },
    {
     "data": {
      "text/html": [
       "<style>pre { line-height: 125%; }\n",
       "td.linenos .normal { color: inherit; background-color: transparent; padding-left: 5px; padding-right: 5px; }\n",
       "span.linenos { color: inherit; background-color: transparent; padding-left: 5px; padding-right: 5px; }\n",
       "td.linenos .special { color: #000000; background-color: #ffffc0; padding-left: 5px; padding-right: 5px; }\n",
       "span.linenos.special { color: #000000; background-color: #ffffc0; padding-left: 5px; padding-right: 5px; }\n",
       ".output_html .hll { background-color: #ffffcc }\n",
       ".output_html { background: #f8f8f8; }\n",
       ".output_html .c { color: #3D7B7B; font-style: italic } /* Comment */\n",
       ".output_html .err { border: 1px solid #FF0000 } /* Error */\n",
       ".output_html .k { color: #008000; font-weight: bold } /* Keyword */\n",
       ".output_html .o { color: #666666 } /* Operator */\n",
       ".output_html .ch { color: #3D7B7B; font-style: italic } /* Comment.Hashbang */\n",
       ".output_html .cm { color: #3D7B7B; font-style: italic } /* Comment.Multiline */\n",
       ".output_html .cp { color: #9C6500 } /* Comment.Preproc */\n",
       ".output_html .cpf { color: #3D7B7B; font-style: italic } /* Comment.PreprocFile */\n",
       ".output_html .c1 { color: #3D7B7B; font-style: italic } /* Comment.Single */\n",
       ".output_html .cs { color: #3D7B7B; font-style: italic } /* Comment.Special */\n",
       ".output_html .gd { color: #A00000 } /* Generic.Deleted */\n",
       ".output_html .ge { font-style: italic } /* Generic.Emph */\n",
       ".output_html .gr { color: #E40000 } /* Generic.Error */\n",
       ".output_html .gh { color: #000080; font-weight: bold } /* Generic.Heading */\n",
       ".output_html .gi { color: #008400 } /* Generic.Inserted */\n",
       ".output_html .go { color: #717171 } /* Generic.Output */\n",
       ".output_html .gp { color: #000080; font-weight: bold } /* Generic.Prompt */\n",
       ".output_html .gs { font-weight: bold } /* Generic.Strong */\n",
       ".output_html .gu { color: #800080; font-weight: bold } /* Generic.Subheading */\n",
       ".output_html .gt { color: #0044DD } /* Generic.Traceback */\n",
       ".output_html .kc { color: #008000; font-weight: bold } /* Keyword.Constant */\n",
       ".output_html .kd { color: #008000; font-weight: bold } /* Keyword.Declaration */\n",
       ".output_html .kn { color: #008000; font-weight: bold } /* Keyword.Namespace */\n",
       ".output_html .kp { color: #008000 } /* Keyword.Pseudo */\n",
       ".output_html .kr { color: #008000; font-weight: bold } /* Keyword.Reserved */\n",
       ".output_html .kt { color: #B00040 } /* Keyword.Type */\n",
       ".output_html .m { color: #666666 } /* Literal.Number */\n",
       ".output_html .s { color: #BA2121 } /* Literal.String */\n",
       ".output_html .na { color: #687822 } /* Name.Attribute */\n",
       ".output_html .nb { color: #008000 } /* Name.Builtin */\n",
       ".output_html .nc { color: #0000FF; font-weight: bold } /* Name.Class */\n",
       ".output_html .no { color: #880000 } /* Name.Constant */\n",
       ".output_html .nd { color: #AA22FF } /* Name.Decorator */\n",
       ".output_html .ni { color: #717171; font-weight: bold } /* Name.Entity */\n",
       ".output_html .ne { color: #CB3F38; font-weight: bold } /* Name.Exception */\n",
       ".output_html .nf { color: #0000FF } /* Name.Function */\n",
       ".output_html .nl { color: #767600 } /* Name.Label */\n",
       ".output_html .nn { color: #0000FF; font-weight: bold } /* Name.Namespace */\n",
       ".output_html .nt { color: #008000; font-weight: bold } /* Name.Tag */\n",
       ".output_html .nv { color: #19177C } /* Name.Variable */\n",
       ".output_html .ow { color: #AA22FF; font-weight: bold } /* Operator.Word */\n",
       ".output_html .w { color: #bbbbbb } /* Text.Whitespace */\n",
       ".output_html .mb { color: #666666 } /* Literal.Number.Bin */\n",
       ".output_html .mf { color: #666666 } /* Literal.Number.Float */\n",
       ".output_html .mh { color: #666666 } /* Literal.Number.Hex */\n",
       ".output_html .mi { color: #666666 } /* Literal.Number.Integer */\n",
       ".output_html .mo { color: #666666 } /* Literal.Number.Oct */\n",
       ".output_html .sa { color: #BA2121 } /* Literal.String.Affix */\n",
       ".output_html .sb { color: #BA2121 } /* Literal.String.Backtick */\n",
       ".output_html .sc { color: #BA2121 } /* Literal.String.Char */\n",
       ".output_html .dl { color: #BA2121 } /* Literal.String.Delimiter */\n",
       ".output_html .sd { color: #BA2121; font-style: italic } /* Literal.String.Doc */\n",
       ".output_html .s2 { color: #BA2121 } /* Literal.String.Double */\n",
       ".output_html .se { color: #AA5D1F; font-weight: bold } /* Literal.String.Escape */\n",
       ".output_html .sh { color: #BA2121 } /* Literal.String.Heredoc */\n",
       ".output_html .si { color: #A45A77; font-weight: bold } /* Literal.String.Interpol */\n",
       ".output_html .sx { color: #008000 } /* Literal.String.Other */\n",
       ".output_html .sr { color: #A45A77 } /* Literal.String.Regex */\n",
       ".output_html .s1 { color: #BA2121 } /* Literal.String.Single */\n",
       ".output_html .ss { color: #19177C } /* Literal.String.Symbol */\n",
       ".output_html .bp { color: #008000 } /* Name.Builtin.Pseudo */\n",
       ".output_html .fm { color: #0000FF } /* Name.Function.Magic */\n",
       ".output_html .vc { color: #19177C } /* Name.Variable.Class */\n",
       ".output_html .vg { color: #19177C } /* Name.Variable.Global */\n",
       ".output_html .vi { color: #19177C } /* Name.Variable.Instance */\n",
       ".output_html .vm { color: #19177C } /* Name.Variable.Magic */\n",
       ".output_html .il { color: #666666 } /* Literal.Number.Integer.Long */</style><div class=\"highlight\"><pre><span></span><span class=\"n\">N</span> <span class=\"o\">=</span> <span class=\"mi\">10</span>                                \n",
       "<span class=\"n\">offset</span> <span class=\"o\">=</span> <span class=\"mi\">2</span>                                   \n",
       "<span class=\"n\">iangle</span> <span class=\"o\">=</span> <span class=\"mi\">60</span>\n",
       "\n",
       "<span class=\"n\">Axiom</span><span class=\"p\">:</span>  <span class=\"n\">_</span><span class=\"p\">(</span><span class=\"mf\">0.5</span><span class=\"p\">)</span><span class=\"n\">A</span><span class=\"p\">(</span><span class=\"mi\">0</span><span class=\"p\">)</span>\n",
       "<span class=\"n\">derivation</span> <span class=\"n\">length</span><span class=\"p\">:</span> <span class=\"n\">N</span>\n",
       "<span class=\"n\">production</span><span class=\"p\">:</span> \n",
       "<span class=\"n\">A</span><span class=\"p\">(</span><span class=\"n\">n</span><span class=\"p\">)</span> <span class=\"p\">:</span>\n",
       "  <span class=\"k\">if</span> <span class=\"n\">n</span><span class=\"o\">&lt;</span><span class=\"n\">N</span><span class=\"p\">:</span>      <span class=\"c1\"># produces an internode, a lateral bud (in [...]) and an apical bud</span>\n",
       "    <span class=\"n\">nproduce</span> <span class=\"n\">I</span><span class=\"p\">(</span><span class=\"n\">n</span><span class=\"p\">)</span> <span class=\"p\">[</span><span class=\"n\">P</span><span class=\"p\">(</span><span class=\"n\">n</span><span class=\"p\">)</span><span class=\"n\">A</span><span class=\"p\">(</span><span class=\"n\">n</span><span class=\"o\">+</span><span class=\"n\">offset</span><span class=\"p\">)]</span> <span class=\"n\">A</span><span class=\"p\">(</span><span class=\"n\">n</span><span class=\"o\">+</span><span class=\"mi\">1</span><span class=\"p\">)</span>\n",
       "  <span class=\"k\">else</span><span class=\"p\">:</span>        <span class=\"c1\"># produces a flower bud</span>\n",
       "    <span class=\"n\">nproduce</span> <span class=\"n\">B</span> \n",
       "\n",
       "<span class=\"n\">interpretation</span><span class=\"p\">:</span>\n",
       "<span class=\"n\">I</span><span class=\"p\">(</span><span class=\"n\">n</span><span class=\"p\">)</span> <span class=\"p\">:</span> <span class=\"n\">nproduce</span> <span class=\"p\">;(</span><span class=\"mi\">1</span><span class=\"p\">)</span><span class=\"n\">F</span><span class=\"p\">(</span><span class=\"n\">N</span><span class=\"o\">-</span><span class=\"n\">n</span><span class=\"p\">)</span>\n",
       "<span class=\"n\">P</span><span class=\"p\">(</span><span class=\"n\">n</span><span class=\"p\">)</span> <span class=\"p\">:</span>         <span class=\"c1\"># Phyllotaxis angle</span>\n",
       "  <span class=\"k\">if</span> <span class=\"n\">n</span><span class=\"o\">%</span><span class=\"mi\">2</span> <span class=\"o\">==</span> <span class=\"mi\">0</span> <span class=\"p\">:</span> <span class=\"n\">nproduce</span>  <span class=\"o\">+</span><span class=\"p\">(</span><span class=\"n\">iangle</span><span class=\"p\">)</span>\n",
       "  <span class=\"k\">else</span><span class=\"p\">:</span> <span class=\"n\">nproduce</span> <span class=\"o\">-</span><span class=\"p\">(</span><span class=\"n\">iangle</span><span class=\"p\">)</span>\n",
       "<span class=\"n\">A</span><span class=\"p\">(</span><span class=\"n\">n</span><span class=\"p\">):</span> <span class=\"n\">nproduce</span> <span class=\"p\">;(</span><span class=\"mi\">2</span><span class=\"p\">)</span><span class=\"nd\">@O</span><span class=\"p\">(</span><span class=\"mf\">1.5</span><span class=\"p\">)</span>\n",
       "<span class=\"n\">B</span> <span class=\"p\">:</span> <span class=\"n\">nproduce</span> <span class=\"n\">F</span><span class=\"p\">(</span><span class=\"mi\">1</span><span class=\"p\">);(</span><span class=\"mi\">3</span><span class=\"p\">)</span><span class=\"nd\">@O</span><span class=\"p\">(</span><span class=\"mf\">1.5</span><span class=\"p\">)</span>\n",
       "\n",
       "<span class=\"n\">endlsystem</span>\n",
       "</pre></div>\n"
      ],
      "text/latex": [
       "\\begin{Verbatim}[commandchars=\\\\\\{\\}]\n",
       "\\PY{n}{N} \\PY{o}{=} \\PY{l+m+mi}{10}                                \n",
       "\\PY{n}{offset} \\PY{o}{=} \\PY{l+m+mi}{2}                                   \n",
       "\\PY{n}{iangle} \\PY{o}{=} \\PY{l+m+mi}{60}\n",
       "\n",
       "\\PY{n}{Axiom}\\PY{p}{:}  \\PY{n}{\\PYZus{}}\\PY{p}{(}\\PY{l+m+mf}{0.5}\\PY{p}{)}\\PY{n}{A}\\PY{p}{(}\\PY{l+m+mi}{0}\\PY{p}{)}\n",
       "\\PY{n}{derivation} \\PY{n}{length}\\PY{p}{:} \\PY{n}{N}\n",
       "\\PY{n}{production}\\PY{p}{:} \n",
       "\\PY{n}{A}\\PY{p}{(}\\PY{n}{n}\\PY{p}{)} \\PY{p}{:}\n",
       "  \\PY{k}{if} \\PY{n}{n}\\PY{o}{\\PYZlt{}}\\PY{n}{N}\\PY{p}{:}      \\PY{c+c1}{\\PYZsh{} produces an internode, a lateral bud (in [...]) and an apical bud}\n",
       "    \\PY{n}{nproduce} \\PY{n}{I}\\PY{p}{(}\\PY{n}{n}\\PY{p}{)} \\PY{p}{[}\\PY{n}{P}\\PY{p}{(}\\PY{n}{n}\\PY{p}{)}\\PY{n}{A}\\PY{p}{(}\\PY{n}{n}\\PY{o}{+}\\PY{n}{offset}\\PY{p}{)}\\PY{p}{]} \\PY{n}{A}\\PY{p}{(}\\PY{n}{n}\\PY{o}{+}\\PY{l+m+mi}{1}\\PY{p}{)}\n",
       "  \\PY{k}{else}\\PY{p}{:}        \\PY{c+c1}{\\PYZsh{} produces a flower bud}\n",
       "    \\PY{n}{nproduce} \\PY{n}{B} \n",
       "\n",
       "\\PY{n}{interpretation}\\PY{p}{:}\n",
       "\\PY{n}{I}\\PY{p}{(}\\PY{n}{n}\\PY{p}{)} \\PY{p}{:} \\PY{n}{nproduce} \\PY{p}{;}\\PY{p}{(}\\PY{l+m+mi}{1}\\PY{p}{)}\\PY{n}{F}\\PY{p}{(}\\PY{n}{N}\\PY{o}{\\PYZhy{}}\\PY{n}{n}\\PY{p}{)}\n",
       "\\PY{n}{P}\\PY{p}{(}\\PY{n}{n}\\PY{p}{)} \\PY{p}{:}         \\PY{c+c1}{\\PYZsh{} Phyllotaxis angle}\n",
       "  \\PY{k}{if} \\PY{n}{n}\\PY{o}{\\PYZpc{}}\\PY{l+m+mi}{2} \\PY{o}{==} \\PY{l+m+mi}{0} \\PY{p}{:} \\PY{n}{nproduce}  \\PY{o}{+}\\PY{p}{(}\\PY{n}{iangle}\\PY{p}{)}\n",
       "  \\PY{k}{else}\\PY{p}{:} \\PY{n}{nproduce} \\PY{o}{\\PYZhy{}}\\PY{p}{(}\\PY{n}{iangle}\\PY{p}{)}\n",
       "\\PY{n}{A}\\PY{p}{(}\\PY{n}{n}\\PY{p}{)}\\PY{p}{:} \\PY{n}{nproduce} \\PY{p}{;}\\PY{p}{(}\\PY{l+m+mi}{2}\\PY{p}{)}\\PY{n+nd}{@O}\\PY{p}{(}\\PY{l+m+mf}{1.5}\\PY{p}{)}\n",
       "\\PY{n}{B} \\PY{p}{:} \\PY{n}{nproduce} \\PY{n}{F}\\PY{p}{(}\\PY{l+m+mi}{1}\\PY{p}{)}\\PY{p}{;}\\PY{p}{(}\\PY{l+m+mi}{3}\\PY{p}{)}\\PY{n+nd}{@O}\\PY{p}{(}\\PY{l+m+mf}{1.5}\\PY{p}{)}\n",
       "\n",
       "\\PY{n}{endlsystem}\n",
       "\\end{Verbatim}\n"
      ],
      "text/plain": [
       "N = 10                                \n",
       "offset = 2                                   \n",
       "iangle = 60\n",
       "\n",
       "Axiom:  _(0.5)A(0)\n",
       "derivation length: N\n",
       "production: \n",
       "A(n) :\n",
       "  if n<N:      # produces an internode, a lateral bud (in [...]) and an apical bud\n",
       "    nproduce I(n) [P(n)A(n+offset)] A(n+1)\n",
       "  else:        # produces a flower bud\n",
       "    nproduce B \n",
       "\n",
       "interpretation:\n",
       "I(n) : nproduce ;(1)F(N-n)\n",
       "P(n) :         # Phyllotaxis angle\n",
       "  if n%2 == 0 : nproduce  +(iangle)\n",
       "  else: nproduce -(iangle)\n",
       "A(n): nproduce ;(2)@O(1.5)\n",
       "B : nproduce F(1);(3)@O(1.5)\n",
       "\n",
       "endlsystem"
      ]
     },
     "metadata": {},
     "output_type": "display_data"
    },
    {
     "data": {
      "application/vnd.jupyter.widget-view+json": {
       "model_id": "36605d5135aa49bd9a51015e41eda229",
       "version_major": 2,
       "version_minor": 0
      },
      "text/plain": [
       "LsystemWidget(animate=True, derivationLength=10, derivationNumber=None, scene={'data': b\"x\\xdaSLrw\\xf5\\xf7e`Pp…"
      ]
     },
     "metadata": {},
     "output_type": "display_data"
    }
   ],
   "source": [
    "examples = [('Fig01-Listing3.lpy','Listing 3: Fractal curve (von Koch flake) '),\n",
    "            ('Fig01-Listing4.lpy','Listing 4: Plant branching structure development')]\n",
    "\n",
    "display_examples(examples, animate=True)"
   ]
  },
  {
   "cell_type": "markdown",
   "id": "c343e928-0c26-48d6-a25f-3d974e48667f",
   "metadata": {},
   "source": [
    "## 3. Moving on parametric surfaces"
   ]
  },
  {
   "cell_type": "code",
   "execution_count": 13,
   "id": "aedaa684-5bc1-4279-aec2-c76e10d24cac",
   "metadata": {
    "tags": []
   },
   "outputs": [
    {
     "name": "stdout",
     "output_type": "stream",
     "text": [
      "# Figure 8: Holonomy and parallel transport using Riemannian Lsystems}. (a-b) parallel transport of a vector along a polygon made of geodesics. The vector is initially tangent to the first geodesic, then is perpendicular to the tangent on the second geodesic, then points backward on the third geodesic segment. (d-c) parallel transport of a vector not tangent to the first geodesic. The vector keeps a constant angle with the tangent vector, but this angle changes each time the turtle turns. (e-f) parallel transport along a curve that is not a geodesic: the angle between the transporting curve and the transported vector varies continuously.\n"
     ]
    },
    {
     "data": {
      "text/html": [
       "<style>pre { line-height: 125%; }\n",
       "td.linenos .normal { color: inherit; background-color: transparent; padding-left: 5px; padding-right: 5px; }\n",
       "span.linenos { color: inherit; background-color: transparent; padding-left: 5px; padding-right: 5px; }\n",
       "td.linenos .special { color: #000000; background-color: #ffffc0; padding-left: 5px; padding-right: 5px; }\n",
       "span.linenos.special { color: #000000; background-color: #ffffc0; padding-left: 5px; padding-right: 5px; }\n",
       ".output_html .hll { background-color: #ffffcc }\n",
       ".output_html { background: #f8f8f8; }\n",
       ".output_html .c { color: #3D7B7B; font-style: italic } /* Comment */\n",
       ".output_html .err { border: 1px solid #FF0000 } /* Error */\n",
       ".output_html .k { color: #008000; font-weight: bold } /* Keyword */\n",
       ".output_html .o { color: #666666 } /* Operator */\n",
       ".output_html .ch { color: #3D7B7B; font-style: italic } /* Comment.Hashbang */\n",
       ".output_html .cm { color: #3D7B7B; font-style: italic } /* Comment.Multiline */\n",
       ".output_html .cp { color: #9C6500 } /* Comment.Preproc */\n",
       ".output_html .cpf { color: #3D7B7B; font-style: italic } /* Comment.PreprocFile */\n",
       ".output_html .c1 { color: #3D7B7B; font-style: italic } /* Comment.Single */\n",
       ".output_html .cs { color: #3D7B7B; font-style: italic } /* Comment.Special */\n",
       ".output_html .gd { color: #A00000 } /* Generic.Deleted */\n",
       ".output_html .ge { font-style: italic } /* Generic.Emph */\n",
       ".output_html .gr { color: #E40000 } /* Generic.Error */\n",
       ".output_html .gh { color: #000080; font-weight: bold } /* Generic.Heading */\n",
       ".output_html .gi { color: #008400 } /* Generic.Inserted */\n",
       ".output_html .go { color: #717171 } /* Generic.Output */\n",
       ".output_html .gp { color: #000080; font-weight: bold } /* Generic.Prompt */\n",
       ".output_html .gs { font-weight: bold } /* Generic.Strong */\n",
       ".output_html .gu { color: #800080; font-weight: bold } /* Generic.Subheading */\n",
       ".output_html .gt { color: #0044DD } /* Generic.Traceback */\n",
       ".output_html .kc { color: #008000; font-weight: bold } /* Keyword.Constant */\n",
       ".output_html .kd { color: #008000; font-weight: bold } /* Keyword.Declaration */\n",
       ".output_html .kn { color: #008000; font-weight: bold } /* Keyword.Namespace */\n",
       ".output_html .kp { color: #008000 } /* Keyword.Pseudo */\n",
       ".output_html .kr { color: #008000; font-weight: bold } /* Keyword.Reserved */\n",
       ".output_html .kt { color: #B00040 } /* Keyword.Type */\n",
       ".output_html .m { color: #666666 } /* Literal.Number */\n",
       ".output_html .s { color: #BA2121 } /* Literal.String */\n",
       ".output_html .na { color: #687822 } /* Name.Attribute */\n",
       ".output_html .nb { color: #008000 } /* Name.Builtin */\n",
       ".output_html .nc { color: #0000FF; font-weight: bold } /* Name.Class */\n",
       ".output_html .no { color: #880000 } /* Name.Constant */\n",
       ".output_html .nd { color: #AA22FF } /* Name.Decorator */\n",
       ".output_html .ni { color: #717171; font-weight: bold } /* Name.Entity */\n",
       ".output_html .ne { color: #CB3F38; font-weight: bold } /* Name.Exception */\n",
       ".output_html .nf { color: #0000FF } /* Name.Function */\n",
       ".output_html .nl { color: #767600 } /* Name.Label */\n",
       ".output_html .nn { color: #0000FF; font-weight: bold } /* Name.Namespace */\n",
       ".output_html .nt { color: #008000; font-weight: bold } /* Name.Tag */\n",
       ".output_html .nv { color: #19177C } /* Name.Variable */\n",
       ".output_html .ow { color: #AA22FF; font-weight: bold } /* Operator.Word */\n",
       ".output_html .w { color: #bbbbbb } /* Text.Whitespace */\n",
       ".output_html .mb { color: #666666 } /* Literal.Number.Bin */\n",
       ".output_html .mf { color: #666666 } /* Literal.Number.Float */\n",
       ".output_html .mh { color: #666666 } /* Literal.Number.Hex */\n",
       ".output_html .mi { color: #666666 } /* Literal.Number.Integer */\n",
       ".output_html .mo { color: #666666 } /* Literal.Number.Oct */\n",
       ".output_html .sa { color: #BA2121 } /* Literal.String.Affix */\n",
       ".output_html .sb { color: #BA2121 } /* Literal.String.Backtick */\n",
       ".output_html .sc { color: #BA2121 } /* Literal.String.Char */\n",
       ".output_html .dl { color: #BA2121 } /* Literal.String.Delimiter */\n",
       ".output_html .sd { color: #BA2121; font-style: italic } /* Literal.String.Doc */\n",
       ".output_html .s2 { color: #BA2121 } /* Literal.String.Double */\n",
       ".output_html .se { color: #AA5D1F; font-weight: bold } /* Literal.String.Escape */\n",
       ".output_html .sh { color: #BA2121 } /* Literal.String.Heredoc */\n",
       ".output_html .si { color: #A45A77; font-weight: bold } /* Literal.String.Interpol */\n",
       ".output_html .sx { color: #008000 } /* Literal.String.Other */\n",
       ".output_html .sr { color: #A45A77 } /* Literal.String.Regex */\n",
       ".output_html .s1 { color: #BA2121 } /* Literal.String.Single */\n",
       ".output_html .ss { color: #19177C } /* Literal.String.Symbol */\n",
       ".output_html .bp { color: #008000 } /* Name.Builtin.Pseudo */\n",
       ".output_html .fm { color: #0000FF } /* Name.Function.Magic */\n",
       ".output_html .vc { color: #19177C } /* Name.Variable.Class */\n",
       ".output_html .vg { color: #19177C } /* Name.Variable.Global */\n",
       ".output_html .vi { color: #19177C } /* Name.Variable.Instance */\n",
       ".output_html .vm { color: #19177C } /* Name.Variable.Magic */\n",
       ".output_html .il { color: #666666 } /* Literal.Number.Integer.Long */</style><div class=\"highlight\"><pre><span></span><span class=\"kn\">from</span> <span class=\"nn\">riemann_lsystem.surfaces</span> <span class=\"kn\">import</span> <span class=\"o\">*</span>\n",
       "<span class=\"kn\">from</span> <span class=\"nn\">riemann_lsystem.riemannianturtle</span> <span class=\"kn\">import</span> <span class=\"o\">*</span>\n",
       "<span class=\"kn\">from</span> <span class=\"nn\">math</span> <span class=\"kn\">import</span> <span class=\"n\">pi</span>\n",
       "\n",
       "<span class=\"o\">%</span><span class=\"n\">pastefile</span> <span class=\"o\">../</span><span class=\"n\">src</span><span class=\"o\">/</span><span class=\"n\">riemann_lsystem</span><span class=\"o\">/</span><span class=\"n\">riemannianrules</span><span class=\"o\">.</span><span class=\"n\">lpy</span>\n",
       "\n",
       "<span class=\"n\">R</span> <span class=\"o\">=</span> <span class=\"mi\">1</span>\n",
       "<span class=\"n\">alpha0</span> <span class=\"o\">=</span> <span class=\"o\">-</span><span class=\"mi\">30</span>     <span class=\"c1\"># in degrees</span>\n",
       "<span class=\"n\">Axiom</span><span class=\"p\">:</span> \n",
       "  <span class=\"n\">nproduce</span> <span class=\"n\">SetSpace</span><span class=\"p\">(</span><span class=\"n\">Sphere</span><span class=\"p\">(</span><span class=\"n\">R</span><span class=\"p\">))</span> <span class=\"n\">_</span><span class=\"p\">(</span><span class=\"mf\">0.01</span><span class=\"p\">)</span>\n",
       "  <span class=\"n\">nproduce</span> <span class=\"p\">[,(</span><span class=\"mi\">0</span><span class=\"p\">)</span> <span class=\"n\">PlotSpace</span><span class=\"p\">()</span> <span class=\"p\">]</span>\n",
       "  <span class=\"n\">nproduce</span> <span class=\"n\">InitTurtle</span><span class=\"p\">((</span><span class=\"mi\">0</span><span class=\"p\">,</span><span class=\"mi\">0</span><span class=\"p\">,</span><span class=\"mi\">0</span><span class=\"p\">,</span><span class=\"mi\">1</span><span class=\"p\">))</span>\n",
       "  <span class=\"n\">nproduce</span> <span class=\"n\">ParallelTransportReset</span>\n",
       "  <span class=\"n\">nproduce</span> <span class=\"p\">[,(</span><span class=\"mi\">3</span><span class=\"p\">)</span> <span class=\"n\">ParallelTransportedArrow</span><span class=\"p\">(</span><span class=\"n\">alpha0</span><span class=\"p\">,</span><span class=\"mf\">0.5</span><span class=\"p\">)</span> <span class=\"p\">]</span>\n",
       "  <span class=\"n\">nproduce</span> <span class=\"n\">Path</span><span class=\"p\">(</span><span class=\"n\">R</span><span class=\"o\">*</span><span class=\"n\">pi</span><span class=\"o\">/</span><span class=\"mi\">2</span><span class=\"p\">)</span> \n",
       "  <span class=\"n\">nproduce</span> <span class=\"o\">+</span><span class=\"p\">(</span><span class=\"mi\">90</span><span class=\"p\">)</span> <span class=\"n\">Path</span><span class=\"p\">(</span><span class=\"n\">R</span><span class=\"o\">*</span><span class=\"n\">pi</span><span class=\"o\">/</span><span class=\"mi\">2</span><span class=\"p\">)</span> \n",
       "  <span class=\"n\">nproduce</span> <span class=\"o\">+</span><span class=\"p\">(</span><span class=\"mi\">90</span><span class=\"p\">)</span> <span class=\"n\">Path</span><span class=\"p\">(</span><span class=\"n\">R</span><span class=\"o\">*</span><span class=\"n\">pi</span><span class=\"o\">/</span><span class=\"mi\">2</span><span class=\"p\">)</span> \n",
       "\n",
       "<span class=\"n\">derivation</span> <span class=\"n\">length</span><span class=\"p\">:</span><span class=\"mi\">1</span>\n",
       "<span class=\"n\">production</span><span class=\"p\">:</span>\n",
       "<span class=\"n\">interpretation</span><span class=\"p\">:</span>\n",
       "<span class=\"n\">Path</span><span class=\"p\">(</span><span class=\"n\">l</span><span class=\"p\">):</span>\n",
       "  <span class=\"k\">for</span> <span class=\"n\">i</span> <span class=\"ow\">in</span> <span class=\"nb\">range</span><span class=\"p\">(</span><span class=\"mi\">10</span><span class=\"p\">):</span>\n",
       "    <span class=\"n\">nproduce</span> <span class=\"n\">F</span><span class=\"p\">(</span><span class=\"n\">l</span><span class=\"o\">/</span><span class=\"mi\">10</span><span class=\"p\">)</span> <span class=\"p\">[,(</span><span class=\"mi\">3</span><span class=\"p\">)</span> <span class=\"n\">ParallelTransportedArrow</span><span class=\"p\">(</span><span class=\"n\">alpha0</span><span class=\"p\">,</span><span class=\"mf\">0.5</span><span class=\"p\">)</span> <span class=\"p\">]</span>\n",
       "<span class=\"n\">endlsystem</span>\n",
       "<span class=\"c1\">###### INITIALISATION ######</span>\n",
       "\n",
       "<span class=\"n\">__lpy_code_version__</span> <span class=\"o\">=</span> <span class=\"mf\">1.1</span>\n",
       "\n",
       "<span class=\"k\">def</span> <span class=\"nf\">__initialiseContext__</span><span class=\"p\">(</span><span class=\"n\">context</span><span class=\"p\">):</span>\n",
       "\t<span class=\"kn\">import</span> <span class=\"nn\">openalea.plantgl.all</span> <span class=\"k\">as</span> <span class=\"nn\">pgl</span>\n",
       "\t<span class=\"n\">Color_14</span> <span class=\"o\">=</span> <span class=\"n\">pgl</span><span class=\"o\">.</span><span class=\"n\">Material</span><span class=\"p\">(</span><span class=\"s2\">&quot;Color_14&quot;</span> <span class=\"p\">,</span> <span class=\"n\">transparency</span> <span class=\"o\">=</span> <span class=\"mf\">0.45</span> <span class=\"p\">,</span> <span class=\"p\">)</span>\n",
       "\t<span class=\"n\">Color_14</span><span class=\"o\">.</span><span class=\"n\">name</span> <span class=\"o\">=</span> <span class=\"s2\">&quot;Color_14&quot;</span>\n",
       "\t<span class=\"n\">context</span><span class=\"o\">.</span><span class=\"n\">turtle</span><span class=\"o\">.</span><span class=\"n\">setMaterial</span><span class=\"p\">(</span><span class=\"mi\">14</span><span class=\"p\">,</span><span class=\"n\">Color_14</span><span class=\"p\">)</span>\n",
       "\t<span class=\"n\">context</span><span class=\"o\">.</span><span class=\"n\">animation_timestep</span> <span class=\"o\">=</span> <span class=\"mf\">0.001</span>\n",
       "\t<span class=\"n\">scalars</span> <span class=\"o\">=</span> <span class=\"p\">[(</span><span class=\"s1\">&#39;a&#39;</span><span class=\"p\">,</span> <span class=\"s1\">&#39;Float&#39;</span><span class=\"p\">,</span> <span class=\"mf\">1.0</span><span class=\"p\">,</span> <span class=\"mf\">0.1</span><span class=\"p\">,</span> <span class=\"mf\">5.0</span><span class=\"p\">,</span> <span class=\"mi\">2</span><span class=\"p\">),</span> <span class=\"p\">(</span><span class=\"s1\">&#39;b&#39;</span><span class=\"p\">,</span> <span class=\"s1\">&#39;Float&#39;</span><span class=\"p\">,</span> <span class=\"mf\">2.87</span><span class=\"p\">,</span> <span class=\"mf\">0.1</span><span class=\"p\">,</span> <span class=\"mf\">5.0</span><span class=\"p\">,</span> <span class=\"mi\">2</span><span class=\"p\">)]</span>\n",
       "\t<span class=\"n\">context</span><span class=\"p\">[</span><span class=\"s2\">&quot;__scalars__&quot;</span><span class=\"p\">]</span> <span class=\"o\">=</span> <span class=\"n\">scalars</span>\n",
       "\t<span class=\"k\">for</span> <span class=\"n\">s</span> <span class=\"ow\">in</span> <span class=\"n\">scalars</span><span class=\"p\">:</span>\n",
       "\t\t<span class=\"k\">if</span> <span class=\"ow\">not</span> <span class=\"n\">s</span><span class=\"p\">[</span><span class=\"mi\">1</span><span class=\"p\">]</span> <span class=\"o\">==</span> <span class=\"s2\">&quot;Category&quot;</span> <span class=\"p\">:</span> <span class=\"n\">context</span><span class=\"p\">[</span><span class=\"n\">s</span><span class=\"p\">[</span><span class=\"mi\">0</span><span class=\"p\">]]</span> <span class=\"o\">=</span> <span class=\"n\">s</span><span class=\"p\">[</span><span class=\"mi\">2</span><span class=\"p\">]</span>\n",
       "\t<span class=\"kn\">import</span> <span class=\"nn\">openalea.plantgl.all</span> <span class=\"k\">as</span> <span class=\"nn\">pgl</span>\n",
       "\t<span class=\"n\">pinfunc</span> <span class=\"o\">=</span> <span class=\"n\">pgl</span><span class=\"o\">.</span><span class=\"n\">NurbsCurve2D</span><span class=\"p\">(</span>\t\n",
       "\t    <span class=\"n\">ctrlPointList</span> <span class=\"o\">=</span> <span class=\"n\">pgl</span><span class=\"o\">.</span><span class=\"n\">Point3Array</span><span class=\"p\">([(</span><span class=\"mi\">0</span><span class=\"p\">,</span> <span class=\"mf\">0.05</span><span class=\"p\">,</span> <span class=\"mi\">1</span><span class=\"p\">),(</span><span class=\"mf\">0.0606061</span><span class=\"p\">,</span> <span class=\"mf\">0.663636</span><span class=\"p\">,</span> <span class=\"mi\">1</span><span class=\"p\">),(</span><span class=\"mf\">0.329545</span><span class=\"p\">,</span> <span class=\"mf\">0.213636</span><span class=\"p\">,</span> <span class=\"mi\">1</span><span class=\"p\">),(</span><span class=\"mf\">0.725758</span><span class=\"p\">,</span> <span class=\"mf\">0.131818</span><span class=\"p\">,</span> <span class=\"mi\">1</span><span class=\"p\">),(</span><span class=\"mi\">1</span><span class=\"p\">,</span> <span class=\"mf\">0.118182</span><span class=\"p\">,</span> <span class=\"mi\">1</span><span class=\"p\">)])</span> <span class=\"p\">,</span> \n",
       "\t    <span class=\"p\">)</span>\n",
       "\t<span class=\"n\">pinfunc</span><span class=\"o\">.</span><span class=\"n\">name</span> <span class=\"o\">=</span> <span class=\"s2\">&quot;pinfunc&quot;</span>\n",
       "\t<span class=\"n\">panel_0</span> <span class=\"o\">=</span> <span class=\"p\">({</span><span class=\"s1\">&#39;name&#39;</span><span class=\"p\">:</span> <span class=\"s1\">&#39;Panel 2&#39;</span><span class=\"p\">,</span> <span class=\"s1\">&#39;active&#39;</span><span class=\"p\">:</span> <span class=\"kc\">True</span><span class=\"p\">,</span> <span class=\"s1\">&#39;visible&#39;</span><span class=\"p\">:</span> <span class=\"kc\">False</span><span class=\"p\">},[(</span><span class=\"s1\">&#39;Function&#39;</span><span class=\"p\">,</span><span class=\"n\">pinfunc</span><span class=\"p\">)])</span>\n",
       "\t<span class=\"n\">parameterset</span> <span class=\"o\">=</span> <span class=\"p\">[</span><span class=\"n\">panel_0</span><span class=\"p\">,]</span>\n",
       "\t<span class=\"n\">context</span><span class=\"p\">[</span><span class=\"s2\">&quot;__functions__&quot;</span><span class=\"p\">]</span> <span class=\"o\">=</span> <span class=\"p\">[(</span><span class=\"s1\">&#39;pinfunc&#39;</span><span class=\"p\">,</span><span class=\"n\">pinfunc</span><span class=\"p\">),]</span>\n",
       "\t<span class=\"n\">context</span><span class=\"p\">[</span><span class=\"s2\">&quot;__curves__&quot;</span><span class=\"p\">]</span> <span class=\"o\">=</span> <span class=\"p\">[]</span>\n",
       "\t<span class=\"n\">context</span><span class=\"p\">[</span><span class=\"s2\">&quot;__parameterset__&quot;</span><span class=\"p\">]</span> <span class=\"o\">=</span> <span class=\"n\">parameterset</span>\n",
       "\t<span class=\"n\">context</span><span class=\"p\">[</span><span class=\"s2\">&quot;pinfunc&quot;</span><span class=\"p\">]</span> <span class=\"o\">=</span> <span class=\"n\">pgl</span><span class=\"o\">.</span><span class=\"n\">QuantisedFunction</span><span class=\"p\">(</span><span class=\"n\">pinfunc</span><span class=\"p\">)</span>\n",
       "</pre></div>\n"
      ],
      "text/latex": [
       "\\begin{Verbatim}[commandchars=\\\\\\{\\}]\n",
       "\\PY{k+kn}{from} \\PY{n+nn}{riemann\\PYZus{}lsystem}\\PY{n+nn}{.}\\PY{n+nn}{surfaces} \\PY{k+kn}{import} \\PY{o}{*}\n",
       "\\PY{k+kn}{from} \\PY{n+nn}{riemann\\PYZus{}lsystem}\\PY{n+nn}{.}\\PY{n+nn}{riemannianturtle} \\PY{k+kn}{import} \\PY{o}{*}\n",
       "\\PY{k+kn}{from} \\PY{n+nn}{math} \\PY{k+kn}{import} \\PY{n}{pi}\n",
       "\n",
       "\\PY{o}{\\PYZpc{}}\\PY{n}{pastefile} \\PY{o}{.}\\PY{o}{.}\\PY{o}{/}\\PY{n}{src}\\PY{o}{/}\\PY{n}{riemann\\PYZus{}lsystem}\\PY{o}{/}\\PY{n}{riemannianrules}\\PY{o}{.}\\PY{n}{lpy}\n",
       "\n",
       "\\PY{n}{R} \\PY{o}{=} \\PY{l+m+mi}{1}\n",
       "\\PY{n}{alpha0} \\PY{o}{=} \\PY{o}{\\PYZhy{}}\\PY{l+m+mi}{30}     \\PY{c+c1}{\\PYZsh{} in degrees}\n",
       "\\PY{n}{Axiom}\\PY{p}{:} \n",
       "  \\PY{n}{nproduce} \\PY{n}{SetSpace}\\PY{p}{(}\\PY{n}{Sphere}\\PY{p}{(}\\PY{n}{R}\\PY{p}{)}\\PY{p}{)} \\PY{n}{\\PYZus{}}\\PY{p}{(}\\PY{l+m+mf}{0.01}\\PY{p}{)}\n",
       "  \\PY{n}{nproduce} \\PY{p}{[}\\PY{p}{,}\\PY{p}{(}\\PY{l+m+mi}{0}\\PY{p}{)} \\PY{n}{PlotSpace}\\PY{p}{(}\\PY{p}{)} \\PY{p}{]}\n",
       "  \\PY{n}{nproduce} \\PY{n}{InitTurtle}\\PY{p}{(}\\PY{p}{(}\\PY{l+m+mi}{0}\\PY{p}{,}\\PY{l+m+mi}{0}\\PY{p}{,}\\PY{l+m+mi}{0}\\PY{p}{,}\\PY{l+m+mi}{1}\\PY{p}{)}\\PY{p}{)}\n",
       "  \\PY{n}{nproduce} \\PY{n}{ParallelTransportReset}\n",
       "  \\PY{n}{nproduce} \\PY{p}{[}\\PY{p}{,}\\PY{p}{(}\\PY{l+m+mi}{3}\\PY{p}{)} \\PY{n}{ParallelTransportedArrow}\\PY{p}{(}\\PY{n}{alpha0}\\PY{p}{,}\\PY{l+m+mf}{0.5}\\PY{p}{)} \\PY{p}{]}\n",
       "  \\PY{n}{nproduce} \\PY{n}{Path}\\PY{p}{(}\\PY{n}{R}\\PY{o}{*}\\PY{n}{pi}\\PY{o}{/}\\PY{l+m+mi}{2}\\PY{p}{)} \n",
       "  \\PY{n}{nproduce} \\PY{o}{+}\\PY{p}{(}\\PY{l+m+mi}{90}\\PY{p}{)} \\PY{n}{Path}\\PY{p}{(}\\PY{n}{R}\\PY{o}{*}\\PY{n}{pi}\\PY{o}{/}\\PY{l+m+mi}{2}\\PY{p}{)} \n",
       "  \\PY{n}{nproduce} \\PY{o}{+}\\PY{p}{(}\\PY{l+m+mi}{90}\\PY{p}{)} \\PY{n}{Path}\\PY{p}{(}\\PY{n}{R}\\PY{o}{*}\\PY{n}{pi}\\PY{o}{/}\\PY{l+m+mi}{2}\\PY{p}{)} \n",
       "\n",
       "\\PY{n}{derivation} \\PY{n}{length}\\PY{p}{:}\\PY{l+m+mi}{1}\n",
       "\\PY{n}{production}\\PY{p}{:}\n",
       "\\PY{n}{interpretation}\\PY{p}{:}\n",
       "\\PY{n}{Path}\\PY{p}{(}\\PY{n}{l}\\PY{p}{)}\\PY{p}{:}\n",
       "  \\PY{k}{for} \\PY{n}{i} \\PY{o+ow}{in} \\PY{n+nb}{range}\\PY{p}{(}\\PY{l+m+mi}{10}\\PY{p}{)}\\PY{p}{:}\n",
       "    \\PY{n}{nproduce} \\PY{n}{F}\\PY{p}{(}\\PY{n}{l}\\PY{o}{/}\\PY{l+m+mi}{10}\\PY{p}{)} \\PY{p}{[}\\PY{p}{,}\\PY{p}{(}\\PY{l+m+mi}{3}\\PY{p}{)} \\PY{n}{ParallelTransportedArrow}\\PY{p}{(}\\PY{n}{alpha0}\\PY{p}{,}\\PY{l+m+mf}{0.5}\\PY{p}{)} \\PY{p}{]}\n",
       "\\PY{n}{endlsystem}\n",
       "\\PY{c+c1}{\\PYZsh{}\\PYZsh{}\\PYZsh{}\\PYZsh{}\\PYZsh{}\\PYZsh{} INITIALISATION \\PYZsh{}\\PYZsh{}\\PYZsh{}\\PYZsh{}\\PYZsh{}\\PYZsh{}}\n",
       "\n",
       "\\PY{n}{\\PYZus{}\\PYZus{}lpy\\PYZus{}code\\PYZus{}version\\PYZus{}\\PYZus{}} \\PY{o}{=} \\PY{l+m+mf}{1.1}\n",
       "\n",
       "\\PY{k}{def} \\PY{n+nf}{\\PYZus{}\\PYZus{}initialiseContext\\PYZus{}\\PYZus{}}\\PY{p}{(}\\PY{n}{context}\\PY{p}{)}\\PY{p}{:}\n",
       "\t\\PY{k+kn}{import} \\PY{n+nn}{openalea}\\PY{n+nn}{.}\\PY{n+nn}{plantgl}\\PY{n+nn}{.}\\PY{n+nn}{all} \\PY{k}{as} \\PY{n+nn}{pgl}\n",
       "\t\\PY{n}{Color\\PYZus{}14} \\PY{o}{=} \\PY{n}{pgl}\\PY{o}{.}\\PY{n}{Material}\\PY{p}{(}\\PY{l+s+s2}{\\PYZdq{}}\\PY{l+s+s2}{Color\\PYZus{}14}\\PY{l+s+s2}{\\PYZdq{}} \\PY{p}{,} \\PY{n}{transparency} \\PY{o}{=} \\PY{l+m+mf}{0.45} \\PY{p}{,} \\PY{p}{)}\n",
       "\t\\PY{n}{Color\\PYZus{}14}\\PY{o}{.}\\PY{n}{name} \\PY{o}{=} \\PY{l+s+s2}{\\PYZdq{}}\\PY{l+s+s2}{Color\\PYZus{}14}\\PY{l+s+s2}{\\PYZdq{}}\n",
       "\t\\PY{n}{context}\\PY{o}{.}\\PY{n}{turtle}\\PY{o}{.}\\PY{n}{setMaterial}\\PY{p}{(}\\PY{l+m+mi}{14}\\PY{p}{,}\\PY{n}{Color\\PYZus{}14}\\PY{p}{)}\n",
       "\t\\PY{n}{context}\\PY{o}{.}\\PY{n}{animation\\PYZus{}timestep} \\PY{o}{=} \\PY{l+m+mf}{0.001}\n",
       "\t\\PY{n}{scalars} \\PY{o}{=} \\PY{p}{[}\\PY{p}{(}\\PY{l+s+s1}{\\PYZsq{}}\\PY{l+s+s1}{a}\\PY{l+s+s1}{\\PYZsq{}}\\PY{p}{,} \\PY{l+s+s1}{\\PYZsq{}}\\PY{l+s+s1}{Float}\\PY{l+s+s1}{\\PYZsq{}}\\PY{p}{,} \\PY{l+m+mf}{1.0}\\PY{p}{,} \\PY{l+m+mf}{0.1}\\PY{p}{,} \\PY{l+m+mf}{5.0}\\PY{p}{,} \\PY{l+m+mi}{2}\\PY{p}{)}\\PY{p}{,} \\PY{p}{(}\\PY{l+s+s1}{\\PYZsq{}}\\PY{l+s+s1}{b}\\PY{l+s+s1}{\\PYZsq{}}\\PY{p}{,} \\PY{l+s+s1}{\\PYZsq{}}\\PY{l+s+s1}{Float}\\PY{l+s+s1}{\\PYZsq{}}\\PY{p}{,} \\PY{l+m+mf}{2.87}\\PY{p}{,} \\PY{l+m+mf}{0.1}\\PY{p}{,} \\PY{l+m+mf}{5.0}\\PY{p}{,} \\PY{l+m+mi}{2}\\PY{p}{)}\\PY{p}{]}\n",
       "\t\\PY{n}{context}\\PY{p}{[}\\PY{l+s+s2}{\\PYZdq{}}\\PY{l+s+s2}{\\PYZus{}\\PYZus{}scalars\\PYZus{}\\PYZus{}}\\PY{l+s+s2}{\\PYZdq{}}\\PY{p}{]} \\PY{o}{=} \\PY{n}{scalars}\n",
       "\t\\PY{k}{for} \\PY{n}{s} \\PY{o+ow}{in} \\PY{n}{scalars}\\PY{p}{:}\n",
       "\t\t\\PY{k}{if} \\PY{o+ow}{not} \\PY{n}{s}\\PY{p}{[}\\PY{l+m+mi}{1}\\PY{p}{]} \\PY{o}{==} \\PY{l+s+s2}{\\PYZdq{}}\\PY{l+s+s2}{Category}\\PY{l+s+s2}{\\PYZdq{}} \\PY{p}{:} \\PY{n}{context}\\PY{p}{[}\\PY{n}{s}\\PY{p}{[}\\PY{l+m+mi}{0}\\PY{p}{]}\\PY{p}{]} \\PY{o}{=} \\PY{n}{s}\\PY{p}{[}\\PY{l+m+mi}{2}\\PY{p}{]}\n",
       "\t\\PY{k+kn}{import} \\PY{n+nn}{openalea}\\PY{n+nn}{.}\\PY{n+nn}{plantgl}\\PY{n+nn}{.}\\PY{n+nn}{all} \\PY{k}{as} \\PY{n+nn}{pgl}\n",
       "\t\\PY{n}{pinfunc} \\PY{o}{=} \\PY{n}{pgl}\\PY{o}{.}\\PY{n}{NurbsCurve2D}\\PY{p}{(}\t\n",
       "\t    \\PY{n}{ctrlPointList} \\PY{o}{=} \\PY{n}{pgl}\\PY{o}{.}\\PY{n}{Point3Array}\\PY{p}{(}\\PY{p}{[}\\PY{p}{(}\\PY{l+m+mi}{0}\\PY{p}{,} \\PY{l+m+mf}{0.05}\\PY{p}{,} \\PY{l+m+mi}{1}\\PY{p}{)}\\PY{p}{,}\\PY{p}{(}\\PY{l+m+mf}{0.0606061}\\PY{p}{,} \\PY{l+m+mf}{0.663636}\\PY{p}{,} \\PY{l+m+mi}{1}\\PY{p}{)}\\PY{p}{,}\\PY{p}{(}\\PY{l+m+mf}{0.329545}\\PY{p}{,} \\PY{l+m+mf}{0.213636}\\PY{p}{,} \\PY{l+m+mi}{1}\\PY{p}{)}\\PY{p}{,}\\PY{p}{(}\\PY{l+m+mf}{0.725758}\\PY{p}{,} \\PY{l+m+mf}{0.131818}\\PY{p}{,} \\PY{l+m+mi}{1}\\PY{p}{)}\\PY{p}{,}\\PY{p}{(}\\PY{l+m+mi}{1}\\PY{p}{,} \\PY{l+m+mf}{0.118182}\\PY{p}{,} \\PY{l+m+mi}{1}\\PY{p}{)}\\PY{p}{]}\\PY{p}{)} \\PY{p}{,} \n",
       "\t    \\PY{p}{)}\n",
       "\t\\PY{n}{pinfunc}\\PY{o}{.}\\PY{n}{name} \\PY{o}{=} \\PY{l+s+s2}{\\PYZdq{}}\\PY{l+s+s2}{pinfunc}\\PY{l+s+s2}{\\PYZdq{}}\n",
       "\t\\PY{n}{panel\\PYZus{}0} \\PY{o}{=} \\PY{p}{(}\\PY{p}{\\PYZob{}}\\PY{l+s+s1}{\\PYZsq{}}\\PY{l+s+s1}{name}\\PY{l+s+s1}{\\PYZsq{}}\\PY{p}{:} \\PY{l+s+s1}{\\PYZsq{}}\\PY{l+s+s1}{Panel 2}\\PY{l+s+s1}{\\PYZsq{}}\\PY{p}{,} \\PY{l+s+s1}{\\PYZsq{}}\\PY{l+s+s1}{active}\\PY{l+s+s1}{\\PYZsq{}}\\PY{p}{:} \\PY{k+kc}{True}\\PY{p}{,} \\PY{l+s+s1}{\\PYZsq{}}\\PY{l+s+s1}{visible}\\PY{l+s+s1}{\\PYZsq{}}\\PY{p}{:} \\PY{k+kc}{False}\\PY{p}{\\PYZcb{}}\\PY{p}{,}\\PY{p}{[}\\PY{p}{(}\\PY{l+s+s1}{\\PYZsq{}}\\PY{l+s+s1}{Function}\\PY{l+s+s1}{\\PYZsq{}}\\PY{p}{,}\\PY{n}{pinfunc}\\PY{p}{)}\\PY{p}{]}\\PY{p}{)}\n",
       "\t\\PY{n}{parameterset} \\PY{o}{=} \\PY{p}{[}\\PY{n}{panel\\PYZus{}0}\\PY{p}{,}\\PY{p}{]}\n",
       "\t\\PY{n}{context}\\PY{p}{[}\\PY{l+s+s2}{\\PYZdq{}}\\PY{l+s+s2}{\\PYZus{}\\PYZus{}functions\\PYZus{}\\PYZus{}}\\PY{l+s+s2}{\\PYZdq{}}\\PY{p}{]} \\PY{o}{=} \\PY{p}{[}\\PY{p}{(}\\PY{l+s+s1}{\\PYZsq{}}\\PY{l+s+s1}{pinfunc}\\PY{l+s+s1}{\\PYZsq{}}\\PY{p}{,}\\PY{n}{pinfunc}\\PY{p}{)}\\PY{p}{,}\\PY{p}{]}\n",
       "\t\\PY{n}{context}\\PY{p}{[}\\PY{l+s+s2}{\\PYZdq{}}\\PY{l+s+s2}{\\PYZus{}\\PYZus{}curves\\PYZus{}\\PYZus{}}\\PY{l+s+s2}{\\PYZdq{}}\\PY{p}{]} \\PY{o}{=} \\PY{p}{[}\\PY{p}{]}\n",
       "\t\\PY{n}{context}\\PY{p}{[}\\PY{l+s+s2}{\\PYZdq{}}\\PY{l+s+s2}{\\PYZus{}\\PYZus{}parameterset\\PYZus{}\\PYZus{}}\\PY{l+s+s2}{\\PYZdq{}}\\PY{p}{]} \\PY{o}{=} \\PY{n}{parameterset}\n",
       "\t\\PY{n}{context}\\PY{p}{[}\\PY{l+s+s2}{\\PYZdq{}}\\PY{l+s+s2}{pinfunc}\\PY{l+s+s2}{\\PYZdq{}}\\PY{p}{]} \\PY{o}{=} \\PY{n}{pgl}\\PY{o}{.}\\PY{n}{QuantisedFunction}\\PY{p}{(}\\PY{n}{pinfunc}\\PY{p}{)}\n",
       "\\end{Verbatim}\n"
      ],
      "text/plain": [
       "from riemann_lsystem.surfaces import *\n",
       "from riemann_lsystem.riemannianturtle import *\n",
       "from math import pi\n",
       "\n",
       "%pastefile ../src/riemann_lsystem/riemannianrules.lpy\n",
       "\n",
       "R = 1\n",
       "alpha0 = -30     # in degrees\n",
       "Axiom: \n",
       "  nproduce SetSpace(Sphere(R)) _(0.01)\n",
       "  nproduce [,(0) PlotSpace() ]\n",
       "  nproduce InitTurtle((0,0,0,1))\n",
       "  nproduce ParallelTransportReset\n",
       "  nproduce [,(3) ParallelTransportedArrow(alpha0,0.5) ]\n",
       "  nproduce Path(R*pi/2) \n",
       "  nproduce +(90) Path(R*pi/2) \n",
       "  nproduce +(90) Path(R*pi/2) \n",
       "\n",
       "derivation length:1\n",
       "production:\n",
       "interpretation:\n",
       "Path(l):\n",
       "  for i in range(10):\n",
       "    nproduce F(l/10) [,(3) ParallelTransportedArrow(alpha0,0.5) ]\n",
       "endlsystem\n",
       "###### INITIALISATION ######\n",
       "\n",
       "__lpy_code_version__ = 1.1\n",
       "\n",
       "def __initialiseContext__(context):\n",
       "\timport openalea.plantgl.all as pgl\n",
       "\tColor_14 = pgl.Material(\"Color_14\" , transparency = 0.45 , )\n",
       "\tColor_14.name = \"Color_14\"\n",
       "\tcontext.turtle.setMaterial(14,Color_14)\n",
       "\tcontext.animation_timestep = 0.001\n",
       "\tscalars = [('a', 'Float', 1.0, 0.1, 5.0, 2), ('b', 'Float', 2.87, 0.1, 5.0, 2)]\n",
       "\tcontext[\"__scalars__\"] = scalars\n",
       "\tfor s in scalars:\n",
       "\t\tif not s[1] == \"Category\" : context[s[0]] = s[2]\n",
       "\timport openalea.plantgl.all as pgl\n",
       "\tpinfunc = pgl.NurbsCurve2D(\t\n",
       "\t    ctrlPointList = pgl.Point3Array([(0, 0.05, 1),(0.0606061, 0.663636, 1),(0.329545, 0.213636, 1),(0.725758, 0.131818, 1),(1, 0.118182, 1)]) , \n",
       "\t    )\n",
       "\tpinfunc.name = \"pinfunc\"\n",
       "\tpanel_0 = ({'name': 'Panel 2', 'active': True, 'visible': False},[('Function',pinfunc)])\n",
       "\tparameterset = [panel_0,]\n",
       "\tcontext[\"__functions__\"] = [('pinfunc',pinfunc),]\n",
       "\tcontext[\"__curves__\"] = []\n",
       "\tcontext[\"__parameterset__\"] = parameterset\n",
       "\tcontext[\"pinfunc\"] = pgl.QuantisedFunction(pinfunc)"
      ]
     },
     "metadata": {},
     "output_type": "display_data"
    },
    {
     "name": "stderr",
     "output_type": "stream",
     "text": [
      "Fig08-Listing5.lpy:375: Warning: IndentationWarning: missing indent.\n",
      "Fig08-Listing5.lpy:379: Warning: IndentationWarning: missing indent.\n",
      "Fig08-Listing5.lpy:382: Warning: IndentationWarning: missing indent.\n",
      "Fig08-Listing5.lpy:387: Warning: IndentationWarning: missing indent.\n",
      "Fig08-Listing5.lpy:390: Warning: IndentationWarning: missing indent.\n",
      "Fig08-Listing5.lpy:419: Warning: IndentationWarning: missing indent.\n",
      "Fig08-Listing5.lpy:433: Warning: IndentationWarning: missing indent.\n",
      "Fig08-Listing5.lpy:475: Warning: IndentationWarning: missing indent.\n",
      "Fig08-Listing5.lpy:486: Warning: IndentationWarning: missing indent.\n",
      "Fig08-Listing5.lpy:513: Warning: IndentationWarning: missing indent.\n",
      "Fig08-Listing5.lpy:526: Warning: IndentationWarning: missing indent.\n",
      "Fig08-Listing5.lpy:540: Warning: IndentationWarning: missing indent.\n",
      "Fig08-Listing5.lpy:542: Warning: IndentationWarning: missing indent.\n",
      "Fig08-Listing5.lpy:550: Warning: IndentationWarning: missing indent.\n",
      "Fig08-Listing5.lpy:552: Warning: IndentationWarning: missing indent.\n",
      "Fig08-Listing5.lpy:562: Warning: IndentationWarning: missing indent.\n",
      "Fig08-Listing5.lpy:564: Warning: IndentationWarning: missing indent.\n",
      "Fig08-Listing5.lpy:687: Warning: IndentationWarning: missing indent.\n",
      "Fig08-Listing5.lpy:692: Warning: IndentationWarning: missing indent.\n",
      "Fig08-Listing5.lpy:732: Warning: IndentationWarning: missing indent.\n",
      "Fig08-Listing5.lpy:749: Warning: IndentationWarning: missing indent.\n",
      "Fig08-Listing5.lpy:754: Warning: IndentationWarning: missing indent.\n",
      "Fig08-Listing5.lpy:760: Warning: IndentationWarning: missing indent.\n",
      "Fig08-Listing5.lpy:375: Warning: IndentationWarning: missing indent.\n",
      "Fig08-Listing5.lpy:379: Warning: IndentationWarning: missing indent.\n",
      "Fig08-Listing5.lpy:382: Warning: IndentationWarning: missing indent.\n",
      "Fig08-Listing5.lpy:387: Warning: IndentationWarning: missing indent.\n",
      "Fig08-Listing5.lpy:390: Warning: IndentationWarning: missing indent.\n",
      "Fig08-Listing5.lpy:419: Warning: IndentationWarning: missing indent.\n",
      "Fig08-Listing5.lpy:433: Warning: IndentationWarning: missing indent.\n",
      "Fig08-Listing5.lpy:475: Warning: IndentationWarning: missing indent.\n",
      "Fig08-Listing5.lpy:486: Warning: IndentationWarning: missing indent.\n",
      "Fig08-Listing5.lpy:513: Warning: IndentationWarning: missing indent.\n",
      "Fig08-Listing5.lpy:526: Warning: IndentationWarning: missing indent.\n",
      "Fig08-Listing5.lpy:540: Warning: IndentationWarning: missing indent.\n",
      "Fig08-Listing5.lpy:542: Warning: IndentationWarning: missing indent.\n",
      "Fig08-Listing5.lpy:550: Warning: IndentationWarning: missing indent.\n",
      "Fig08-Listing5.lpy:552: Warning: IndentationWarning: missing indent.\n",
      "Fig08-Listing5.lpy:562: Warning: IndentationWarning: missing indent.\n",
      "Fig08-Listing5.lpy:564: Warning: IndentationWarning: missing indent.\n",
      "Fig08-Listing5.lpy:687: Warning: IndentationWarning: missing indent.\n",
      "Fig08-Listing5.lpy:692: Warning: IndentationWarning: missing indent.\n",
      "Fig08-Listing5.lpy:732: Warning: IndentationWarning: missing indent.\n",
      "Fig08-Listing5.lpy:749: Warning: IndentationWarning: missing indent.\n",
      "Fig08-Listing5.lpy:754: Warning: IndentationWarning: missing indent.\n",
      "Fig08-Listing5.lpy:760: Warning: IndentationWarning: missing indent.\n"
     ]
    },
    {
     "data": {
      "application/vnd.jupyter.widget-view+json": {
       "model_id": "8bd0404eec3247c6adbd0e124721b26a",
       "version_major": 2,
       "version_minor": 0
      },
      "text/plain": [
       "LsystemWidget(derivationLength=1, derivationNumber=None, scene={'data': b'x\\xdaL\\xdd\\x05TV\\xcb\\x16\\x07p\\x10\\x1…"
      ]
     },
     "metadata": {},
     "output_type": "display_data"
    }
   ],
   "source": [
    "display_example('Fig08-Listing5.lpy','Figure 8: Holonomy and parallel transport using Riemannian Lsystems}. (a-b) parallel transport of a vector along a polygon made of geodesics. The vector is initially tangent to the first geodesic, then is perpendicular to the tangent on the second geodesic, then points backward on the third geodesic segment. (d-c) parallel transport of a vector not tangent to the first geodesic. The vector keeps a constant angle with the tangent vector, but this angle changes each time the turtle turns. (e-f) parallel transport along a curve that is not a geodesic: the angle between the transporting curve and the transported vector varies continuously.')"
   ]
  }
 ],
 "metadata": {
  "kernelspec": {
   "display_name": "Python 3 (ipykernel)",
   "language": "python",
   "name": "python3"
  },
  "language_info": {
   "codemirror_mode": {
    "name": "ipython",
    "version": 3
   },
   "file_extension": ".py",
   "mimetype": "text/x-python",
   "name": "python",
   "nbconvert_exporter": "python",
   "pygments_lexer": "ipython3",
   "version": "3.10.10"
  },
  "widgets": {
   "application/vnd.jupyter.widget-state+json": {
    "state": {
     "22fbc6a7146341d4a933a0755d16525f": {
      "model_module": "pgljupyter",
      "model_module_version": "^2.0.0",
      "model_name": "LsystemWidgetModel",
      "state": {
       "_model_module_version": "^2.0.0",
       "_view_module_version": "^2.0.0",
       "axes_helper": false,
       "derivationLength": 5,
       "layout": "IPY_MODEL_7f9f722a37fd4061a467e9565137bae2",
       "light_helper": false,
       "plane": true,
       "size_display": [
        400,
        400
       ],
       "size_world": 50
      }
     },
     "23faef02399b406f96437da86e365873": {
      "model_module": "@jupyter-widgets/base",
      "model_module_version": "2.0.0",
      "model_name": "LayoutModel",
      "state": {}
     },
     "36605d5135aa49bd9a51015e41eda229": {
      "buffers": [
       {
        "data": "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",
        "encoding": "base64",
        "path": [
         "scene",
         "data"
        ]
       }
      ],
      "model_module": "pgljupyter",
      "model_module_version": "^2.0.0",
      "model_name": "LsystemWidgetModel",
      "state": {
       "_model_module_version": "^2.0.0",
       "_view_module_version": "^2.0.0",
       "axes_helper": false,
       "derivationLength": 10,
       "derivationNumber": 9,
       "layout": "IPY_MODEL_f414a778296f424aabce4a0276182549",
       "light_helper": false,
       "plane": true,
       "scene": {
        "derivationStep": 9,
        "id": 9,
        "scene": "<openalea.plantgl.scenegraph._pglsg.Scene object at 0x1162f9230>"
       },
       "size_display": [
        400,
        400
       ],
       "size_world": 50
      }
     },
     "451a70c06e534cf9a39569569857b1a1": {
      "model_module": "@jupyter-widgets/base",
      "model_module_version": "2.0.0",
      "model_name": "LayoutModel",
      "state": {}
     },
     "7291846db073457b9fbb102f3fd08059": {
      "model_module": "@jupyter-widgets/base",
      "model_module_version": "2.0.0",
      "model_name": "LayoutModel",
      "state": {}
     },
     "7f8e8b86f56a480e96896067c04af829": {
      "buffers": [
       {
        "data": "eNqN1j1P20AYB/DjtVHES0QpBISQgYqt7fl8Pp+lVjii9GVAoNK1SlIRtZQIUGBhy1RVXWDsyFB1Qe3CB4izU6kbUyX6Dbp073OEOP4nlhJLifzy5H5+7L8vXnj7fG1jnTErGE1bS0sLQ4yx/iG29b54UJqk9YEUWy8elSo7xXIfbY6m2OpxeWdvu1QxR6dTbKOyU9o7Km1naNNKs9eV4t5hmX6xfZd2LJii/hm29SK3ufbyaZ7nbe66rmMLl/tKaE2H2X0zbpaZ84iXOEIK6YibkvTPy8snbOAOW90v71fydjj+jz3OPRhnLAhiw4vY8NrmWvezxmJFw0cltlK+pPEZLNWV6caKabZKn5Wrizcro419qZuzIJP1mROIwRL6klIPmr4BlgA7gjfJq4vfNTNoG1zrhINOWAHsKD1M5YMAK4AF10343enn0HSIcLXGTpzvCFc7YQ2wLXSKyocB1gC7UiJcCBM6riF81oRnI9iGDLm+0mlTb+SZptyquaGVq6IbfHLxkLEwTLjLbXSYQAtoWmk9YrKJNAbMU9Hl/vPsW0D3METmOoHBNCmux6h+BBmIk2tziUw16CHHuU4a8+QKbR7rMaQxUL4v2pKc657kTALdSpT0hOacT1B9BulYpDwtJI8eoq+72TpFKmjP8sH58A+krU5a8DhNieJm2poAWnCgXVsg/auHNPMEWgDtKT5F9ZNIC6CViO51cHj9iL7r3dMcJNASaC15luqnkJZAe45qxWw5Zx4kZDYTGAWML/gs1WeRUcBoqZG57iHNhQQ6Finf4TQtz1H9LNLxWcrTvEU30lzoIc0HnbTD47TNuZ6n+jmgHQ60raI03zvZNZHqSPPfSqEtzdUEWkDXdDEtqp9HOj5Lecpuzc0NOlvvnuZPCbQEmia/RcMiLaFrR0f05vlHugKnPaT5NIFWQNOkaV4rFpFWQEs/SvOrD8cUs0wdmS8JDEaK/gKWb99gYgxGSngCGSvXPc1nt/R/Z5zi5Q==",
        "encoding": "base64",
        "path": [
         "scene",
         "data"
        ]
       }
      ],
      "model_module": "pgljupyter",
      "model_module_version": "^2.0.0",
      "model_name": "LsystemWidgetModel",
      "state": {
       "_model_module_version": "^2.0.0",
       "_view_module_version": "^2.0.0",
       "axes_helper": false,
       "derivationLength": 20,
       "derivationNumber": 19,
       "layout": "IPY_MODEL_23faef02399b406f96437da86e365873",
       "light_helper": false,
       "plane": true,
       "scene": {
        "derivationStep": 19,
        "id": 19,
        "scene": "<openalea.plantgl.scenegraph._pglsg.Scene object at 0x1162f8190>"
       },
       "size_display": [
        400,
        400
       ],
       "size_world": 50
      }
     },
     "7f9f722a37fd4061a467e9565137bae2": {
      "model_module": "@jupyter-widgets/base",
      "model_module_version": "2.0.0",
      "model_name": "LayoutModel",
      "state": {}
     },
     "8262734eb2cd4a76b407c2bf36341f27": {
      "buffers": [
       {
        "data": "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",
        "encoding": "base64",
        "path": [
         "scene",
         "data"
        ]
       }
      ],
      "model_module": "pgljupyter",
      "model_module_version": "^2.0.0",
      "model_name": "LsystemWidgetModel",
      "state": {
       "_model_module_version": "^2.0.0",
       "_view_module_version": "^2.0.0",
       "axes_helper": false,
       "derivationLength": 5,
       "derivationNumber": 4,
       "layout": "IPY_MODEL_ed6f7bd57e9e47f2b070b4b2b8c5d50e",
       "light_helper": false,
       "plane": true,
       "scene": {
        "derivationStep": 4,
        "id": 4,
        "scene": "<openalea.plantgl.scenegraph._pglsg.Scene object at 0x116322570>"
       },
       "size_display": [
        400,
        400
       ],
       "size_world": 50
      }
     },
     "8bd0404eec3247c6adbd0e124721b26a": {
      "buffers": [
       {
        "data": "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",
        "encoding": "base64",
        "path": [
         "scene",
         "data"
        ]
       }
      ],
      "model_module": "pgljupyter",
      "model_module_version": "^2.0.0",
      "model_name": "LsystemWidgetModel",
      "state": {
       "_model_module_version": "^2.0.0",
       "_view_module_version": "^2.0.0",
       "axes_helper": false,
       "derivationLength": 1,
       "layout": "IPY_MODEL_451a70c06e534cf9a39569569857b1a1",
       "light_helper": false,
       "plane": true,
       "scene": {
        "derivationStep": null,
        "id": null,
        "scene": "<openalea.plantgl.scenegraph._pglsg.Scene object at 0x11644bed0>"
       },
       "size_display": [
        400,
        400
       ],
       "size_world": 50
      }
     },
     "b18320d6a157432aa77489bbac106f5b": {
      "buffers": [
       {
        "data": "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",
        "encoding": "base64",
        "path": [
         "scene",
         "data"
        ]
       }
      ],
      "model_module": "pgljupyter",
      "model_module_version": "^2.0.0",
      "model_name": "LsystemWidgetModel",
      "state": {
       "_model_module_version": "^2.0.0",
       "_view_module_version": "^2.0.0",
       "axes_helper": false,
       "derivationLength": 100,
       "derivationNumber": 99,
       "layout": "IPY_MODEL_7291846db073457b9fbb102f3fd08059",
       "light_helper": false,
       "plane": true,
       "scene": {
        "derivationStep": 99,
        "id": 99,
        "scene": "<openalea.plantgl.scenegraph._pglsg.Scene object at 0x1163385f0>"
       },
       "size_display": [
        400,
        400
       ],
       "size_world": 50
      }
     },
     "b5e9e2a25e844af3acb4780b2d1926ee": {
      "model_module": "pgljupyter",
      "model_module_version": "^2.0.0",
      "model_name": "LsystemWidgetModel",
      "state": {
       "_model_module_version": "^2.0.0",
       "_view_module_version": "^2.0.0",
       "axes_helper": false,
       "derivationLength": 10,
       "layout": "IPY_MODEL_cce1a722eabc48f7bddd17a34bb20761",
       "light_helper": false,
       "plane": true,
       "size_display": [
        400,
        400
       ],
       "size_world": 50
      }
     },
     "cce1a722eabc48f7bddd17a34bb20761": {
      "model_module": "@jupyter-widgets/base",
      "model_module_version": "2.0.0",
      "model_name": "LayoutModel",
      "state": {}
     },
     "ed6f7bd57e9e47f2b070b4b2b8c5d50e": {
      "model_module": "@jupyter-widgets/base",
      "model_module_version": "2.0.0",
      "model_name": "LayoutModel",
      "state": {}
     },
     "f414a778296f424aabce4a0276182549": {
      "model_module": "@jupyter-widgets/base",
      "model_module_version": "2.0.0",
      "model_name": "LayoutModel",
      "state": {}
     }
    },
    "version_major": 2,
    "version_minor": 0
   }
  }
 },
 "nbformat": 4,
 "nbformat_minor": 5
}
